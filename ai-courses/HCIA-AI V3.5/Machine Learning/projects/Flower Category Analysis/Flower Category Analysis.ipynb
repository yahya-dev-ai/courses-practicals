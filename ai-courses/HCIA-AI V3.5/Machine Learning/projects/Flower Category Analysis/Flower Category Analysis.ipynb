{
 "cells": [
  {
   "cell_type": "markdown",
   "metadata": {},
   "source": [
    "# 🚀 Flower Category Analysis"
   ]
  },
  {
   "cell_type": "markdown",
   "metadata": {},
   "source": [
    "## 📝 Introduction & Objectives"
   ]
  },
  {
   "cell_type": "markdown",
   "metadata": {},
   "source": [
    "<details>\n",
    "<summary><strong>🔍 Iris Classification Model Overview</strong></summary>\n",
    "\n",
    "An **iris classification model** uses the open-source Iris dataset from scikit-learn to classify flower species based on measured features.\n",
    "\n",
    "</details>\n",
    "\n",
    "<details>\n",
    "<summary><strong>🎯 Benefits of Using the Iris Dataset</strong></summary>\n",
    "\n",
    "- 📂 **Demonstrates basic scikit-learn workflow**  \n",
    "  - _e.g., simple training and prediction process_  \n",
    "- 📊 **Shows essential data preprocessing steps**  \n",
    "  - _e.g., handling numerical features before model training_  \n",
    "- 🌸 **Introduces multi-class classification concepts**  \n",
    "  - _e.g., distinguishing between three iris species_  \n",
    "- 🗂 **Uses a small, manageable dataset suitable for beginners**  \n",
    "  - _e.g., only 150 samples for quick experimentation_  \n",
    "\n",
    "</details>"
   ]
  },
  {
   "cell_type": "markdown",
   "metadata": {},
   "source": [
    "## 🛠️ Data Loading and Initial Exploration"
   ]
  },
  {
   "cell_type": "code",
   "execution_count": 1,
   "metadata": {},
   "outputs": [
    {
     "data": {
      "text/html": [
       "<div>\n",
       "<style scoped>\n",
       "    .dataframe tbody tr th:only-of-type {\n",
       "        vertical-align: middle;\n",
       "    }\n",
       "\n",
       "    .dataframe tbody tr th {\n",
       "        vertical-align: top;\n",
       "    }\n",
       "\n",
       "    .dataframe thead th {\n",
       "        text-align: right;\n",
       "    }\n",
       "</style>\n",
       "<table border=\"1\" class=\"dataframe\">\n",
       "  <thead>\n",
       "    <tr style=\"text-align: right;\">\n",
       "      <th></th>\n",
       "      <th>sepal length (cm)</th>\n",
       "      <th>sepal width (cm)</th>\n",
       "      <th>petal length (cm)</th>\n",
       "      <th>petal width (cm)</th>\n",
       "      <th>target</th>\n",
       "    </tr>\n",
       "  </thead>\n",
       "  <tbody>\n",
       "    <tr>\n",
       "      <th>0</th>\n",
       "      <td>5.1</td>\n",
       "      <td>3.5</td>\n",
       "      <td>1.4</td>\n",
       "      <td>0.2</td>\n",
       "      <td>0</td>\n",
       "    </tr>\n",
       "    <tr>\n",
       "      <th>1</th>\n",
       "      <td>4.9</td>\n",
       "      <td>3.0</td>\n",
       "      <td>1.4</td>\n",
       "      <td>0.2</td>\n",
       "      <td>0</td>\n",
       "    </tr>\n",
       "    <tr>\n",
       "      <th>2</th>\n",
       "      <td>4.7</td>\n",
       "      <td>3.2</td>\n",
       "      <td>1.3</td>\n",
       "      <td>0.2</td>\n",
       "      <td>0</td>\n",
       "    </tr>\n",
       "    <tr>\n",
       "      <th>3</th>\n",
       "      <td>4.6</td>\n",
       "      <td>3.1</td>\n",
       "      <td>1.5</td>\n",
       "      <td>0.2</td>\n",
       "      <td>0</td>\n",
       "    </tr>\n",
       "    <tr>\n",
       "      <th>4</th>\n",
       "      <td>5.0</td>\n",
       "      <td>3.6</td>\n",
       "      <td>1.4</td>\n",
       "      <td>0.2</td>\n",
       "      <td>0</td>\n",
       "    </tr>\n",
       "  </tbody>\n",
       "</table>\n",
       "</div>"
      ],
      "text/plain": [
       "   sepal length (cm)  sepal width (cm)  petal length (cm)  petal width (cm)  \\\n",
       "0                5.1               3.5                1.4               0.2   \n",
       "1                4.9               3.0                1.4               0.2   \n",
       "2                4.7               3.2                1.3               0.2   \n",
       "3                4.6               3.1                1.5               0.2   \n",
       "4                5.0               3.6                1.4               0.2   \n",
       "\n",
       "   target  \n",
       "0       0  \n",
       "1       0  \n",
       "2       0  \n",
       "3       0  \n",
       "4       0  "
      ]
     },
     "execution_count": 1,
     "metadata": {},
     "output_type": "execute_result"
    }
   ],
   "source": [
    "import warnings\n",
    "warnings.filterwarnings(\"ignore\")\n",
    "\n",
    "import numpy as np\n",
    "import matplotlib.pyplot as plt\n",
    "import pandas as pd\n",
    "\n",
    "# Importing the internal dataset\n",
    "from sklearn.datasets import load_iris\n",
    "\n",
    "df = load_iris() \n",
    "\n",
    "df = pd.DataFrame(data=df.data, columns=df.feature_names)\n",
    "df['target'] = load_iris().target\n",
    "\n",
    "df.head()"
   ]
  },
  {
   "cell_type": "code",
   "execution_count": 2,
   "metadata": {},
   "outputs": [
    {
     "data": {
      "text/plain": [
       "(150, 5)"
      ]
     },
     "execution_count": 2,
     "metadata": {},
     "output_type": "execute_result"
    }
   ],
   "source": [
    "df.shape"
   ]
  },
  {
   "cell_type": "markdown",
   "metadata": {},
   "source": [
    "## ⚙️ Data Preprocessing & Feature Engineering"
   ]
  },
  {
   "cell_type": "code",
   "execution_count": 3,
   "metadata": {},
   "outputs": [
    {
     "name": "stdout",
     "output_type": "stream",
     "text": [
      "Train shape: (112, 4)\n"
     ]
    }
   ],
   "source": [
    "# Import necessary libraries for splitting the dataset\n",
    "from sklearn.model_selection import train_test_split\n",
    "\n",
    "# Split features & target\n",
    "X = df.drop(columns=['target'])\n",
    "y = df['target']\n",
    "\n",
    "# Train-test split (80% / 20%)\n",
    "X_train, X_test, y_train, y_test = train_test_split(\n",
    "    X, y, test_size=0.25, random_state=42, stratify=y\n",
    ")\n",
    "\n",
    "print(\"Train shape:\", X_train.shape)"
   ]
  },
  {
   "cell_type": "markdown",
   "metadata": {},
   "source": [
    "## 🧠 Model Training"
   ]
  },
  {
   "cell_type": "code",
   "execution_count": 4,
   "metadata": {},
   "outputs": [],
   "source": [
    "# Import algorithm model\n",
    "from sklearn.linear_model import LogisticRegression\n",
    "from sklearn.neighbors import KNeighborsClassifier\n",
    "from sklearn import svm\n",
    "from sklearn.tree import DecisionTreeClassifier\n",
    "from sklearn.svm import SVC\n",
    "import matplotlib.pyplot as plt"
   ]
  },
  {
   "cell_type": "code",
   "execution_count": 5,
   "metadata": {},
   "outputs": [
    {
     "name": "stdout",
     "output_type": "stream",
     "text": [
      "The accuracy of the Logistic Regression is  0.9473684210526315\n"
     ]
    }
   ],
   "source": [
    "# Create a Logistic Regression model instance\n",
    "lr = LogisticRegression()\n",
    "\n",
    "# Train the model using the training data\n",
    "lr.fit(X_train, y_train)\n",
    "\n",
    "# Display the accuracy\n",
    "print(\"The accuracy of the Logistic Regression is \", lr.score(X_test, y_test))"
   ]
  },
  {
   "cell_type": "code",
   "execution_count": 6,
   "metadata": {},
   "outputs": [
    {
     "name": "stdout",
     "output_type": "stream",
     "text": [
      "SVM accuracy: 0.8947368421052632\n"
     ]
    }
   ],
   "source": [
    "# Checking SVM which is used for classification that predicts the category of flowers\n",
    "\n",
    "X_tr, X_te, y_tr, y_te = train_test_split(\n",
    "    X, y, test_size=0.25, random_state=12, stratify=y\n",
    ")\n",
    "\n",
    "clf = SVC(kernel=\"rbf\", C=1.0, gamma=\"scale\") \n",
    "clf.fit(X_tr, y_tr)\n",
    "print(\"SVM accuracy:\", clf.score(X_te, y_te))"
   ]
  },
  {
   "cell_type": "markdown",
   "metadata": {},
   "source": [
    "## 📈 Model Evaluation"
   ]
  },
  {
   "cell_type": "code",
   "execution_count": 7,
   "metadata": {},
   "outputs": [
    {
     "name": "stdout",
     "output_type": "stream",
     "text": [
      "after [1. 1. 1. 1.] [-2.25018417e-15 -9.68471335e-16 -4.89687656e-16 -1.03092138e-16]\n",
      "\n",
      "SVM: 0.9473684210526315\n"
     ]
    }
   ],
   "source": [
    "# Data Standardization\n",
    "from sklearn.preprocessing import StandardScaler\n",
    "\n",
    "# Standardize training and test data\n",
    "scaler = StandardScaler()\n",
    "X_tr_std = scaler.fit_transform(X_train)\n",
    "X_te_std = scaler.transform(X_test)\n",
    "\n",
    "# Print in the same style as your screenshot (no rounding)\n",
    "print(\"after\", X_tr_std.std(axis=0), X_tr_std.mean(axis=0))\n",
    "\n",
    "svm = SVC()\n",
    "svm.fit(X_tr_std, y_train)\n",
    "score = svm.score(X_te_std, y_test)\n",
    "\n",
    "print(\"\\nSVM:\", score)"
   ]
  }
 ],
 "metadata": {
  "kernelspec": {
   "display_name": ".venv",
   "language": "python",
   "name": "python3"
  },
  "language_info": {
   "codemirror_mode": {
    "name": "ipython",
    "version": 3
   },
   "file_extension": ".py",
   "mimetype": "text/x-python",
   "name": "python",
   "nbconvert_exporter": "python",
   "pygments_lexer": "ipython3",
   "version": "3.12.3"
  }
 },
 "nbformat": 4,
 "nbformat_minor": 4
}
