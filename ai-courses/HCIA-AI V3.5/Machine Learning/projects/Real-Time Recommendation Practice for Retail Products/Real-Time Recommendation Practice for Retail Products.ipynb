{
    "cells": [
        {
            "cell_type": "markdown",
            "id": "#VSC-c91552f5",
            "metadata": {
                "language": "markdown"
            },
            "source": [
                "# 🚀 Real-Time Recommendation Practice for Retail Products"
            ]
        },
        {
            "cell_type": "markdown",
            "id": "#VSC-overview",
            "metadata": {
                "language": "markdown"
            },
            "source": [
                "<details>\n",
                "<summary><strong>🔍 Recommendation System Overview</strong></summary>\n",
                "\n",
                "A recommendation system helps users discover products by finding similarities between users and items, then providing personalized suggestions. In today's data-rich e-commerce world, recommendation systems make it easier for users to find what interests them.\n",
                "\n",
                "</details>\n",
                "\n",
                "<details>\n",
                "<summary><strong>🎯 Benefits of Recommendation Systems</strong></summary>\n",
                "\n",
                "- ⚡ **Helps users find the right products**\n",
                "- 📈 **Increases user engagement** (e.g., Google News saw a 40% increase in hits through recommendations)\n",
                "- 🎯 **Delivers products to the right users** (e.g., 35% of Amazon sales come from recommendations)\n",
                "- 🎬 **Personalizes recommended content** (e.g., most Netflix rentals are recommended movies)\n",
                "\n",
                "</details>"
            ]
        },
        {
            "cell_type": "markdown",
            "id": "#VSC-data-prep",
            "metadata": {
                "language": "markdown"
            },
            "source": [
                "## 🛠️ Data Collection & Preparation\n",
                "Gathering and preparing the ratings data for analysis and modeling."
            ]
        },
        {
            "cell_type": "code",
            "execution_count": 1,
            "id": "#VSC-64acfc0b",
            "metadata": {
                "language": "python"
            },
            "outputs": [],
            "source": [
                "# Import module packages required by the project.\n",
                "import numpy as np \n",
                "import pandas as pd \n",
                "import matplotlib.pyplot as plt\n",
                "import seaborn as sns"
            ]
        },
        {
            "cell_type": "markdown",
            "id": "#VSC-load-inspect",
            "metadata": {
                "language": "markdown"
            },
            "source": [
                "### Loading and Inspecting Data\n",
                "Understanding the structure and quality of the ratings dataset."
            ]
        },
        {
            "cell_type": "code",
            "execution_count": 2,
            "id": "#VSC-5214add1",
            "metadata": {
                "language": "python"
            },
            "outputs": [
                {
                    "data": {
                        "text/html": [
                            "<div>\n",
                            "<style scoped>\n",
                            "    .dataframe tbody tr th:only-of-type {\n",
                            "        vertical-align: middle;\n",
                            "    }\n",
                            "\n",
                            "    .dataframe tbody tr th {\n",
                            "        vertical-align: top;\n",
                            "    }\n",
                            "\n",
                            "    .dataframe thead th {\n",
                            "        text-align: right;\n",
                            "    }\n",
                            "</style>\n",
                            "<table border=\"1\" class=\"dataframe\">\n",
                            "  <thead>\n",
                            "    <tr style=\"text-align: right;\">\n",
                            "      <th></th>\n",
                            "      <th>userId</th>\n",
                            "      <th>productId</th>\n",
                            "      <th>Rating</th>\n",
                            "      <th>timestamp</th>\n",
                            "    </tr>\n",
                            "  </thead>\n",
                            "  <tbody>\n",
                            "    <tr>\n",
                            "      <th>0</th>\n",
                            "      <td>AKM1MP6P0OYPR</td>\n",
                            "      <td>0132793040</td>\n",
                            "      <td>5.0</td>\n",
                            "      <td>1365811200</td>\n",
                            "    </tr>\n",
                            "    <tr>\n",
                            "      <th>1</th>\n",
                            "      <td>A2CX7LUOHB2NDG</td>\n",
                            "      <td>0321732944</td>\n",
                            "      <td>5.0</td>\n",
                            "      <td>1341100800</td>\n",
                            "    </tr>\n",
                            "    <tr>\n",
                            "      <th>2</th>\n",
                            "      <td>A2NWSAGRHCP8N5</td>\n",
                            "      <td>0439886341</td>\n",
                            "      <td>1.0</td>\n",
                            "      <td>1367193600</td>\n",
                            "    </tr>\n",
                            "    <tr>\n",
                            "      <th>3</th>\n",
                            "      <td>A2WNBOD3WNDNKT</td>\n",
                            "      <td>0439886341</td>\n",
                            "      <td>3.0</td>\n",
                            "      <td>1374451200</td>\n",
                            "    </tr>\n",
                            "    <tr>\n",
                            "      <th>4</th>\n",
                            "      <td>A1GI0U4ZRJA8WN</td>\n",
                            "      <td>0439886341</td>\n",
                            "      <td>1.0</td>\n",
                            "      <td>1334707200</td>\n",
                            "    </tr>\n",
                            "  </tbody>\n",
                            "</table>\n",
                            "</div>"
                        ],
                        "text/plain": [
                            "           userId   productId  Rating   timestamp\n",
                            "0   AKM1MP6P0OYPR  0132793040     5.0  1365811200\n",
                            "1  A2CX7LUOHB2NDG  0321732944     5.0  1341100800\n",
                            "2  A2NWSAGRHCP8N5  0439886341     1.0  1367193600\n",
                            "3  A2WNBOD3WNDNKT  0439886341     3.0  1374451200\n",
                            "4  A1GI0U4ZRJA8WN  0439886341     1.0  1334707200"
                        ]
                    },
                    "execution_count": 2,
                    "metadata": {},
                    "output_type": "execute_result"
                }
            ],
            "source": [
                "# Read data\n",
                "df = pd.read_csv('ratings_Electronics.csv')\n",
                "df.head()"
            ]
        },
        {
            "cell_type": "code",
            "execution_count": 3,
            "id": "#VSC-02ae8d84",
            "metadata": {
                "language": "python"
            },
            "outputs": [
                {
                    "data": {
                        "text/plain": [
                            "(7824482, 4)"
                        ]
                    },
                    "execution_count": 3,
                    "metadata": {},
                    "output_type": "execute_result"
                }
            ],
            "source": [
                "# View data size\n",
                "df.shape"
            ]
        },
        {
            "cell_type": "code",
            "execution_count": 4,
            "id": "#VSC-3526e055",
            "metadata": {
                "language": "python"
            },
            "outputs": [
                {
                    "data": {
                        "text/plain": [
                            "userId        object\n",
                            "productId     object\n",
                            "Rating       float64\n",
                            "timestamp      int64\n",
                            "dtype: object"
                        ]
                    },
                    "execution_count": 4,
                    "metadata": {},
                    "output_type": "execute_result"
                }
            ],
            "source": [
                "# View data type\n",
                "df.dtypes"
            ]
        },
        {
            "cell_type": "code",
            "execution_count": 5,
            "id": "#VSC-bfde7fce",
            "metadata": {
                "language": "python"
            },
            "outputs": [
                {
                    "name": "stdout",
                    "output_type": "stream",
                    "text": [
                        "<class 'pandas.core.frame.DataFrame'>\n",
                        "RangeIndex: 7824482 entries, 0 to 7824481\n",
                        "Data columns (total 4 columns):\n",
                        " #   Column     Dtype  \n",
                        "---  ------     -----  \n",
                        " 0   userId     object \n",
                        " 1   productId  object \n",
                        " 2   Rating     float64\n",
                        " 3   timestamp  int64  \n",
                        "dtypes: float64(1), int64(1), object(2)\n",
                        "memory usage: 238.8+ MB\n"
                    ]
                }
            ],
            "source": [
                "# View data info\n",
                "df.info()"
            ]
        },
        {
            "cell_type": "code",
            "execution_count": 6,
            "id": "#VSC-41ac0fbc",
            "metadata": {
                "language": "python"
            },
            "outputs": [
                {
                    "name": "stdout",
                    "output_type": "stream",
                    "text": [
                        "<class 'pandas.core.frame.DataFrame'>\n",
                        "RangeIndex: 7824482 entries, 0 to 7824481\n",
                        "Data columns (total 4 columns):\n",
                        " #   Column     Dtype  \n",
                        "---  ------     -----  \n",
                        " 0   userId     object \n",
                        " 1   productId  object \n",
                        " 2   Rating     float64\n",
                        " 3   timestamp  int64  \n",
                        "dtypes: float64(1), int64(1), object(2)"
                    ]
                }
            ],
            "source": [
                "# View data info and hide memory usage\n",
                "df.info(memory_usage=False)"
            ]
        },
        {
            "cell_type": "code",
            "execution_count": 7,
            "id": "#VSC-89cc81a1",
            "metadata": {
                "language": "python"
            },
            "outputs": [
                {
                    "data": {
                        "text/plain": [
                            "count    7.824482e+06\n",
                            "mean     4.012337e+00\n",
                            "std      1.380910e+00\n",
                            "min      1.000000e+00\n",
                            "25%      3.000000e+00\n",
                            "50%      5.000000e+00\n",
                            "75%      5.000000e+00\n",
                            "max      5.000000e+00\n",
                            "Name: Rating, dtype: float64"
                        ]
                    },
                    "execution_count": 7,
                    "metadata": {},
                    "output_type": "execute_result"
                }
            ],
            "source": [
                "# View product Rating statistics\n",
                "df['Rating'].describe()"
            ]
        },
        {
            "cell_type": "code",
            "execution_count": 8,
            "id": "#VSC-b8942c80",
            "metadata": {
                "language": "python"
            },
            "outputs": [
                {
                    "name": "stdout",
                    "output_type": "stream",
                    "text": [
                        "Minimum Rating: 1.0\n",
                        "Maximum Rating: 5.0\n"
                    ]
                }
            ],
            "source": [
                "# View Minimum and Maximum Rating\n",
                "print(\"Minimum Rating:\", df['Rating'].min())\n",
                "print(\"Maximum Rating:\", df['Rating'].max())"
            ]
        },
        {
            "cell_type": "code",
            "execution_count": 9,
            "id": "#VSC-3a9d9a60",
            "metadata": {
                "language": "python"
            },
            "outputs": [
                {
                    "name": "stdout",
                    "output_type": "stream",
                    "text": [
                        "Number of missing values in each column:\n",
                        "userId       0\n",
                        "productId    0\n",
                        "Rating       0\n",
                        "timestamp    0\n",
                        "dtype: int64\n"
                    ]
                }
            ],
            "source": [
                "# View Defalut Values of data\n",
                "print(\"Number of missing values in each column:\")\n",
                "print(df.isnull().sum())"
            ]
        },
        {
            "cell_type": "code",
            "execution_count": 10,
            "id": "#VSC-78f70aa4",
            "metadata": {
                "language": "python"
            },
            "outputs": [
                {
                    "name": "stdout",
                    "output_type": "stream",
                    "text": [
                        "Total data\n",
                        "--------------------\n",
                        "\n",
                        "Total number of ratings: 7824482\n",
                        "Total no of Users: 4201696\n",
                        "Total no of Products: 476002\n"
                    ]
                }
            ],
            "source": [
                "# Check whether ratings, users and products are unique\n",
                "print(\"Total data\")\n",
                "print(\"--------------------\")\n",
                "print()\n",
                "print(\"Total number of ratings:\", df['Rating'].count())\n",
                "print(\"Total no of Users:\", df['userId'].nunique())\n",
                "print(\"Total no of Products:\", df['productId'].nunique())"
            ]
        },
        {
            "cell_type": "code",
            "execution_count": 11,
            "id": "#VSC-dad281db",
            "metadata": {
                "language": "python"
            },
            "outputs": [
                {
                    "data": {
                        "text/html": [
                            "<div>\n",
                            "<style scoped>\n",
                            "    .dataframe tbody tr th:only-of-type {\n",
                            "        vertical-align: middle;\n",
                            "    }\n",
                            "\n",
                            "    .dataframe tbody tr th {\n",
                            "        vertical-align: top;\n",
                            "    }\n",
                            "\n",
                            "    .dataframe thead th {\n",
                            "        text-align: right;\n",
                            "    }\n",
                            "</style>\n",
                            "<table border=\"1\" class=\"dataframe\">\n",
                            "  <thead>\n",
                            "    <tr style=\"text-align: right;\">\n",
                            "      <th></th>\n",
                            "      <th>userId</th>\n",
                            "      <th>productId</th>\n",
                            "      <th>Rating</th>\n",
                            "    </tr>\n",
                            "  </thead>\n",
                            "  <tbody>\n",
                            "    <tr>\n",
                            "      <th>0</th>\n",
                            "      <td>AKM1MP6P0OYPR</td>\n",
                            "      <td>0132793040</td>\n",
                            "      <td>5.0</td>\n",
                            "    </tr>\n",
                            "    <tr>\n",
                            "      <th>1</th>\n",
                            "      <td>A2CX7LUOHB2NDG</td>\n",
                            "      <td>0321732944</td>\n",
                            "      <td>5.0</td>\n",
                            "    </tr>\n",
                            "    <tr>\n",
                            "      <th>2</th>\n",
                            "      <td>A2NWSAGRHCP8N5</td>\n",
                            "      <td>0439886341</td>\n",
                            "      <td>1.0</td>\n",
                            "    </tr>\n",
                            "    <tr>\n",
                            "      <th>3</th>\n",
                            "      <td>A2WNBOD3WNDNKT</td>\n",
                            "      <td>0439886341</td>\n",
                            "      <td>3.0</td>\n",
                            "    </tr>\n",
                            "    <tr>\n",
                            "      <th>4</th>\n",
                            "      <td>A1GI0U4ZRJA8WN</td>\n",
                            "      <td>0439886341</td>\n",
                            "      <td>1.0</td>\n",
                            "    </tr>\n",
                            "  </tbody>\n",
                            "</table>\n",
                            "</div>"
                        ],
                        "text/plain": [
                            "           userId   productId  Rating\n",
                            "0   AKM1MP6P0OYPR  0132793040     5.0\n",
                            "1  A2CX7LUOHB2NDG  0321732944     5.0\n",
                            "2  A2NWSAGRHCP8N5  0439886341     1.0\n",
                            "3  A2WNBOD3WNDNKT  0439886341     3.0\n",
                            "4  A1GI0U4ZRJA8WN  0439886341     1.0"
                        ]
                    },
                    "execution_count": 11,
                    "metadata": {},
                    "output_type": "execute_result"
                }
            ],
            "source": [
                "# Delete the 'timestamp' column as it is not needed for the recommendation system\n",
                "df.drop(columns=['timestamp'], inplace=True)\n",
                "df.head()"
            ]
        },
        {
            "cell_type": "markdown",
            "id": "#VSC-eda",
            "metadata": {
                "language": "markdown"
            },
            "source": [
                "## 📊 Exploratory Data Analysis\n",
                "Exploring user and product rating patterns to understand popularity and engagement."
            ]
        },
        {
            "cell_type": "markdown",
            "id": "#VSC-user-product-analysis",
            "metadata": {
                "language": "markdown"
            },
            "source": [
                "### User and Product Analysis\n",
                "Examining how users interact with products and the distribution of ratings."
            ]
        },
        {
            "cell_type": "code",
            "execution_count": 12,
            "id": "#VSC-3ab24fa4",
            "metadata": {
                "language": "python"
            },
            "outputs": [
                {
                    "data": {
                        "text/plain": [
                            "userId\n",
                            "A5JLAU2ARJ0BO     520\n",
                            "ADLVFFE4VBT8      501\n",
                            "A3OXHLG6DIBRW8    498\n",
                            "A6FIAB28IS79      431\n",
                            "A680RUE1FDO8B     406\n",
                            "Name: Rating, dtype: int64"
                        ]
                    },
                    "execution_count": 12,
                    "metadata": {},
                    "output_type": "execute_result"
                }
            ],
            "source": [
                "# Analyze the rating data by user and product\n",
                "user_rating_counts = df.groupby('userId')['Rating'].count()\n",
                "sorted_user_ratings = user_rating_counts.sort_values(ascending=False)\n",
                "sorted_user_ratings.head()"
            ]
        },
        {
            "cell_type": "code",
            "execution_count": 13,
            "id": "#VSC-ced7764c",
            "metadata": {
                "language": "python"
            },
            "outputs": [
                {
                    "data": {
                        "text/plain": [
                            "count    7.824482e+06\n",
                            "mean     4.012337e+00\n",
                            "std      1.380910e+00\n",
                            "min      1.000000e+00\n",
                            "25%      3.000000e+00\n",
                            "50%      5.000000e+00\n",
                            "75%      5.000000e+00\n",
                            "max      5.000000e+00\n",
                            "Name: Rating, dtype: float64"
                        ]
                    },
                    "execution_count": 13,
                    "metadata": {},
                    "output_type": "execute_result"
                }
            ],
            "source": [
                "df['Rating'].describe()"
            ]
        },
        {
            "cell_type": "code",
            "execution_count": 14,
            "id": "#VSC-cf0d70a6",
            "metadata": {
                "language": "python"
            },
            "outputs": [
                {
                    "data": {
                        "image/png": "iVBORw0KGgoAAAANSUhEUgAAA1IAAAIjCAYAAAAJLyrXAAAAOnRFWHRTb2Z0d2FyZQBNYXRwbG90bGliIHZlcnNpb24zLjEwLjYsIGh0dHBzOi8vbWF0cGxvdGxpYi5vcmcvq6yFwwAAAAlwSFlzAAAPYQAAD2EBqD+naQAAe7xJREFUeJzt3XlcVGX7x/HvsG8C4oYoigum5paaiuaWFpppLqWZuT1mi1ouqWllii22qVlu5a9H2syt9Ekrl8ylFEtJzdTMBdMUMDdwB+H8/qCZHAGZQWAG+Lxfr3kxc5/7nHOdmSPOxXWf+5gMwzAEAAAAALCZi6MDAAAAAIDChkQKAAAAAOxEIgUAAAAAdiKRAgAAAAA7kUgBAAAAgJ1IpAAAAADATiRSAAAAAGAnEikAAAAAsBOJFAAAAADYiUQKAHBTbdq0UZs2bSyvjxw5IpPJpOjoaIfFlJ9uPN682F6dOnXybHuSFBYWpgEDBuTpNm+VM8YEAPmJRAoA8tGePXv06KOPqkKFCvL09FRISIgeffRR7d2719GhWdm7d68mTZqkI0eOODoUpzdp0iSZTKYcH3mZjOWladOmyWQy6bvvvsu2z7x582QymfTVV18VYGQAULi4OToAACiqvvzyS/Xu3VtBQUEaNGiQqlSpoiNHjujDDz/U0qVLtWjRIj3wwAOODlNSRiIVFRWlNm3aKCwszGrZmjVrHBOUk+revbuqV69ueX3hwgU99dRT6tatm7p3725pL1euXL7FsH//frm45O5voQ8//LDGjBmjBQsWqH379ln2WbBggUqVKqWOHTveSpgAUKSRSAFAPjh06JD69u2rqlWratOmTSpTpoxl2fDhw9WyZUs9+uij+vXXX1WlShUHRpozDw8PR4fgVOrVq6d69epZXp86dUpPPfWU6tWrp0cffbRAYvD09Myxz8WLF+Xr65upPSQkRG3bttWXX36pOXPmZNrW8ePHtWnTJj3++ONyd3fPs5gBoKhhaB8A5IO33npLly5d0gcffGCVRElS6dKl9f777+vChQt66623LO0DBgzIVA2S/h1Kdr358+fr7rvvVtmyZeXp6anatWtrzpw5mdYNCwvT/fffrx9//FFNmjSRl5eXqlatqo8//tjSJzo6Wg899JAkqW3btpahaRs2bJBk+zVDv//+ux588EEFBQXJy8tLjRs3zjQ0LDU1VVFRUQoPD5eXl5dKlSqlu+66S2vXrr3pts+cOaPRo0erbt268vPzk7+/vzp27Khdu3ZZ9duwYYNMJpMWL16sV199VRUrVpSXl5fatWungwcPZtruBx98oGrVqsnb21tNmjTRDz/8kONx5tbevXvVtm1b+fj4qEKFCnrzzTcz9bl69aomTpyo6tWry9PTU6GhoRo7dqyuXr1q1e/G65Gio6NlMpm0ceNGDRkyRGXLllXFihWzjeXRRx9VUlKSvv7660zLFi5cqPT0dPXp00eS9Pbbb6t58+YqVaqUvL291ahRIy1dujTH483qvL0+1huHkX777bdq2bKlfH19VaJECXXq1El79uyx6pOQkKCBAweqYsWK8vT0VPny5fXAAw8wJBWAQ5BIAUA+WLFihcLCwtSyZcssl7dq1UphYWFasWJFrrY/Z84cVa5cWc8//7ymTp2q0NBQDRkyRLNmzcrU9+DBg3rwwQd1zz33aOrUqSpZsqQGDBhg+ZLaqlUrPfPMM5Kk559/Xp988ok++eQT1apVy+Z49uzZo2bNmmnfvn0aN26cpk6dKl9fX3Xt2lXLli2z9Js0aZKioqLUtm1bzZw5Uy+88IIqVaqkX3755abbP3z4sJYvX677779f06ZN05gxY7R79261bt1aJ06cyNT/9ddf17JlyzR69GiNHz9eW7dutSQGZh9++KGeeOIJBQcH680331SLFi3UpUsXHTt2zObjttXZs2fVoUMH1a9fX1OnTlXNmjX13HPP6dtvv7X0SU9PV5cuXfT222+rc+fOeu+999S1a1dNnz5dvXr1smk/Q4YM0d69e/XSSy9p3Lhx2fbr3r27vLy8tGDBgkzLFixYoMqVK6tFixaSpBkzZuiOO+7Q5MmT9dprr8nNzU0PPfRQlklYbn3yySfq1KmT/Pz89MYbb2jChAnau3ev7rrrLqskqUePHlq2bJkGDhyo2bNn65lnntH58+d19OjRPIsFAGxmAADy1Llz5wxJxgMPPHDTfl26dDEkGcnJyYZhGEb//v2NypUrZ+o3ceJE48Zf15cuXcrULzIy0qhatapVW+XKlQ1JxqZNmyxtJ0+eNDw9PY1nn33W0rZkyRJDkrF+/fpM223durXRunVry+u4uDhDkjF//nxLW7t27Yy6desaV65csbSlp6cbzZs3N8LDwy1t9evXNzp16pRpHzm5cuWKkZaWZtUWFxdneHp6GpMnT7a0rV+/3pBk1KpVy7h69aqlfcaMGYYkY/fu3YZhGEZKSopRtmxZo0GDBlb9PvjgA0OS1fHm5O+//zYkGRMnTsxyeevWrQ1Jxscff2xpu3r1qhEcHGz06NHD0vbJJ58YLi4uxg8//GC1/ty5cw1JxubNmy1tlStXNvr37295PX/+fEOScddddxnXrl2zKe6HHnrI8PLyMpKSkixtv//+uyHJGD9+vKXtxnMtJSXFqFOnjnH33Xdbtd8YU1bn7fWxxsXFGYZhGOfPnzcCAwONwYMHW/VLSEgwAgICLO1nz541JBlvvfWWTccHAPmNihQA5LHz589LkkqUKHHTfubl5v728Pb2tjxPSkrSqVOn1Lp1ax0+fFhJSUlWfWvXrm1VGStTpoxuu+02HT582O79ZuXMmTP6/vvv1bNnT50/f16nTp3SqVOndPr0aUVGRurAgQM6fvy4JCkwMFB79uzRgQMH7NqHp6enZXKFtLQ0nT59Wn5+frrtttuyrGYNHDjQ6tou8/Gbj3n79u06efKknnzySat+AwYMUEBAgH1vgA38/Pysrp/y8PBQkyZNrD6DJUuWqFatWqpZs6blPTx16pTuvvtuSdL69etz3M/gwYPl6upqU0yPPvqorly5oi+//NLSZq5QXV+9u/5cO3v2rJKSktSyZcscq4i2Wrt2rc6dO6fevXtbHberq6uaNm1qOW5vb295eHhow4YNOnv2bJ7sGwBuBZNNAEAeszVBOn/+vEwmk0qXLm33PjZv3qyJEycqJiZGly5dslqWlJRklQxUqlQp0/olS5bMsy+jBw8elGEYmjBhgiZMmJBln5MnT6pChQqaPHmyHnjgAdWoUUN16tRRhw4d1LdvX6vJG7KSnp6uGTNmaPbs2YqLi1NaWpplWalSpTL1v/GYS5YsKUmWY/7zzz8lSeHh4Vb93N3dVbVq1RyO2H4VK1bMdL1QyZIl9euvv1peHzhwQPv27ct0TZ3ZyZMnc9yPPROXdOzYUUFBQVqwYIHleqvPP/9c9evX1+23327pt3LlSr3yyivauXOn1bVaWV3/lBvmpNqcMN7I399fUkYy/cYbb+jZZ59VuXLl1KxZM91///3q16+fgoOD8yQWALAHiRQA5LGAgACFhIRYfUnOyq+//qqKFStaKiLZfTG9PmmQMmYEbNeunWrWrKlp06YpNDRUHh4e+uabbzR9+nSlp6db9c+uQmEYhq2HdFPm/Y0ePVqRkZFZ9jFPF96qVSsdOnRI//vf/7RmzRr93//9n6ZPn665c+fqsccey3Yfr732miZMmKD//Oc/evnllxUUFCQXFxeNGDEi0/FK+X/M9rIlnvT0dNWtW1fTpk3Lsm9oaGiO+7m+epQTd3d39ezZU/PmzVNiYqKOHj2qAwcOWE2C8cMPP6hLly5q1aqVZs+erfLly8vd3V3z58/P8vqq69l6Pps/v08++STLhMjN7d+vKiNGjFDnzp21fPlyrV69WhMmTNCUKVP0/fff64477rD52AEgL5BIAUA+6Ny5s95//339+OOPuuuuuzIt/+GHH3TkyBGNGjXK0layZEmdO3cuU19z9cRsxYoVunr1qr766iuryostQ7+ycyvVBXMFx93dPdv7El0vKChIAwcO1MCBA3XhwgW1atVKkyZNumkitXTpUrVt21YffvihVfu5c+dyVdGrXLmypIxqyPWVkNTUVMXFxal+/fp2b/NWVatWTbt27VK7du3yrNqTkz59+mju3LlatGiR4uLiZDKZ1Lt3b8vyL774Ql5eXlq9erXVNOnz58/PcdvmKuC5c+cUGBhoab/xfK5WrZokqWzZsjadP9WqVdOzzz6rZ599VgcOHFCDBg00depUffrppzmuCwB5iWukACAfjB49Wj4+PnriiSd0+vRpq2VnzpzRk08+KX9/fw0bNszSXq1aNSUlJVlVsuLj461mvZP+rW5cX81ISkqy6cttdsz3G8oqkctJ2bJl1aZNG73//vuKj4/PtPzvv/+2PL/xvfDz81P16tUzTe99I1dX10zVpCVLlliuvbJX48aNVaZMGc2dO1cpKSmW9ujo6Fy9B3mhZ8+eOn78uObNm5dp2eXLl3Xx4sU832eLFi0UFhamTz/9VIsWLVLr1q2tpk13dXWVyWSyqiIdOXJEy5cvz3Hb5gRp06ZNlraLFy/qo48+suoXGRkpf39/vfbaa0pNTc20HfP5c+nSJV25ciXTPkqUKJHj+QMA+YGKFADkg+rVq+vjjz9W7969VbduXQ0aNEhVqlTRkSNH9OGHH+rs2bNauHCh1TUtDz/8sJ577jl169ZNzzzzjC5duqQ5c+aoRo0aVhf233vvvfLw8FDnzp31xBNP6MKFC5o3b57Kli2bZSJjiwYNGsjV1VVvvPGGkpKS5OnpablPlS1mzZqlu+66S3Xr1tXgwYNVtWpVJSYmKiYmRn/99Zflfk+1a9dWmzZt1KhRIwUFBWn79u1aunSpVUKZlfvvv1+TJ0/WwIED1bx5c+3evVufffZZrq9ncnd31yuvvKInnnhCd999t3r16qW4uDjNnz8/X66RskXfvn21ePFiPfnkk1q/fr1atGihtLQ0/f7771q8eLFWr16txo0b5+k+TSaTHnnkEb322muSpMmTJ1st79Spk6ZNm6YOHTrokUce0cmTJzVr1ixVr149x6Gr9957rypVqqRBgwZpzJgxcnV11X//+1+VKVPGarpyf39/zZkzR3379lXDhg318MMPW/p8/fXXatGihWbOnKk//vhD7dq1U8+ePVW7dm25ublp2bJlSkxM1MMPP5yn7wsA2MSRUwYCQFG3e/du45FHHjGCg4MNFxcXQ5Lh5eVl7NmzJ8v+a9asMerUqWN4eHgYt912m/Hpp59mOY30V199ZdSrV8/w8vIywsLCjDfeeMP473//azWttGFkTEmd1XTjN05pbhiGMW/ePKNq1aqGq6ur1VTotkx/bhiGcejQIaNfv35GcHCw4e7ublSoUMG4//77jaVLl1r6vPLKK0aTJk2MwMBAw9vb26hZs6bx6quvGikpKTd9H69cuWI8++yzRvny5Q1vb2+jRYsWRkxMTKbYzNOfL1myxGr97GKePXu2UaVKFcPT09No3LixsWnTpizfm5uxZfrz22+/PVN7VtPdp6SkGG+88YZx++23G56enkbJkiWNRo0aGVFRUVbTlGc3/fm2bdtsjttsz549hiTD09PTOHv2bKblH374oREeHm54enoaNWvWNObPn5/lOXljTIZhGLGxsUbTpk0NDw8Po1KlSsa0adMyTX9utn79eiMyMtIICAgwvLy8jGrVqhkDBgwwtm/fbhiGYZw6dcoYOnSoUbNmTcPX19cICAgwmjZtaixevNjuYwaAvGAyDAddeQsAxdDHH3+sAQMG6NFHH9XHH3/s6HAAAEAuMbQPAApQv379FB8fr3HjxqlixYqWIVUAAKBwoSIFAAAAAHZi1j4AAAAAsBOJFAAAAADYiUQKAAAAAOxEIgUAAAAAdmLWPknp6ek6ceKESpQoIZPJ5OhwAAAAADiIYRg6f/68QkJC5OKSfd2JRErSiRMnFBoa6ugwAAAAADiJY8eOqWLFitkuJ5GSVKJECUkZb5a/v7+DowEAAADgKMnJyQoNDbXkCNkhkZIsw/n8/f1JpAAAAADkeMkPk00AAAAAgJ1IpAAAAADATiRSAAAAAGAnrpGyUVpamlJTUx0dBoA85OrqKjc3N257AAAA7EYiZYMLFy7or7/+kmEYjg4FQB7z8fFR+fLl5eHh4ehQAABAIUIilYO0tDT99ddf8vHxUZkyZfjLNVBEGIahlJQU/f3334qLi1N4ePhNb7oHAABwPRKpHKSmpsowDJUpU0be3t6ODgdAHvL29pa7u7v+/PNPpaSkyMvLy9EhAQCAQoI/v9qIShRQNFGFAgAAucE3CAAAAACwE4kUAAAAANiJRAp22bBhg0wmk86dO+foUAAAAACHIZEqogYMGCCTySSTySR3d3dVqVJFY8eO1ZUrV2zeRps2bTRixAirtubNmys+Pl4BAQF5HDEAAABQeDBrXxHWoUMHzZ8/X6mpqYqNjVX//v1lMpn0xhtv5HqbHh4eCg4OzsMoAQAAgMKHipSdDEO6eNExD3vvB+zp6ang4GCFhoaqa9euat++vdauXStJOn36tHr37q0KFSrIx8dHdevW1eeff25Zd8CAAdq4caNmzJhhqWwdOXIk09C+6OhoBQYGavXq1apVq5b8/PzUoUMHxcfHW7Z17do1PfPMMwoMDFSpUqX03HPPqX///urateutfhwAAAAozFLTpC93Su9uyfiZmuboiGxGImWnS5ckPz/HPC5dyn3cv/32m7Zs2SIPDw9J0pUrV9SoUSN9/fXX+u233/T444+rb9+++vnnnyVJM2bMUEREhAYPHqz4+HjFx8crNDQ0m/fkkt5++2198skn2rRpk44eParRo0dblr/xxhv67LPPNH/+fG3evFnJyclavnx57g8GAAAAhd8HW6XyiVKPBtLw5hk/yydmtBcCDO0rwlauXCk/Pz9du3ZNV69elYuLi2bOnClJqlChglWy8/TTT2v16tVavHixmjRpooCAAHl4eMjHxyfHoXypqamaO3euqlWrJkkaNmyYJk+ebFn+3nvvafz48erWrZskaebMmfrmm2/y+nABAABQWHywVXqiSeb208HSE8GStkqPNyvwsOxBImUnHx/pwgXH7dsebdu21Zw5c3Tx4kVNnz5dbm5u6tGjhyQpLS1Nr732mhYvXqzjx48rJSVFV69elY+9O5Hk4+NjSaIkqXz58jp58qQkKSkpSYmJiWrS5N9/KK6urmrUqJHS09Pt3hcAAAAKudQ06flK/7xw0TZJf0mqJ6maXCSlSy+ESgPTJHdXh4WZExIpO5lMkq+vo6Owja+vr6pXry5J+u9//6v69evrww8/1KBBg/TWW29pxowZeuedd1S3bl35+vpqxIgRSklJsXs/7u7uVq9NJpMMey/oAgAAQPGwYrd0uoHl5bx/HpMlTZAkuUinKkgrdkrdG2Re30lwjVQx4eLioueff14vvviiLl++rM2bN+uBBx7Qo48+qvr166tq1ar6448/rNbx8PBQWtqtXfAXEBCgcuXKadu2bZa2tLQ0/fLLL7e0XQAAABRSf1lf+H/yn59lc+jnbEikipGHHnpIrq6umjVrlsLDw7V27Vpt2bJF+/bt0xNPPKHExESr/mFhYfrpp5905MgRnTp1KtdD8Z5++mlNmTJF//vf/7R//34NHz5cZ8+elclkyovDAgAAQGFS0fpSkr//+Vkmh37OhkSqGHFzc9OwYcP05ptv6tlnn1XDhg0VGRmpNm3aKDg4ONN05KNHj5arq6tq166tMmXK6OjRo7na73PPPafevXurX79+ioiIkJ+fnyIjI+Xl5ZUHRwUAAIBCpXNdqdQJSRl/pM9ckUqXSh/P6OfETAYXsyg5OVkBAQFKSkqSv7+/1bIrV64oLi5OVapU4Yt/HklPT1etWrXUs2dPvfzyy44OB8Uc/8YBAHCA62btC5CLkiXtl1Tjn+RK7//ssFn7bpYbXI/JJpDv/vzzT61Zs0atW7fW1atXNXPmTMXFxemRRx5xdGgAAABwhMebSdqqq+MrKflMiKR/hvaVjpdePeb0U59LJFIoAC4uLoqOjtbo0aNlGIbq1Kmj7777TrVq1XJ0aAAAAHCUx5vp73vSpKqSm0u6Ahf/KnWpK7lXcHRkNiGRQr4LDQ3V5s2bHR0GAAAAnMzJsxn3iSob7CJTjwaODcZOTDYBAAAAwCH+/mfKvjKZpuxzfiRSAAAAABzi5D9T9pXNdBMp50ciBQAAAMAhzIkUFSkAAAAAsJF5aB8VKQAAAACwEUP7cmnSpEkymUxWj5o1a1qWX7lyRUOHDlWpUqXk5+enHj16KDEx0WobR48eVadOneTj46OyZctqzJgxunbtWkEfCgAAAAA7MbTvFtx+++2Kj4+3PH788UfLspEjR2rFihVasmSJNm7cqBMnTqh79+6W5WlpaerUqZNSUlK0ZcsWffTRR4qOjtZLL73kiENBLmzYsEEmk0nnzp2TJEVHRyswMNChMZkdOXJEJpNJO3fuvGm/Nm3aaMSIEQUSU34YMGCAunbt6ugwbokznTcAAMB2DO27BW5ubgoODrY8SpcuLUlKSkrShx9+qGnTpunuu+9Wo0aNNH/+fG3ZskVbt26VJK1Zs0Z79+7Vp59+qgYNGqhjx456+eWXNWvWLKWkpDjysJzCsWPH9J///EchISHy8PBQ5cqVNXz4cJ0+fdoh8WSVcDRv3lzx8fEKCAhwSEw3Exoaqvj4eNWpU0dS5qTvVi1ZskQ1a9aUl5eX6tatq2+++SbHdTZs2KCGDRvK09NT1atXV3R0tNXynKq8WZkxY0am7eTEZDJp+fLldq0DAABwI4b23YIDBw4oJCREVatWVZ8+fXT06FFJUmxsrFJTU9W+fXtL35o1a6pSpUqKiYmRJMXExKhu3boqV66cpU9kZKSSk5O1Z8+ebPd59epVJScnWz3yXXqalLhBOvJ5xs/0tHzd3eHDh9W4cWMdOHBAn3/+uQ4ePKi5c+dq3bp1ioiI0JkzZ/J1/7by8PBQcHCwTCaTo0PJxNXVVcHBwXJzy/v7Vm/ZskW9e/fWoEGDtGPHDnXt2lVdu3bVb7/9lu06cXFx6tSpk9q2baudO3dqxIgReuyxx7R69Wqrfjer8mYlICDAYdWc1NRUh+wXAAA4B+4jlUtNmzZVdHS0Vq1apTlz5iguLk4tW7bU+fPnlZCQIA8Pj0xf8MqVK6eEhARJUkJCglUSZV5uXpadKVOmKCAgwPIIDQ3N2wO70bEvpa/CpHVtpS2PZPz8KiyjPZ8MHTpUHh4eWrNmjVq3bq1KlSqpY8eO+u6773T8+HG98MILlr5ZVRcCAwOtqhTPPfecatSoIR8fH1WtWlUTJkyw+hI8adIkNWjQQJ988onCwsIUEBCghx9+WOfPn5eUMXxs48aNmjFjhqVScuTIEZuqPP/73//UsGFDeXl5qWrVqoqKirJcB2cYhiZNmqRKlSrJ09NTISEheuaZZ7LcTlJSklxdXbV9+3ZJUnp6uoKCgtSsWTNLn08//dRyPlw/tO/IkSNq27atJKlkyZIymUwaMGCAZb309HSNHTtWQUFBCg4O1qRJk7I9HimjCtShQweNGTNGtWrV0ssvv6yGDRtq5syZ2a4zd+5cValSRVOnTlWtWrU0bNgwPfjgg5o+fbpVv+yqvNm5cWhfmzZt9Mwzz2R7PGFhYZKkbt26yWQyWV5LN/+spIxzbc6cOerSpYt8fX318ssvq2LFipozZ45VTDt27JCLi4v+/PNPSdK0adNUt25d+fr6KjQ0VEOGDNGFCxeyPaZdu3apbdu2KlGihPz9/dWoUSPL5w4AAJzDxYsZD4mKlN06duyohx56SPXq1VNkZKS++eYbnTt3TosXL87X/Y4fP15JSUmWx7Fjx/JvZ8e+lH54ULr0l3X7peMZ7fmQTJ05c0arV6/WkCFD5O3tbbUsODhYffr00aJFi2QYhs3bLFGihKKjo7V3717NmDFD8+bNy/QF/tChQ1q+fLlWrlyplStXauPGjXr99dclZSQOERERGjx4sKVSYksC+8MPP6hfv34aPny49u7dq/fff1/R0dF69dVXJUlffPGFpk+frvfff18HDhzQ8uXLVbdu3Sy3FRAQoAYNGmjDhg2SpN27d8tkMmnHjh2WL+UbN25U69atM60bGhqqL774QpK0f/9+xcfHa8aMGZblH330kXx9ffXTTz/pzTff1OTJk7V27dpsjysmJsaq2iplVFPN1dZbWSe7Kq89bnY827ZtkyTNnz9f8fHxltc5fVZmkyZNUrdu3bR792499thj6t27txYsWGDV57PPPlOLFi1UuXJlSZKLi4veffdd7dmzRx999JG+//57jR07Ntv4+/Tpo4oVK2rbtm2KjY3VuHHj5O7ubvf7AAAA8o+5GuXlJfn5OTaW3HD40L7rBQYGqkaNGjp48KCCg4OVkpKSqVKRmJio4OBgSRlJwY2z+Jlfm/tkxdPTU/7+/laPfJGeJsUOl5RVwvJPW+yIPB/md+DAARmGoVq1amW5vFatWjp79qz+Np+9NnjxxRfVvHlzhYWFqXPnzho9enSmhDc9PV3R0dGqU6eOWrZsqb59+2rdunWSMpIYDw8P+fj4WColrq6uOe43KipK48aNU//+/VW1alXdc889evnll/X+++9Lypi1MTg4WO3bt1elSpXUpEkTDR48ONvttWnTxpJIbdiwQffcc49q1aplGf62YcOGLBMpV1dXBQUFSZLKli2r4OBgq+u66tWrp4kTJyo8PFz9+vVT48aNLceeleyqqTerpGa3TnJysi5fvizp5lVee9zseMr8U3sPDAxUcHCw5XVOn5XZI488ooEDB6pq1aqqVKmS+vTpo82bN1sSvvT0dC1cuFB9+vSxrDNixAi1bdtWYWFhuvvuu/XKK6/c9A8uR48eVfv27VWzZk2Fh4froYceUv369e16DwAAQP66flifE17lkSOnSqQuXLigQ4cOqXz58mrUqJHc3d2tvozu379fR48eVUREhCQpIiJCu3fv1knzVWqS1q5dK39/f9WuXbvA48/k7x8yV6KsGNKlYxn98kFOFScPDw+bt7Vo0SK1aNFCwcHB8vPz04svvpip0hEWFqYSJUpYXpcvX97qs8mNXbt2afLkyfLz87M8zFWtS5cu6aGHHtLly5dVtWpVDR48WMuWLbvp9PetW7fWjz/+qLS0NG3cuFFt2rSxJFcnTpzQwYMH1aZNG7vjrFevntXrvDj23MirKm9ujienz8qscePGVus1aNBAtWrVslSlNm7cqJMnT+qhhx6y9Pnuu+/Url07VahQQSVKlFDfvn11+vRpq+1eb9SoUXrsscfUvn17vf766zp06JBdxw8AAPJfYZ5oQnJwIjV69Ght3LhRR44c0ZYtW9StWze5urqqd+/eCggI0KBBgzRq1CitX79esbGxGjhwoCIiIizXtNx7772qXbu2+vbtq127dmn16tV68cUXNXToUHl6ejry0DJcjs/bfjaqXr26TCaT9u3bl+Xyffv2qUyZMpbrz0wmU6ak6/rrn2JiYtSnTx/dd999WrlypXbs2KEXXngh08yINw6dMplMSk9Pv6VjuXDhgqKiorRz507LY/fu3Tpw4IC8vLwUGhqq/fv3a/bs2fL29taQIUPUqlWrbCcxaNWqlc6fP69ffvlFmzZtskqkNm7cqJCQEIWHh9sdp73Hnl019WaV1OzW8ff3zzSE0+z6Kq89cvNZ5vRZmfn6+mZat0+fPpZEasGCBerQoYNKlSolKeNatfvvv1/16tXTF198odjYWM2aNUuSsp2dc9KkSdqzZ486deqk77//XrVr19ayZctsfwMAAEC+K8z3kJIcnEj99ddf6t27t2677Tb17NlTpUqV0tatWy1DhaZPn677779fPXr0UKtWrRQcHKwvv/z3miJXV1etXLlSrq6uioiI0KOPPqp+/fpp8uTJjjoka97l87afjUqVKqV77rlHs2fPtgz5MktISNBnn31mNVFCmTJlFB//bzJ34MABq7/0b9myRZUrV9YLL7ygxo0bKzw83DIJgD08PDyUlmbfMMaGDRtq//79ql69eqaHi0vG6evt7a3OnTvr3Xff1YYNGxQTE6Pdu3dnub3AwEDVq1dPM2fOlLu7u2rWrKlWrVppx44dWrlyZZbD+q6PX5Ldx5CViIiITEP/1q5da6m25tU611d585K7u3um98GWzyo7jzzyiH777TfFxsZq6dKlVsP6YmNjlZ6erqlTp6pZs2aqUaOGTpw4kWOMNWrU0MiRI7VmzRp1795d8+fPz93BAgCAfFGY7yElSXk/r7MdFi5ceNPlXl5emjVrluWvz1mpXLmyTfffcYgyLSWfihkTS2R5nZQpY3mZlnm+65kzZ6p58+aKjIzUK6+8oipVqmjPnj0aM2aMatSoYXXT4rvvvlszZ85URESE0tLS9Nxzz1lVJMLDw3X06FEtXLhQd955p77++utc/XU/LCxMP/30k44cOSI/Pz/LNUc389JLL+n+++9XpUqV9OCDD8rFxUW7du3Sb7/9pldeeUXR0dFKS0tT06ZN5ePjo08//VTe3t6WSQqy0qZNG7333nt68MEHJUlBQUGqVauWFi1alOO5ZjKZtHLlSt13333y9vaWXy6vjBw+fLhat26tqVOnqlOnTlq4cKG2b9+uDz74wNJn/PjxOn78uD7++GNJ0pNPPqmZM2dq7Nix+s9//qPvv/9eixcv1tdff21ZZ/To0ercubMqV66sEydOaOLEiZYqb14KCwvTunXr1KJFC3l6eqpkyZI5flY5ba958+YaNGiQ0tLS1KVLF8uy6tWrKzU1Ve+99546d+6szZs3a+7cudlu6/LlyxozZowefPBBValSRX/99Ze2bdumHj165NnxAwCAW8fQPmTPxVVqZJ7Z7cYr6P553eidjH55LDw8XNu2bVPVqlXVs2dPVa5cWR07dlSNGjW0efNmqwRg6tSpCg0NVcuWLfXII49o9OjR8vHxsSzv0qWLRo4cqWHDhqlBgwbasmWLJkyYYHdMo0ePlqurq2rXrq0yZcrYNJtcZGSkVq5cqTVr1ujOO+9Us2bNNH36dEuiFBgYqHnz5qlFixaqV6+evvvuO61YscIyLCwrrVu3VlpamtW1UG3atMnUdqMKFSpYJlQoV66chg0bZvOx36h58+ZasGCBPvjgA9WvX19Lly7V8uXLLTf/laT4+Hir96hKlSr6+uuvtXbtWtWvX19Tp07V//3f/ykyMtLSJ6cqb16ZOnWq1q5dq9DQUN1xxx2Scv6sctKnTx/t2rVL3bp1sxqqWL9+fU2bNk1vvPGG6tSpo88++0xTpkzJdjuurq46ffq0+vXrpxo1aqhnz57q2LGjoqKibu2gAQBAnirsQ/tMhj1zYBdRycnJCggIUFJSUqYZ/K5cuaK4uDhVqVLF6joPuxz7MmP2vusnnvAJzUiiQrvnPnA7TZw4UdOmTdPatWut7p0EFGd58m8cAADYrWNHadUqaf586bqrThzuZrnB9Rw6tK/YCO0uVXggY3a+y/EZ10SVaZkvlaibiYqKUlhYmLZu3aomTZrkeN0KAAAAkF8K+9A+EqmC4uIqlWvj6Cg0cOBAR4cAAAAAWN1HqjCiJAEAAACgQBlG4a9IkUgBAAAAKFDnz0tXr2Y8pyIFAAAAADYwD+vz9ZWumyy6UCGRAgAAAFCgCvuwPolECgAAAEABI5ECAAAAADsV9hn7JBIpAAAAAAWMihRwizZs2CCTyaRz585JkqKjoxUYGOjQmMyOHDkik8mknTt33rRfmzZtNGLEiAKJKT8MGDBAXbt2dXQYt8SZzhsAAJAzcyJFRQo5S5O0QdLn//xMy/9dHjt2TP/5z38UEhIiDw8PVa5cWcOHD9fp06fzf+dZyCrhaN68ueLj4xUQEOCQmG4mNDRU8fHxqlOnjqTMSd+tWrJkiWrWrCkvLy/VrVtX33zzzU37f/nll7rnnntUpkwZ+fv7KyIiQqtXr7bqM2nSJJlMJqtHzZo1b7rdGTNmKDo62q7YTSaTli9fbtc6AAAAZuahfVSkcHNfSgqT1FbSI//8DPunPZ8cPnxYjRs31oEDB/T555/r4MGDmjt3rtatW6eIiAidOXMm/3ZuBw8PDwUHB8tkMjk6lExcXV0VHBwsNze3PN/2li1b1Lt3bw0aNEg7duxQ165d1bVrV/3222/ZrrNp0ybdc889+uabbxQbG6u2bduqc+fO2rFjh1W/22+/XfHx8ZbHjz/+eNNYAgICHFbNSU1Ndch+AQCAYzG0Dzn7UtKDkv66of34P+35lEwNHTpUHh4eWrNmjVq3bq1KlSqpY8eO+u6773T8+HG98MILlr5ZVRcCAwOtqhTPPfecatSoIR8fH1WtWlUTJkyw+hI8adIkNWjQQJ988onCwsIUEBCghx9+WOfPn5eUMXxs48aNmjFjhqVScuTIEZuqPP/73//UsGFDeXl5qWrVqoqKitK1a9ckSYZhaNKkSapUqZI8PT0VEhKiZ555JsvtJCUlydXVVdu3b5ckpaenKygoSM2aNbP0+fTTTxUaGirJemjfkSNH1LZtW0lSyZIlZTKZNGDAAMt66enpGjt2rIKCghQcHKxJkyZlezxSRhWoQ4cOGjNmjGrVqqWXX35ZDRs21MyZM7Nd55133tHYsWN15513Kjw8XK+99prCw8O1YsUKq35ubm4KDg62PEqXLn3TWG4c2temTRs988wz2R5PWFiYJKlbt24ymUyW19LNPysp41ybM2eOunTpIl9fX7388suqWLGi5syZYxXTjh075OLioj///FOSNG3aNNWtW1e+vr4KDQ3VkCFDdOHChWyPadeuXWrbtq1KlCghf39/NWrUyPK5AwAAx2OyCdxcmqThkowslpnbRijPh/mdOXNGq1ev1pAhQ+Tt7W21LDg4WH369NGiRYtkGFkFlrUSJUooOjpae/fu1YwZMzRv3jxNnz7dqs+hQ4e0fPlyrVy5UitXrtTGjRv1+uuvS8pIHCIiIjR48GBLpcScsNzMDz/8oH79+mn48OHau3ev3n//fUVHR+vVV1+VJH3xxReaPn263n//fR04cEDLly9X3bp1s9xWQECAGjRooA0bNkiSdu/eLZPJpB07dli+lG/cuFGtW7fOtG5oaKi++OILSdL+/fsVHx+vGTNmWJZ/9NFH8vX11U8//aQ333xTkydP1tq1a7M9rpiYGLVv396qLTIyUjExMTm+J2bp6ek6f/68goKCrNoPHDigkJAQVa1aVX369NHRo0dt3qbZzY5n27ZtkqT58+crPj7e8jqnz8ps0qRJ6tatm3bv3q3HHntMvXv31oIFC6z6fPbZZ2rRooUqV64sSXJxcdG7776rPXv26KOPPtL333+vsWPHZht/nz59VLFiRW3btk2xsbEaN26c3N3d7X4fAABA/igKFSkZMJKSkgxJRlJSUqZlly9fNvbu3WtcvnzZ/g2vNwxDNjzW5zLwbGzdutWQZCxbtizL5dOmTTMkGYmJiYZhGFn2DQgIMObPn5/tPt566y2jUaNGltcTJ040fHx8jOTkZEvbmDFjjKZNm1pet27d2hg+fLjVdtavX29IMs6ePWsYhmHMnz/fCAgIsCxv166d8dprr1mt88knnxjly5c3DMMwpk6datSoUcNISUnJNtbrjRo1yujUqZNhGIbxzjvvGL169TLq169vfPvtt4ZhGEb16tWNDz74wDAMw4iLizMkGTt27Mgy1uuP66677rJqu/POO43nnnsu2zjc3d2NBQsWWLXNmjXLKFu2rE3HYRiG8cYbbxglS5a0fI6GYRjffPONsXjxYmPXrl3GqlWrjIiICKNSpUpWn8uN+vfvbzzwwAN2HU9W50xOn5V5vREjRlj12bFjh2EymYw///zTMAzDSEtLMypUqGDMmTMn25iXLFlilCpVyvL6xvOmRIkSRnR0dLbrX++W/o0DAAC7pacbhpubYUiG8ddfjo4ms5vlBtejIpWf4vO4n52MHCpOHh4eNm9r0aJFatGihYKDg+Xn56cXX3wxU6UjLCxMJUqUsLwuX768Tpr/3JBLu3bt0uTJk+Xn52d5mKtaly5d0kMPPaTLly+ratWqGjx4sJYtW2Y1lOxGrVu31o8//qi0tDRt3LhRbdq0UZs2bbRhwwadOHFCBw8eVJs2beyOs169elav8+LYb2bBggWKiorS4sWLVfa6P+V07NhRDz30kOrVq6fIyEh98803OnfunBYvXmzX9nNzPDl9VmaNGze2Wq9BgwaqVauWpSq1ceNGnTx5Ug899JClz3fffad27dqpQoUKKlGihPr27avTp09bbfd6o0aN0mOPPab27dvr9ddf16FDh+w6fgAAkH/OnZPMX9dyuALBqZFI5afyedzPRtWrV5fJZNK+ffuyXL5v3z6VKVPGMsGAyWTKlHRdf/1TTEyM+vTpo/vuu08rV67Ujh079MILLyglJcVqnRuHTplMJqWnp9/SsVy4cEFRUVHauXOn5bF7924dOHBAXl5eCg0N1f79+zV79mx5e3tryJAhatWqVbaTGLRq1Urnz5/XL7/8ok2bNlklUhs3blRISIjCw8PtjtPeYw8ODlZiYqJVW2JiooKDg3Pc18KFC/XYY49p8eLFmYYH3igwMFA1atTQwYMHc9zu9XLzWeb0WZn5+vpmWrdPnz6WRGrBggXq0KGDSpUqJSnjWrX7779f9erV0xdffKHY2FjNmjVLkjKdg2aTJk3Snj171KlTJ33//feqXbu2li1bZvsbAAAA8o35b7MBAZKnp2NjuRUkUvmppaSKkrKbkM4kKfSffnmoVKlSuueeezR79mxdvnzZallCQoI+++wzq4kSypQpo/j4f8tiBw4csPpL/5YtW1S5cmW98MILaty4scLDwy2TANjDw8NDaWn2XRDWsGFD7d+/X9WrV8/0cHHJOH29vb3VuXNnvfvuu9qwYYNiYmK0e/fuLLcXGBioevXqaebMmXJ3d1fNmjXVqlUr7dixQytXrszy+qjr45dk9zFkJSIiQuvWrbNqW7t2rSIiIm663ueff66BAwfq888/V6dOnXLcz4ULF3To0CGVL5+32bq7u3um98GWzyo7jzzyiH777TfFxsZq6dKl6tOnj2VZbGys0tPTNXXqVDVr1kw1atTQiRMncoyxRo0aGjlypNasWaPu3btr/vz5uTtYAACQp4rE9VEikcpfrpLM8xHcmEyZX7/zT788NnPmTF29elWRkZHatGmTjh07plWrVumee+5RjRo19NJLL1n63n333Zo5c6Z27Nih7du368knn7SqSISHh+vo0aNauHChDh06pHfffTdXf90PCwvTTz/9pCNHjujUqVM2Vateeuklffzxx4qKitKePXu0b98+LVy4UC+++KKkjBuxfvjhh/rtt990+PBhffrpp/L29rZMUpCVNm3a6LPPPrMkTUFBQapVq5YWLVp000SqcuXKMplMWrlypf7++++bzhqXk+HDh2vVqlWaOnWqfv/9d02aNEnbt2/XsGHDLH3Gjx+vfv36WV4vWLBA/fr109SpU9W0aVMlJCQoISFBSUlJlj6jR4/Wxo0bdeTIEW3ZskXdunWTq6urevfunetYsxIWFqZ169YpISFBZ8+elZTzZ5XT9po3b65BgwYpLS1NXbp0sSyrXr26UlNT9d577+nw4cP65JNPNHfu3Gy3dfnyZQ0bNkwbNmzQn3/+qc2bN2vbtm2qVavWrR84AAC4ZUVhxj6JRCr/dZe0VFKFG9or/tPePX92Gx4erm3btqlq1arq2bOnKleurI4dO6pGjRravHmz/Pz8LH2nTp2q0NBQtWzZUo888ohGjx4tHx8fy/IuXbpo5MiRGjZsmBo0aKAtW7ZowoQJdsc0evRoubq6qnbt2ipTpoxNs8lFRkZq5cqVWrNmje688041a9ZM06dPtyRKgYGBmjdvnlq0aKF69erpu+++04oVKyzDwrLSunVrpaWlWV0L1aZNm0xtN6pQoYKioqI0btw4lStXzirpsVfz5s21YMECffDBB6pfv76WLl2q5cuXW27+K0nx8fFW79EHH3yga9euaejQoSpfvrzlMXz4cEufv/76S71799Ztt92mnj17qlSpUtq6davK5PFvqqlTp2rt2rUKDQ3VHXfcISnnzyonffr00a5du9StWzer2Sbr16+vadOm6Y033lCdOnX02WefacqUKdlux9XVVadPn1a/fv1Uo0YN9ezZUx07dlRUVNStHTQAAMgTRaUiZTJympGgGEhOTlZAQICSkpLk7+9vtezKlSuKi4tTlSpVrK7zsFuapB+UMbFEeWUM58uHStTNTJw4UdOmTdPatWut7p0EFGd59m8cAADYZPJkaeJEafBg6YMPHB1NZjfLDa7nVoAxFW+ukto4NoSoqCiFhYVp69atatKkSY7XrQAAAAB5zTy0r7BXpEikipmBAwc6OgQAAAAUY0VlaB8lCQAAAAAFxpxIMdkEAAAAANioqAztI5GyEXNyAEUT/7YBAChYDO0rJlxdM6bWS0lJcXAkAPKD+ebT1987DQAA5I+0NOn06YznhX1oH5NN5MDNzU0+Pj76+++/5e7uzkx3QBFhGIYuXbqkkydPKjAw0PJHEwAAkH/OnJHS0zOely7t2FhuFYlUDkwmk8qXL6+4uDj9+eefjg4HQB4LDAxUcHCwo8MAAKBYMA/rK1VKcivkmUghD79geHh4KDw8nOF9QBHj7u5OJQoAgAJknmiisA/rk0ikbObi4iIvLy9HhwEAAAAUWkVlogmJySYAAAAAFJCicg8piUQKAAAAQAEpKveQkkikAAAAABQQhvYBAAAAgJ0Y2gcAAAAAdmJoHwAAAADYiaF9AAAAAGCnonQfKRIpAAAAAPkuNVU6cybjORUpAAAAALDBqVMZP11cpKAgx8aSF0ikAAAAAOQ787C+0qUzkqnCrggcAgAAAABnV5QmmpBIpAAAAAAUABIpAAAAALBTUZqxTyKRAgAAAFAAqEgBAAAAgJ3MiRQVKQAAAACwkXloHxUpAAAAALARQ/sAAAAAwE5MNgEAAAAAdqIiBQAAAAB2uHpVSk7OeE4iBQAAAAA2MA/rc3eXAgIcG0teIZECAAAAkK+un/rcZHJsLHmFRAoAAABAvipq10dJJFIAAAAA8llRm7FPIpECAAAAkM+oSAEAAACAna6/RqqoIJECAAAAkK/MQ/uoSAEAAACAjRjaBwAAAAB2YmgfAAAAANiJoX0AAAAAYCeG9gEAAACAHS5elC5dynjO0D4AAAAAsIF5WJ+Xl+Tn59hY8hKJFAAAAIB8c/2wPpPJsbHkJRIpAAAAAPnGXJEqSsP6JBIpAAAAAPmoKE40IZFIAQAAAMhHJFL57PXXX5fJZNKIESMsbVeuXNHQoUNVqlQp+fn5qUePHkpMTLRa7+jRo+rUqZN8fHxUtmxZjRkzRteuXSvg6AEAAABkhaF9+Wjbtm16//33Va9ePav2kSNHasWKFVqyZIk2btyoEydOqHv37pblaWlp6tSpk1JSUrRlyxZ99NFHio6O1ksvvVTQhwAAAAAgC1Sk8smFCxfUp08fzZs3TyVLlrS0JyUl6cMPP9S0adN09913q1GjRpo/f762bNmirVu3SpLWrFmjvXv36tNPP1WDBg3UsWNHvfzyy5o1a5ZSUlIcdUgAAAAA/mFOpKhI5bGhQ4eqU6dOat++vVV7bGysUlNTrdpr1qypSpUqKSYmRpIUExOjunXrqly5cpY+kZGRSk5O1p49e7Ld59WrV5WcnGz1AAAAAJD3zEP7ilpFys2RO1+4cKF++eUXbdu2LdOyhIQEeXh4KDAw0Kq9XLlySkhIsPS5PokyLzcvy86UKVMUFRV1i9EDAAAAyAlD+/LYsWPHNHz4cH322Wfy8vIq0H2PHz9eSUlJlsexY8cKdP8AAABAcWAYTDaR52JjY3Xy5Ek1bNhQbm5ucnNz08aNG/Xuu+/Kzc1N5cqVU0pKis6dO2e1XmJiooKDgyVJwcHBmWbxM78298mKp6en/P39rR4AAAAA8tb589LVqxnPSaTySLt27bR7927t3LnT8mjcuLH69Oljee7u7q5169ZZ1tm/f7+OHj2qiIgISVJERIR2796tk+Z6oaS1a9fK399ftWvXLvBjAgAAAPAv89d0Pz/Jx8exseQ1h10jVaJECdWpU8eqzdfXV6VKlbK0Dxo0SKNGjVJQUJD8/f319NNPKyIiQs2aNZMk3Xvvvapdu7b69u2rN998UwkJCXrxxRc1dOhQeXp6FvgxAQAAAPhXUR3WJzl4somcTJ8+XS4uLurRo4euXr2qyMhIzZ4927Lc1dVVK1eu1FNPPaWIiAj5+vqqf//+mjx5sgOjBgAAACAV3YkmJMlkGIbh6CAcLTk5WQEBAUpKSuJ6KQAAACCPzJsnPf641Lmz9NVXjo7GNrbmBg6/jxQAAACAoqkoD+0jkQIAAACQL4ry0D4SKQAAAAD5wpxIUZECAAAAABuZh/ZRkQIAAAAAGzG0DwAAAADsxGQTAAAAAGCH9HSG9gEAAACAXc6dk65dy3hORQoAAAAAbGCuRgUESB4ejo0lP5BIAQAAAMhzRXmiCYlECgAAAEA+IJECAAAAADsV5Rn7JBIpAAAAAPmAihQAAAAA2IlECgAAAADsxNA+AAAAALATFSkAAAAAsBMVKQAAAACwExUpAAAAALBDWpp06lTGcxIpAAAAALDBmTOSYWQ8L1XKsbHkFxIpAAAAAHnKPKyvVCnJzc2xseQXEikAAAAAeaqoXx8lkUgBAAAAyGNFfcY+iUQKAAAAQB6jIgUAAAAAdiKRAgAAAAA7MbQPAAAAAOxERQoAAAAA7GROpKhIAQAAAICNzEP7qEgBAAAAgI0Y2neD1NRUtWvXTgcOHMiveAAAAAAUYqmp0tmzGc8Z2vcPd3d3/frrr/kVCwAAAIBC7tSpjJ8uLlJQkGNjyU92D+179NFH9eGHH+ZHLAAAAAAKuesnmnApwhcSudm7wrVr1/Tf//5X3333nRo1aiRfX1+r5dOmTcuz4AAAAAAULsXhHlJSLhKp3377TQ0bNpQk/fHHH1bLTCZT3kQFAAAAoFAqDhNNSLlIpNavX58fcQAAAAAoAopLIpXrUYsHDx7U6tWrdfnyZUmSYRh5FhQAAACAwqm4DO2zO5E6ffq02rVrpxo1aui+++5TfHy8JGnQoEF69tln8zxAAAAAAIUHFalsjBw5Uu7u7jp69Kh8fHws7b169dKqVavyNDgAAAAAhcv1s/YVZXZfI7VmzRqtXr1aFStWtGoPDw/Xn3/+mWeBAQAAACh8zEP7qEjd4OLFi1aVKLMzZ87I09MzT4ICAAAAUDgxtC8bLVu21Mcff2x5bTKZlJ6erjfffFNt27bN0+AAAAAAFC7FZbIJu4f2vfnmm2rXrp22b9+ulJQUjR07Vnv27NGZM2e0efPm/IgRAAAAQCFw5YqUnJzxnIrUDerUqaM//vhDd911lx544AFdvHhR3bt3144dO1StWrX8iBEAAABAIWCuRrm7SwEBjo0lv9ldkZKkgIAAvfDCC3kdCwAAAIBC7PphfSaTY2PJb3ZXpFatWqUff/zR8nrWrFlq0KCBHnnkEZ09ezZPgwMAAABQeBSXiSakXCRSY8aMUfI/Ax93796tUaNG6b777lNcXJxGjRqV5wECAAAAKByKUyJl99C+uLg41a5dW5L0xRdfqHPnznrttdf0yy+/6L777svzAAEAAAAUDsVlxj4pFxUpDw8PXbp0SZL03Xff6d5775UkBQUFWSpVAAAAAIofKlI3cdddd2nUqFFq0aKFfv75Zy1atEiS9Mcff6hixYp5HiAAAACAwqE4JVJ2V6RmzpwpNzc3LV26VHPmzFGFChUkSd9++606dOiQ5wECAAAAKByK09A+uytSlSpV0sqVKzO1T58+PU8CAgAAAFA4FaeKlM2J1K+//pple0BAgCpVqiRTUZ8oHgAAAMBNUZHKQoMGDWQymWQYhlW7yWSSl5eXRowYocmTJ8vV1TXPgwQAAADg/KhIZSEuLi7L9nPnzik2NlYTJkxQyZIlNXr06DwLDgAAAEDhcPGi9M/k3iRS16tcuXK27fXr15e/v7+ioqJIpAAAAIBiyDysz8tL8vV1bCwFwe5Z+7LTqFGjbKtWAAAAAIq264f1FYfpE/IskUpISFCZ4nBVGQAAAIBMitP1UVIeJVJ///23JkyYoLZt2+bF5gAAAAAUMsVpxj7Jjmuk7rjjjiynOE9KStJff/2l2267TZ9++mmeBgcAAACgcChuFSmbE6muXbtm2e7v76/bbrtNkZGRTH0OAAAAFFMkUtmYOHFifsYBAAAAoBArbkP78myyCQAAAADFV3GrSJFIAQAAALhl5kSKihQAAAAA2Mg8tI+KFAAAAADYwDAY2pej9evX50ccAAAAAAqp8+ellJSM5wzty0aHDh1UrVo1vfLKKzp27Fh+xAQAAACgEDFXo/z8JG9vx8ZSUOxOpI4fP65hw4Zp6dKlqlq1qiIjI7V48WKlmFNQAAAAAMVKcRvWJ+UikSpdurRGjhypnTt36qefflKNGjU0ZMgQhYSE6JlnntGuXbvyI04AAAAATqq43UNKusXJJho2bKjx48dr2LBhunDhgv773/+qUaNGatmypfbs2ZPj+nPmzFG9evXk7+8vf39/RURE6Ntvv7Usv3LlioYOHapSpUrJz89PPXr0UGJiotU2jh49qk6dOsnHx0dly5bVmDFjdO3atVs5LAAAAAB2oCJlo9TUVC1dulT33XefKleurNWrV2vmzJlKTEzUwYMHVblyZT300EM5bqdixYp6/fXXFRsbq+3bt+vuu+/WAw88YEnCRo4cqRUrVmjJkiXauHGjTpw4oe7du1vWT0tLU6dOnZSSkqItW7boo48+UnR0tF566aXcHBYAAACAXCiOiZTJMAzDnhWefvppff755zIMQ3379tVjjz2mOnXqWPVJSEhQSEiI0tPT7Q4oKChIb731lh588EGVKVNGCxYs0IMPPihJ+v3331WrVi3FxMSoWbNm+vbbb3X//ffrxIkTKleunCRp7ty5eu655/T333/Lw8PDpn0mJycrICBASUlJ8vf3tztmAAAAoDgbMUKaMUMaN06aMsXR0dwaW3MDuytSe/fu1XvvvacTJ07onXfeyZRESRnXUdk7TXpaWpoWLlyoixcvKiIiQrGxsUpNTVX79u0tfWrWrKlKlSopJiZGkhQTE6O6detakihJioyMVHJy8k2HFl69elXJyclWDwAAAAC5UxwrUm72rrBu3bqcN+rmptatW9u0vd27dysiIkJXrlyRn5+fli1bptq1a2vnzp3y8PBQYGCgVf9y5copISFBUkbl6/okyrzcvCw7U6ZMUVRUlE3xAQAAALg5Eikb7d+/X++995727dsnSapVq5aefvpp3XbbbXZv67bbbtPOnTuVlJSkpUuXqn///tq4cWNuwrLZ+PHjNWrUKMvr5ORkhYaG5us+AQAAgKKKWfts8MUXX6hOnTqKjY1V/fr1Vb9+ff3yyy+qU6eOvvjiC7sD8PDwUPXq1dWoUSNNmTJF9evX14wZMxQcHKyUlBSdO3fOqn9iYqKCg4MlScHBwZlm8TO/NvfJiqenp2WmQPMDAAAAQO4Ux4qU3YnU2LFjNX78eMXExGjatGmaNm2atmzZoueff15jx4695YDS09N19epVNWrUSO7u7lZDCffv36+jR48qIiJCkhQREaHdu3frpPmTk7R27Vr5+/urdu3atxwLAAAAgJtLT5dOncp4XpwqUnYP7YuPj1e/fv0ytT/66KN666237NrW+PHj1bFjR1WqVEnnz5/XggULtGHDBq1evVoBAQEaNGiQRo0apaCgIPn7++vpp59WRESEmjVrJkm69957Vbt2bfXt21dvvvmmEhIS9OKLL2ro0KHy9PS099AAAAAA2OncOcl8G1cSqZto06aNfvjhB1WvXt2q/ccff1TLli3t2tbJkyfVr18/xcfHKyAgQPXq1dPq1at1zz33SJKmT58uFxcX9ejRQ1evXlVkZKRmz55tWd/V1VUrV67UU089pYiICPn6+qp///6aPHmyvYcFAAAAIBfMg8MCAyUb7z5UJNh0H6mvvvrK8vzEiRN66aWX1LNnT0tlaOvWrVqyZImioqL05JNP5l+0+YT7SAEAAAC588MPUqtWUni49Mcfjo7m1tmaG9iUSLm42HYplclkUlpamu1ROgkSKQAAACB3vvhCevBBqUUL6ccfHR3NrbM1N7BpaF96enqeBQYAAACg6CiOM/ZJuZi1DwAAAADMiuM9pCQSKQAAAAC3gIoUAAAAANiJRAoAAAAA7MTQPgAAAACwExUpG/3yyy/avXu35fX//vc/de3aVc8//7xSUlLyNDgAAAAAzo2KlI2eeOIJ/fHPnbYOHz6shx9+WD4+PlqyZInGjh2b5wECAAAAcE5padKpUxnPqUjl4I8//lCDBg0kSUuWLFGrVq20YMECRUdH64svvsjr+AAAAAA4qdOnJcOQTCapVClHR1Ow7E6kDMOw3KD3u+++03333SdJCg0N1SlzOgoAAACgyDMP6wsKktzcHBtLQbM7kWrcuLFeeeUVffLJJ9q4caM6deokSYqLi1O5cuXyPEAAAAAAzqm4TjQh5SKReuedd/TLL79o2LBheuGFF1S9enVJ0tKlS9W8efM8DxAAAACAcyrOiZTdBbh69epZzdpn9tZbb8nV1TVPggIAAADg/IrrjH1SLhKp7Hh5eeXVpgAAAAAUAlSk7FCyZEmZTKZM7SaTSV5eXqpevboGDBiggQMH5kmAAAAAAJwTiZQdXnrpJb366qvq2LGjmjRpIkn6+eeftWrVKg0dOlRxcXF66qmndO3aNQ0ePDjPAwYAAADgHBjaZ4cff/xRr7zyip588kmr9vfff19r1qzRF198oXr16undd98lkQIAAACKsOJckbJ71r7Vq1erffv2mdrbtWun1atXS5Luu+8+HT58+NajAwAAAOC0SKTsEBQUpBUrVmRqX7FihYKCgiRJFy9eVIkSJW49OgAAAABOi6F9dpgwYYKeeuoprV+/3nKN1LZt2/TNN99o7ty5kqS1a9eqdevWeRspAAAAAKeRmiqdPZvxvDhWpEyGYRj2rrR582bNnDlT+/fvlyTddtttevrppwvtDXmTk5MVEBCgpKQk+fv7OzocAAAAwOnFx0shIZKrq5SSIrnYPdbNOdmaG+TqPlItWrRQixYtch0cAAAAgMLNfH1U6dJFJ4myR64SqfT0dB08eFAnT55Uenq61bJWrVrlSWAAAAAAnFdxnmhCykUitXXrVj3yyCP6888/deOoQJPJpLS0tDwLDgAAAIBzKs4TTUi5SKSefPJJNW7cWF9//bXKly8vk8mUH3EBAAAAcGJUpOx04MABLV26VNWrV8+PeAAAAAAUAsU9kbL7srCmTZvq4MGD+RELAAAAgEKCoX12evrpp/Xss88qISFBdevWlbu7u9XyevXq5VlwAAAAAJxTca9I2Z1I9ejRQ5L0n//8x9JmMplkGAaTTQAAAADFBImUneLi4vIjDgAAAACFCEP77FS5cuX8iAMAAABAIUJFygZfffWVOnbsKHd3d3311Vc37dulS5c8CQwAAACAc7pyRTp/PuN5ca1ImYwb76qbBRcXFyUkJKhs2bJyccl+or/Ceo1UcnKyAgIClJSUJH9/f0eHAwAAADi1Y8ekSpUkd3fp6lWpKN1a1tbcwKaKVHp6epbPAQAAABQ/1w/rK0pJlD3svo/Uxx9/rKtXr2ZqT0lJ0ccff5wnQQEAAABwXsV9ogkpF4nUwIEDlZSUlKn9/PnzGjhwYJ4EBQAAAMB5FfeJJqRcJFLm+0Xd6K+//lJAQECeBAUAAADAeZFI2TH9+R133CGTySSTyaR27drJze3fVdPS0hQXF6cOHTrkS5AAAAAAnAdD++xIpLp27SpJ2rlzpyIjI+Xn52dZ5uHhobCwMPXo0SPPAwQAAADgXKhI2ZFITZw4UZIUFhamXr16ycvLK9+CAgAAAOC8SKTsSKTM+vfvnx9xAAAAACgkGNqXi0QqLS1N06dP1+LFi3X06FGlpKRYLT9z5kyeBQcAAADA+VCRysWsfVFRUZo2bZp69eqlpKQkjRo1St27d5eLi4smTZqUDyECAAAAcCZUpHKRSH322WeaN2+enn32Wbm5ual37976v//7P7300kvaunVrfsQIAAAAwElcvChdupTxnIqUHRISElS3bl1Jkp+fn+XmvPfff7++/vrrvI0OAAAAgFMxD+vz9pZ8fR0biyPZnUhVrFhR8fHxkqRq1appzZo1kqRt27bJ09Mzb6MDAAAA4FSuH9ZnMjk2FkeyO5Hq1q2b1q1bJ0l6+umnNWHCBIWHh6tfv376z3/+k+cBAgAAAHAeTDSRwe5Z+15//XXL8169eqly5crasmWLwsPD1blz5zwNDgAAAIBzIZHKYHcidaNmzZqpWbNmkqTt27ercePGtxwUAAAAAOfEjH0Z7B7ad+HCBV2+fNmqbefOnercubOaNm2aZ4EBAAAAcD5UpDLYnEgdO3ZMERERCggIUEBAgEaNGqVLly6pX79+atq0qXx9fbVly5b8jBUAAACAg5FIZbB5aN+YMWN05coVzZgxQ19++aVmzJihH374QU2bNtWhQ4dUsWLF/IwTAAAAgBNgaF8GmxOpTZs26csvv1SzZs3Us2dPBQcHq0+fPhoxYkQ+hgcAAADAmVCRymDz0L7ExERVqVJFklS2bFn5+PioY8eO+RYYAAAAAOdDIpXBrskmXFxcrJ57eHjkeUAAAAAAnJNhMLTPzOahfYZhqEaNGjL9c/viCxcu6I477rBKriTpzJkzeRshAAAAAKeQnCylpGQ8J5Gy0fz58/MzDgAAAABOzlyN8vOTvL0dG4uj2ZxI9e/fPz/jAAAAAODkuD7qX3bfkBcAAABA8UQi9S8SKQAAAAA2YaKJf5FIAQAAALAJFal/2ZRIJScn53ccAAAAAJwcidS/bEqkSpYsqZP/vGt33323zp07l58xAQAAAHBCDO37l02JlJ+fn06fPi1J2rBhg1JTU/M1KAAAAADOh4rUv2ya/rx9+/Zq27atatWqJUnq1q2bPDw8suz7/fff5110AAAAAJwGidS/bEqkPv30U3300Uc6dOiQNm7cqNtvv10+Pj75HRsAAAAAJ8LQvn+ZDMMw7Fmhbdu2WrZsmQIDA/MppIKXnJysgIAAJSUlyd/f39HhAAAAAE4nPV3y8JDS0qTjx6WQEEdHlD9szQ1sqkhdb/369Zbn5hzMZDLlIkQAAAAAhcW5cxlJlCSVLu3QUJxCru4j9fHHH6tu3bry9vaWt7e36tWrp08++SSvYwMAAADgJMzXRwUGZlSmiju7E6lp06bpqaee0n333afFixdr8eLF6tChg5588klNnz7drm1NmTJFd955p0qUKKGyZcuqa9eu2r9/v1WfK1euaOjQoSpVqpT8/PzUo0cPJSYmWvU5evSoOnXqJB8fH5UtW1ZjxozRtWvX7D00AAAAANlgoglrdg/te++99zRnzhz169fP0talSxfdfvvtmjRpkkaOHGnztjZu3KihQ4fqzjvv1LVr1/T888/r3nvv1d69e+Xr6ytJGjlypL7++mstWbJEAQEBGjZsmLp3767NmzdLktLS0tSpUycFBwdry5Ytio+PV79+/eTu7q7XXnvN3sMDAAAAkAUmmrBm92QTXl5e+u2331S9enWr9gMHDqhu3bq6cuVKroP5+++/VbZsWW3cuFGtWrVSUlKSypQpowULFujBBx+UJP3++++qVauWYmJi1KxZM3377be6//77deLECZUrV06SNHfuXD333HP6+++/s52m/XpMNgEAAADc3Jw50pAhUrdu0pdfOjqa/GNrbmD30L7q1atr8eLFmdoXLVqk8PBwezdnJSkpSZIUFBQkSYqNjVVqaqrat29v6VOzZk1VqlRJMTExkqSYmBjVrVvXkkRJUmRkpJKTk7Vnz54s93P16lUlJydbPQAAAABkj6F91uwe2hcVFaVevXpp06ZNatGihSRp8+bNWrduXZYJlq3S09M1YsQItWjRQnXq1JEkJSQkyMPDI9NU6+XKlVNCQoKlz/VJlHm5eVlWpkyZoqioqFzHCgAAABQ3DO2zZndFqkePHvrpp59UunRpLV++XMuXL1fp0qX1888/q1u3brkOZOjQofrtt9+0cOHCXG/DVuPHj1dSUpLlcezYsXzfJwAAAFCYUZGyZndFSpIaNWqkTz/9NM+CGDZsmFauXKlNmzapYsWKlvbg4GClpKTo3LlzVlWpxMREBQcHW/r8/PPPVtszz+pn7nMjT09PeXp65ln8AAAAQFFHImUtV/eRyiuGYWjYsGFatmyZvv/+e1WpUsVqeaNGjeTu7q5169ZZ2vbv36+jR48qIiJCkhQREaHdu3frpPmTlbR27Vr5+/urdu3aBXMgAAAAQBHH0D5ruapI5ZWhQ4dqwYIF+t///qcSJUpYrmkKCAiQt7e3AgICNGjQII0aNUpBQUHy9/fX008/rYiICDVr1kySdO+996p27drq27ev3nzzTSUkJOjFF1/U0KFDqToBAAAAeYSKlDW7pz/P052bTFm2z58/XwMGDJCUcUPeZ599Vp9//rmuXr2qyMhIzZ4922rY3p9//qmnnnpKGzZskK+vr/r376/XX39dbm625YlMfw4AAABkLy1NcneXDENKTCzayZStuYFDEylnQSIFAAAAZO/kSalcOclkklJTJVdXR0eUf/LtPlIAAAAAihfzsL5SpYp2EmWPPEukZs+ercmTJ+fV5gAAAAA4CSaayCzPEqkvvvhC0dHRebU5AAAAAE6CiSYyy7NZ+66fohwAAABA0UEildktVaQMwxBzVQAAAABFG0P7MstVIvXxxx+rbt268vb2lre3t+rVq6dPPvkkr2MDAAAA4ASoSGVm99C+adOmacKECRo2bJhatGghSfrxxx/15JNP6tSpUxo5cmSeBwkAAADAcUikMrM7kXrvvfc0Z84c9evXz9LWpUsX3X777Zo0aRKJFAAAAFDEMLQvM7uH9sXHx6t58+aZ2ps3b674+Pg8CQoAAACA86AilZndiVT16tW1ePHiTO2LFi1SeHh4ngQFAAAAwHmQSGVm99C+qKgo9erVS5s2bbJcI7V582atW7cuywQLAAAAQOGVkiKdO5fxnKF9/7K7ItWjRw/99NNPKl26tJYvX67ly5erdOnS+vnnn9WtW7f8iBEAAACAg5w6lfHT1VUqWdKxsTiTXN2Qt1GjRvr000/zOhYAAAAATsY80UTp0pLLLd2FtmjhrQAAAACQLa6PyprNFSkXFxeZTKab9jGZTLp27dotBwUAAADAOZBIZc3mRGrZsmXZLouJidG7776r9PT0PAkKAAAAgHPgHlJZszmReuCBBzK17d+/X+PGjdOKFSvUp08fTZ48OU+DAwAAAOBYVKSylqtrpE6cOKHBgwerbt26unbtmnbu3KmPPvpIlStXzuv4AAAAADgQiVTW7EqkkpKS9Nxzz6l69eras2eP1q1bpxUrVqhOnTr5FR8AAAAAB2JoX9ZsHtr35ptv6o033lBwcLA+//zzLIf6AQAAAChaqEhlzWQYhmFLRxcXF3l7e6t9+/ZydXXNtt+XX36ZZ8EVlOTkZAUEBCgpKUn+/v6ODgcAAABwGtWqSYcPS5s3S82bOzqa/GdrbmBzRapfv345Tn8OAAAAoGhhaF/WbE6koqOj8zEMAAAAAM7myhXp/PmM5wzts5arWfsAAAAAFH3mapS7u8QVMNZIpAAAAABk6fqJJrjKxxqJFAAAAIAsMWNf9kikAAAAAGSJiSayRyIFAAAAIEtUpLJHIgUAAAAgSyRS2SORAgAAAJAlhvZlj0QKAAAAQJaoSGWPRAoAAABAlkikskciBQAAACBLDO3LHokUAAAAgCxRkcoeiRQAAACATC5elC5fznhOIpUZiRQAAACATMzVKG9vydfXsbE4IxIpAAAAAJkwrO/mSKQAAAAAZMJEEzdHIgUAAAAgEypSN0ciBQAAACATEqmbI5ECAAAAkAlD+26ORAoAAABAJlSkbo5ECgAAAEAmJFI3RyIFAAAAIBOG9t0ciRQAAACATKhI3RyJFAAAAAArhkEilRMSKQAAAABWkpOl1NSM5wztyxqJFAAAAAAr5mpUiRKSl5djY3FWJFIAAAAArDDRRM5IpAAAAABY4fqonJFIAQAAALBCIpUzEikAAAAAVhjalzMSKQAAAABWqEjljEQKAAAAgBUSqZyRSAEAAACwwtC+nJFIAQAAALBCRSpnJFIAAAAArJBI5YxECgAAAIBFerp06lTGc4b2ZY9ECgAAAIDF2bNSWlrG89KlHRuLMyORAgAAAGBhnmiiZEnJw8OxsTgzEikAAAAAFubroxjWd3MkUgAAAAAsmGjCNiRSAAAAACy4h5RtSKQAAAAAWFCRsg2JFAAAAAALEinbkEgBAAAAsGBon21IpAAAAABYUJGyDYkUAAAAAAsSKduQSAEAAACwYGifbUikAAAAAEiS0tKk06cznlORujmHJlKbNm1S586dFRISIpPJpOXLl1stNwxDL730ksqXLy9vb2+1b99eBw4csOpz5swZ9enTR/7+/goMDNSgQYN04cKFAjwKAAAAoGg4fVoyDMlkkkqVcnQ0zs2hidTFixdVv359zZo1K8vlb775pt59913NnTtXP/30k3x9fRUZGakrV65Y+vTp00d79uzR2rVrtXLlSm3atEmPP/54QR0CAAAAUGSYr48qVUpydXVsLM7OZBiG4eggJMlkMmnZsmXq2rWrpIxqVEhIiJ599lmNHj1akpSUlKRy5copOjpaDz/8sPbt26fatWtr27Ztaty4sSRp1apVuu+++/TXX38pJCTEpn0nJycrICBASUlJ8vf3z5fjAwAAAJzd999L7dpJtWtLe/Y4OhrHsDU3cNprpOLi4pSQkKD27dtb2gICAtS0aVPFxMRIkmJiYhQYGGhJoiSpffv2cnFx0U8//ZTttq9evark5GSrBwAAAFDcMdGE7Zw2kUpISJAklStXzqq9XLlylmUJCQkqe8NVcG5ubgoKCrL0ycqUKVMUEBBgeYSGhuZx9AAAAEDhw9TntnPaRCo/jR8/XklJSZbHsWPHHB0SAAAA4HAkUrZz2kQqODhYkpSYmGjVnpiYaFkWHBysk+ZP+x/Xrl3TmTNnLH2y4unpKX9/f6sHAAAAUNwxtM92TptIValSRcHBwVq3bp2lLTk5WT/99JMiIiIkSRERETp37pxiY2Mtfb7//nulp6eradOmBR4zAAAAUJhRkbKdmyN3fuHCBR08eNDyOi4uTjt37lRQUJAqVaqkESNG6JVXXlF4eLiqVKmiCRMmKCQkxDKzX61atdShQwcNHjxYc+fOVWpqqoYNG6aHH37Y5hn7AAAAAGQgkbKdQxOp7du3q23btpbXo0aNkiT1799f0dHRGjt2rC5evKjHH39c586d01133aVVq1bJy8vLss5nn32mYcOGqV27dnJxcVGPHj307rvvFvixAAAAAIUdQ/ts5zT3kXIk7iMFAAAASCVLSufOSfv2STVrOjoaxyj095ECAAAAUHBSUjKSKImhfbYgkQIAAACgU6cyfrq6SoGBDg2lUCCRAgAAAGCZaKJMGcmFLCFHvEUAAAAALBNNMKzPNiRSAAAAAKwqUsgZiRQAAAAA7iFlJxIpAAAAANxDyk4kUgAAAACoSNmJRAoAAAAAiZSdSKQAAAAAMLTPTiRSAAAAAKhI2YlECgAAAACJlJ1IpAAAAIBi7vJl6cKFjOcM7bMNiRQAAABQzJmvj/LwkPz9HRtLYUEiBQAAABRz5kSqbFnJZHJsLIUFiRQAAABQzJmvj2JYn+1IpAAAAIBijokm7EciBQAAABRz3EPKfiRSAAAAQDFHRcp+JFIAAABAMUciZT8SKQAAAKCYY2if/UikAAAAgGKOipT9SKQAAACAYo5Eyn4kUgAAAEAxZhgM7csNEikAAACgGLt4Ubp8OeM5FSnbkUgBAAAAxZi5GuXjI/n6OjaWwoRECgAAACjGzNdHMazPPiRSAAAAQDHGRBO5QyIFAAAAFGNMNJE7JFIAAABAMUZFKndIpAAAAIBijEQqd0ikAAAAgGKMoX25QyIFAAAAFGNUpHKHRAoAAAAoxkikcodECgAAACjGGNqXOyRSAAAAQDFlGFSkcotECgAAACimkpOl1NSM51Sk7EMiBQAAABRT5mpUiRKSl5djYylsSKQAAACAYophfblHIgUAAAAUU+aJJkik7EciBQAAABRT5ooU10fZj0QKAAAAKKYY2pd7JFIAAABAMcU9pHKPRAoAAAAopqhI5R6JFAAAAFBMkUjlHokUAAAAUEwxtC/3SKQAAACAYoqKVO6RSAEAAADFUHq6dOpUxnMSKfuRSAEAAADF0NmzUlpaxvPSpR0bS2FEIgUAAAAUQ+ZhfSVLSu7ujo2lMCKRAgAAAIoh80QTDOvLHRIpAAAAoBgyV6SYsS93SKQAAACAYogZ+24NiRQAAABQDHEPqVtDIgUAAAAUQ1Skbg2JFAAAAFAMkUjdGhIpAAAAoBhiaN+tIZECAAAAiiEqUreGRAoAAAAohkikbg2JFAAAAFDMXLsmnTmT8ZyhfblDIgUAAAAUM6dPS4YhmUxSqVKOjqZwIpECAAAAihnzRBOlS0uuro6NpbAikQIAAACKGfP1UQzryz0SKQAAAKCYYaKJW0ciBQAAABQn6Wn6+9ABSVJZ/5NSepqDAyqcSKQAAACA4uLYl9JXYTq5faEkqczlxdJXYRntsIubowMAAAAA8kV6mvT3D9LleMm7vFSmpeTioJkVnCGWY19KPzwoydDJ5IwxfWX9T0qXjme0t1wqhXYv2JgKMRIpAAAAeznDl2Kz1DRpxW7pr0tSRR+pc13J3YHTsDnLe3PsSyl2uHTpr3/bfCpKjWYUfLLgDLGkp2XEIEOS9HdyxiwTZfz//qfNJMWOkCo84LhzuZAhkXImzvSL0Fl+CTpbLM4WjzPFwvnr/LE4WzzOFAvnb+GIx1licYYvxWYfbJWerySdbvBvW6kT0mtHpcebFWwskvO8N9dVXqw4ovJSgLGkpEgXL0oXLmQ8rn9+4fh+XYy9Vxeu+OnCFT/9cqShpH8qUlJGfJeOZfwbK9cmT+Ip6kyGYRg5dyvakpOTFRAQoKSkJPn7+zsmCMsvwpB/2xz1i9BZfgk6WyzOFo8zxcL56/yxOFs8zhQL52/hiMdZYsnuS7FMGT8K8gv6B1ulJ5r88+L6y97TM368/3PBnsPO8t6kp2Vc83P9uXJjPD4VpS5x+Z+IZxPLtTRXXbzqq4tX/XRB1XWh6fe6cMnVOvG5MRGy4XVqqv0h/jz5Tt1Zbfu/Dc0XSGG9b+24Czlbc4Mik0jNmjVLb731lhISElS/fn299957atKkSc4rygkSKWf6RegsvwSdLRZni8eZYuH8df5YnC0eZ4qF87dwxOMEsaSnS6lX05Sy/HalJP+t1DR3pVzzUFr69V/ETRmVsvab8v8Lemqa1PSUdK6Msp47LF0qeVLaWqZgqqvpadJ3LTOqhZIMmZR6LeM9SknzUMo1T6W4VlDKnQuVcs1VKSkZX/pTUrJ/5Hr55UtKSUqwfEYp1zxkmM+V67n5SaZ8HpxlXJOuXfj3pWFSyjUPXUn1ztfdenhIfn6Sr2/GTz8/yc/jrHwv/Sg/rwvy87wgP68Lqhnyux6/+wOZrn972q0v9hWpYpVILVq0SP369dPcuXPVtGlTvfPOO1qyZIn279+vsjZMju/QRCo1TSqfKJ0OVrJc9F2mDulSibPS/wVKbgXwV5NtT0opp7PpYJI8Skl3zimYv+A4SyzOFo8zxXItTRqUJF0IVLb/kXP+OjYWZ4vHmWLh/C0c8dwQi2GYdC3N7bovyZ5KcSmrlNsmKiXV5da/hGez/Nq1/D1MFE+uLtcyEht/D/kF+GROfm54fbNl5te+vhmJVCaW6thxZf6jhFSglTonV6wSqaZNm+rOO+/UzJkzJUnp6ekKDQ3V008/rXHjxuW4vkMTqS93Sj0aSJL2SapdsHsHAAC5YDKly9Ptqlxdsrj/jqunZHLP3wBS06QUG77seqQVTEXKSJXSrlrv2i3F+uGaIo+A8nL3LSkPD2X7cHfPfplNy8/vkMeupyz7dXdNlYtLeuaYIz6VSjfN3/fl1E9SzKPW74trSkby5HVBHm4pGdWggqoCWaq7knUy5aDKt5OyNTco9JNNpKSkKDY2VuPHj7e0ubi4qH379oqJiclynatXr+rq1X//sScnJ+d7nNn665LlqbekFtn1q5IsheRzknf1byl5f879/G+TPMsUn1icLR5niuVEshRnw3nJ+eu4WJwtHmeKhfO3cMSTRSxurtcyvpRf/yW9fFN5BFWx+cu2PV/MLf3O/iCPzffKwy1Frll9MTcriC/FX+62/CH2pj7fLXW3od+tStwsrWubc7+CeG/S60k6nnPlpWnj/L+jarXGUuKVnGMp0zKfA/lHaPeMZCnL6w3fIYmyU6FPpE6dOqW0tDSVK1fOqr1cuXL6/fffs1xnypQpioqKKojwclbRx/I0TNKP2fV7+3D+/yJM3OM8vwSdKRbJueJxpli+PGzbf+Scv46LRXKueJwpFs7f7DlTPHbFUiV/YwlqLu0p/c+X4qwU4JfiznUzJkU5Haxsh6aWjs/oVxDKtMw4dmdIGFxcMyYh+eHBjP1mVXlp9E7BDF9zpljMQrtnTHHuDDNgFnL5nYc7pfHjxyspKcnyOHbsmOOCMf8iVHZ/2UqXSh8vmF+E5l+CWV2QKWW0+4QWzC9BZ4rF2eJxplg4f50/FmeLx5li4fwtHPE4UyzmL8Xm/d4Yh1RwX4rdXTNmlpSU+Rz+5/WrxwpuGn9nem+kfysvPhWs230qFvzwNWeKxczFNeOPIGG9M36SROVKoU+kSpcuLVdXVyUmJlq1JyYmKjg4OMt1PD095e/vb/VwGGf6RehMvwSdKRZni8eZYuH8df5YnC0eZ4qF87dwxONMsUjO9aX48WYZM0uWSrBuLx1f8FOfS8713pjj6XIko1rZfEHGzy5xjklcnCkW5JkiM9lEkyZN9N5770nKmGyiUqVKGjZsmPNPNmGW1X1MSh/P+E/cKe5jEuqYsbPOFIuzxeNMsXD+On8szhaPM8XC+Vs44nGmWCTnuTmw5Fw3lJac670BcqFYzdq3aNEi9e/fX++//76aNGmid955R4sXL9bvv/+e6dqprDhFIiU51y9CZ/ol6EyxOFs8zhQL56/zx+Js8ThTLJy/hSMeZ4oFQJFVrBIpSZo5c6blhrwNGjTQu+++q6ZNbZvS0mkSKQAAAAAOVewSqVtBIgUAAABAsj03KPSTTQAAAABAQSORAgAAAAA7kUgBAAAAgJ1IpAAAAADATiRSAAAAAGAnEikAAAAAsBOJFAAAAADYiUQKAAAAAOxEIgUAAAAAdiKRAgAAAAA7kUgBAAAAgJ1IpAAAAADATm6ODsAZGIYhSUpOTnZwJAAAAAAcyZwTmHOE7JBISTp//rwkKTQ01MGRAAAAAHAG58+fV0BAQLbLTUZOqVYxkJ6erhMnTqhEiRIymUwOjSU5OVmhoaE6duyY/P39HRoLCgfOGdiLcwb24pyBvThnYA9nO18Mw9D58+cVEhIiF5fsr4SiIiXJxcVFFStWdHQYVvz9/Z3iRELhwTkDe3HOwF6cM7AX5wzs4Uzny80qUWZMNgEAAAAAdiKRAgAAAAA7kUg5GU9PT02cOFGenp6ODgWFBOcM7MU5A3txzsBenDOwR2E9X5hsAgAAAADsREUKAAAAAOxEIgUAAAAAdiKRAgAAAAA7kUgBAAAAgJ1IpBxg1qxZCgsLk5eXl5o2baqff/75pv2XLFmimjVrysvLS3Xr1tU333xTQJHCWdhzzsybN08tW7ZUyZIlVbJkSbVv3z7HcwxFj72/Z8wWLlwok8mkrl275m+AcCr2ni/nzp3T0KFDVb58eXl6eqpGjRr831TM2HvOvPPOO7rtttvk7e2t0NBQjRw5UleuXCmgaOFomzZtUufOnRUSEiKTyaTly5fnuM6GDRvUsGFDeXp6qnr16oqOjs73OO1FIlXAFi1apFGjRmnixIn65ZdfVL9+fUVGRurkyZNZ9t+yZYt69+6tQYMGaceOHeratau6du2q3377rYAjh6PYe85s2LBBvXv31vr16xUTE6PQ0FDde++9On78eAFHDkex95wxO3LkiEaPHq2WLVsWUKRwBvaeLykpKbrnnnt05MgRLV26VPv379e8efNUoUKFAo4cjmLvObNgwQKNGzdOEydO1L59+/Thhx9q0aJFev755ws4cjjKxYsXVb9+fc2aNcum/nFxcerUqZPatm2rnTt3asSIEXrssce0evXqfI7UTgYKVJMmTYyhQ4daXqelpRkhISHGlClTsuzfs2dPo1OnTlZtTZs2NZ544ol8jRPOw95z5kbXrl0zSpQoYXz00Uf5FSKcTG7OmWvXrhnNmzc3/u///s/o37+/8cADDxRApHAG9p4vc+bMMapWrWqkpKQUVIhwMvaeM0OHDjXuvvtuq7ZRo0YZLVq0yNc44ZwkGcuWLbtpn7Fjxxq33367VVuvXr2MyMjIfIzMflSkClBKSopiY2PVvn17S5uLi4vat2+vmJiYLNeJiYmx6i9JkZGR2fZH0ZKbc+ZGly5dUmpqqoKCgvIrTDiR3J4zkydPVtmyZTVo0KCCCBNOIjfny1dffaWIiAgNHTpU5cqVU506dfTaa68pLS2toMKGA+XmnGnevLliY2Mtw/8OHz6sb775Rvfdd1+BxIzCp7B8/3VzdADFyalTp5SWlqZy5cpZtZcrV06///57luskJCRk2T8hISHf4oTzyM05c6PnnntOISEhmX4hoWjKzTnz448/6sMPP9TOnTsLIEI4k9ycL4cPH9b333+vPn366JtvvtHBgwc1ZMgQpaamauLEiQURNhwoN+fMI488olOnTumuu+6SYRi6du2annzySYb2IVvZff9NTk7W5cuX5e3t7aDIrFGRAoqw119/XQsXLtSyZcvk5eXl6HDghM6fP6++fftq3rx5Kl26tKPDQSGQnp6usmXL6oMPPlCjRo3Uq1cvvfDCC5o7d66jQ4OT2rBhg1577TXNnj1bv/zyi7788kt9/fXXevnllx0dGnBLqEgVoNKlS8vV1VWJiYlW7YmJiQoODs5yneDgYLv6o2jJzTlj9vbbb+v111/Xd999p3r16uVnmHAi9p4zhw4d0pEjR9S5c2dLW3p6uiTJzc1N+/fvV7Vq1fI3aDhMbn7HlC9fXu7u7nJ1dbW01apVSwkJCUpJSZGHh0e+xgzHys05M2HCBPXt21ePPfaYJKlu3bq6ePGiHn/8cb3wwgtyceHv+rCW3fdff39/p6lGSVSkCpSHh4caNWqkdevWWdrS09O1bt06RUREZLlORESEVX9JWrt2bbb9UbTk5pyRpDfffFMvv/yyVq1apcaNGxdEqHAS9p4zNWvW1O7du7Vz507Lo0uXLpaZkkJDQwsyfBSw3PyOadGihQ4ePGhJuCXpjz/+UPny5UmiioHcnDOXLl3KlCyZE3HDMPIvWBRaheb7r6NnuyhuFi5caHh6ehrR0dHG3r17jccff9wIDAw0EhISDMMwjL59+xrjxo2z9N+8ebPh5uZmvP3228a+ffuMiRMnGu7u7sbu3bsddQgoYPaeM6+//rrh4eFhLF261IiPj7c8zp8/76hDQAGz95y5EbP2FS/2ni9Hjx41SpQoYQwbNszYv3+/sXLlSqNs2bLGK6+84qhDQAGz95yZOHGiUaJECePzzz83Dh8+bKxZs8aoVq2a0bNnT0cdAgrY+fPnjR07dhg7duwwJBnTpk0zduzYYfz555+GYRjGuHHjjL59+1r6Hz582PDx8THGjBlj7Nu3z5g1a5bh6upqrFq1ylGHkCUSKQd47733jEqVKhkeHh5GkyZNjK1bt1qWtW7d2ujfv79V/8WLFxs1atQwPDw8jNtvv934+uuvCzhiOJo950zlypUNSZkeEydOLPjA4TD2/p65HolU8WPv+bJlyxajadOmhqenp1G1alXj1VdfNa5du1bAUcOR7DlnUlNTjUmTJhnVqlUzvLy8jNDQUGPIkCHG2bNnCz5wOMT69euz/G5iPk/69+9vtG7dOtM6DRo0MDw8PIyqVasa8+fPL/C4c2IyDGqqAAAAAGAPrpECAAAAADuRSAEAAACAnUikAAAAAMBOJFIAAAAAYCcSKQAAAACwE4kUAAAAANiJRAoAAAAA7EQiBQAAAAB2IpECADjMhg0bZDKZdO7cOUlSdHS0AgMDb3m7KSkpql69urZs2XLL20JmKSkpCgsL0/bt2x0dCgA4DIkUABRRx44d03/+8x+FhITIw8NDlStX1vDhw3X69GmHxNOmTRuNGDHCqq158+aKj49XQEBAnu5r7ty5qlKlipo3b25pO3PmjPr06SN/f38FBgZq0KBBunDhwk23c+XKFQ0dOlSlSpWSn5+fevToocTERKs+R48eVadOneTj46OyZctqzJgxunbtWrbbPHLkiEwmk3bu3HlLxyhJmzZtUufOnRUSEiKTyaTly5fbtN6GDRvUsGFDeXp6qnr16oqOjs7UZ9asWQoLC5OXl5eaNm2qn3/+2bLMw8NDo0eP1nPPPXfLxwAAhRWJFAAUQYcPH1bjxo114MABff755zp48KDmzp2rdevWKSIiQmfOnHF0iJIyvpAHBwfLZDLl2TYNw9DMmTM1aNAgq/Y+ffpoz549Wrt2rVauXKlNmzbp8ccfv+m2Ro4cqRUrVmjJkiXauHGjTpw4oe7du1uWp6WlqVOnTkpJSdGWLVv00UcfKTo6Wi+99FKeHc/NXLx4UfXr19esWbNsXicuLk6dOnVS27ZttXPnTo0YMUKPPfaYVq9ebemzaNEijRo1ShMnTtQvv/yi+vXrKzIyUidPnrT06dOnj3788Uft2bMnT48JAAoNAwBQ5HTo0MGoWLGicenSJav2+Ph4w8fHx3jyySctbZKMZcuWWfULCAgw5s+fb3k9duxYIzw83PD29jaqVKlivPjii0ZKSopl+cSJE4369esbH3/8sVG5cmXD39/f6NWrl5GcnGwYhmH079/fkGT1iIuLM9avX29IMs6ePWsYhmHMnz/fCAgIsIpl+fLlxh133GF4enoaVapUMSZNmmSkpqZme+zbtm0zXFxcLPs2DMPYu3evIcnYtm2bpe3bb781TCaTcfz48Sy3c+7cOcPd3d1YsmSJpW3fvn2GJCMmJsYwDMP45ptvDBcXFyMhIcHSZ86cOYa/v79x9erVLLd74/vQunVrwzAMIy0tzYiKijIqVKhgeHh4GPXr1ze+/fbbbI8zq+3e+DlmZezYscbtt99u1darVy8jMjLS8rpJkybG0KFDLa/T0tKMkJAQY8qUKVbrtW3b1njxxRdtjhEAihIqUgBQxJw5c0arV6/WkCFD5O3tbbUsODhYffr00aJFi2QYhs3bLFGihKKjo7V3717NmDFD8+bN0/Tp0636HDp0SMuXL9fKlSu1cuVKbdy4Ua+//rokacaMGYqIiNDgwYMVHx+v+Ph4hYaG5rjfH374Qf369dPw4cO1d+9evf/++4qOjtarr75603Vq1KihEiVKWNpiYmIUGBioxo0bW9rat28vFxcX/fTTT1luJzY2VqmpqWrfvr2lrWbNmqpUqZJiYmIs261bt67KlStn6RMZGank5ORsKzXmIXLfffed4uPj9eWXX0rKeI+mTp2qt99+W7/++qsiIyPVpUsXHThwIKe3yS4xMTFWx2SO2XxMKSkpio2Nterj4uKi9u3bW/qYNWnSRD/88EOexgcAhQWJFAAUMQcOHJBhGKpVq1aWy2vVqqWzZ8/q77//tnmbL774opo3b66wsDB17txZo0eP1uLFi636pKenKzo6WnXq1FHLli3Vt29frVu3TpIUEBAgDw8P+fj4KDg4WMHBwXJ1dc1xv1FRURo3bpz69++vqlWr6p577tHLL7+s999/P9t1/vzzT4WEhFi1JSQkqGzZslZtbm5uCgoKUkJCQpbbSUhIkIeHR6bJL8qVK2dZJyEhwSqJMi83L8tKmTJlJEmlSpVScHCwgoKCJElvv/22nnvuOT388MO67bbb9MYbb6hBgwZ65513sj3W3Mgu5uTkZF2+fFmnTp1SWlpaln1uPKaQkBD9+eefeRofABQWbo4OAACQP3KqOHl4eNi8rUWLFundd9/VoUOHdOHCBV27dk3+/v5WfcLCwqyqQOXLl7e6piY3du3apc2bN1tVoNLS0nTlyhVdunRJPj4+mda5fPmyvLy8bmm/BS05OVknTpxQixYtrNpbtGihXbt2OSiqnHl7e+vSpUuODgMAHIKKFAAUMdWrV5fJZNK+ffuyXL5v3z6VKVPGUmkxmUyZkq7U1FTL85iYGPXp00f33XefVq5cqR07duiFF15QSkqK1Tru7u5Wr00mk9LT02/pWC5cuKCoqCjt3LnT8ti9e7cOHDiQbbJUunRpnT171qotODg4U1J37do1nTlzRsHBwVluJzg4WCkpKZap2c0SExMt6wQHB2eaxc/8OrvtOlp2Mfv7+8vb21ulS5eWq6trln1uPKYzZ85YKmwAUNyQSAFAEVOqVCndc889mj17ti5fvmy1LCEhQZ999pkGDBhgaStTpozi4+Mtrw8cOGBVZdiyZYsqV66sF154QY0bN1Z4eHiuhnN5eHgoLS3NrnUaNmyo/fv3q3r16pkeLi5Z/xd2xx136Pfff7dKDiMiInTu3DnFxsZa2r7//nulp6eradOmWW6nUaNGcnd3twxPlKT9+/fr6NGjioiIsGx39+7dVkna2rVr5e/vr9q1a2e5XXMl8Pr3wt/fXyEhIdq8ebNV382bN2e7ndyKiIiwOiZzzOZj8vDwUKNGjaz6pKenW2Z8vN5vv/2mO+64I0/jA4DCgkQKAIqgmTNn6urVq4qMjNSmTZt07NgxrVq1Svfcc49q1KhhNT333XffrZkzZ2rHjh3avn27nnzySavqUnh4uI4ePaqFCxfq0KFDevfdd7Vs2TK7YwoLC9NPP/2kI0eO6NSpUzZVq1566SV9/PHHioqK0p49e7Rv3z4tXLhQL774YrbrtG3bVhcuXLCa7KFWrVrq0KGDBg8erJ9//lmbN2/WsGHD9PDDD1uupzp+/Lhq1qxpmQwiICBAgwYN0qhRo7R+/XrFxsZq4MCBioiIULNmzSRJ9957r2rXrq2+fftq165dWr16tV588UUNHTpUnp6eWcZXtmxZeXt7a9WqVUpMTFRSUpIkacyYMXrjjTe0aNEi7d+/X+PGjdPOnTs1fPjwbI/1woULlkqdlDG1+c6dO3X06FFLn/Hjx6tfv36W108++aQOHz6ssWPH6vfff9fs2bO1ePFijRw50tJn1KhRmjdvnj766CPt27dPTz31lC5evKiBAwda7f+HH37Qvffem218AFCkOXTOQABAvomLizP69+9vlCtXzjCZTIYko3v37sbFixet+h0/fty49957DV9fXyM8PNz45ptvMk1/PmbMGKNUqVKGn5+f0atXL2P69OlW05Sbpz+/3vTp043KlStbXu/fv99o1qyZ4e3tbdf056tWrTKaN29ueHt7G/7+/kaTJk2MDz744KbH3rNnT2PcuHFWbadPnzZ69+5t+Pn5Gf7+/sbAgQON8+fPW71fkoz169db2i5fvmwMGTLEKFmypOHj42N069bNiI+Pt9rukSNHjI4dOxre3t5G6dKljWefffam07MbhmHMmzfPCA0NNVxcXKymP580aZJRoUIFw93d3abpz83v342P/v37W/r079/fso/r12vQoIHh4eFhVK1a1eqzNnvvvfeMSpUqGR4eHkaTJk2MrVu3Wi3fsmWLERgYmGmKfQAoLkyGYcf8twCAQmvixImaNm2a1q5da6moFFW//vqr7rnnHh06dEh+fn6ODqdI6tWrl+rXr6/nn3/e0aEAgEMwtA8AiomoqCi9++672rp16y1PAuHs6tWrpzfeeENxcXGODqVISklJUd26da2GAwJAcUNFCgAAAADsREUKAAAAAOxEIgUAAAAAdiKRAgAAAAA7kUgBAAAAgJ1IpAAAAADATiRSAAAAAGAnEikAAAAAsBOJFAAAAADYiUQKAAAAAOz0/2uVL1/LikBuAAAAAElFTkSuQmCC",
                        "text/plain": [
                            "<Figure size 1000x600 with 1 Axes>"
                        ]
                    },
                    "metadata": {},
                    "output_type": "display_data"
                }
            ],
            "source": [
                "# Plot the quantiles of the 'Rating' column\n",
                "q_05 = [i/20 for i in range(21)]\n",
                "q_25 = [i/4 for i in range(5)]\n",
                "quantiles_05 = sorted_user_ratings.quantile(q_05)\n",
                "quantiles_25 = sorted_user_ratings.quantile(q_25)\n",
                "plt.figure(figsize=(10,6))\n",
                "plt.plot(q_05, quantiles_05.values, label='Rating', color='blue')\n",
                "plt.scatter(q_05, quantiles_05.values, color='orange', label='Quantiles with 0.05 intervals')\n",
                "plt.scatter(q_25, quantiles_25.values, color='magenta', label='Quantiles with 0.25 intervals')\n",
                "plt.xlabel(\"Quantile (0.00 to 1.00)\")\n",
                "plt.ylabel(\"No. of Ratings by User\")\n",
                "plt.title(\"Quantiles and Their Values\")\n",
                "plt.legend(loc='upper left')\n",
                "plt.show()"
            ]
        },
        {
            "cell_type": "code",
            "execution_count": 15,
            "id": "#VSC-08a580c0",
            "metadata": {
                "language": "python"
            },
            "outputs": [
                {
                    "name": "stdout",
                    "output_type": "stream",
                    "text": [
                        "No of rated product more than 50 per user : 1466\n"
                    ]
                }
            ],
            "source": [
                "# Count the number of rated product more than 50 per user\n",
                "num_users_above_50 = (user_rating_counts > 50).sum()\n",
                "print(f\"No of rated product more than 50 per user : {num_users_above_50}\")"
            ]
        },
        {
            "cell_type": "markdown",
            "id": "#VSC-baseline",
            "metadata": {
                "language": "markdown"
            },
            "source": [
                "## 🏆 Baseline Modeling: Popularity-Based Recommendation\n",
                "Building a simple recommendation model based on product popularity and average ratings."
            ]
        },
        {
            "cell_type": "markdown",
            "id": "#VSC-popular-analysis",
            "metadata": {
                "language": "markdown"
            },
            "source": [
                "### Popular Product Analysis\n",
                "Identifying and visualizing the most popular products."
            ]
        },
        {
            "cell_type": "code",
            "execution_count": 16,
            "id": "#VSC-89f72eb7",
            "metadata": {
                "language": "python"
            },
            "outputs": [
                {
                    "data": {
                        "image/png": "iVBORw0KGgoAAAANSUhEUgAAA2QAAAIjCAYAAABswtioAAAAOnRFWHRTb2Z0d2FyZQBNYXRwbG90bGliIHZlcnNpb24zLjEwLjYsIGh0dHBzOi8vbWF0cGxvdGxpYi5vcmcvq6yFwwAAAAlwSFlzAAAPYQAAD2EBqD+naQAAaIpJREFUeJzt3XlcVPX+x/H3DDAsKqAiIIVK7guulWG5FYlmluXtlllaWmZXs7TMvJW53K5mV9NWszLtZpu/m5ZmJu6pZLmQ4lYaZpa4y7iynt8fOEdGUBkdnGF8PR+PeThzzvec8zlwFN5+v+d7LIZhGAIAAAAAXHZWTxcAAAAAAFcqAhkAAAAAeAiBDAAAAAA8hEAGAAAAAB5CIAMAAAAADyGQAQAAAICHEMgAAAAAwEMIZAAAAADgIQQyAAAAAPAQAhkAACgVDz30kGrUqOHpMgDAqxHIAOAK8PPPP8tisWjbtm2SpNdee63EvygvXbpUFovFfPn5+SkyMlJ/+9vftGXLlnNuN2/ePFksFsXExCg/P99c3q5dO6f9nes1YsQISVKNGjV0++23O+3b0Wb8+PFFjjtt2jRZLBatWbOmyLoNGzbo4YcfVlxcnIKCglS+fHk1bdpUzz77rH777bci7efMmaO2bdsqMjJSISEhuuaaa/T3v/9d8+fPL9HXztMKfz2tVqtiYmLUoUMHLV261NOlucWqVas0YsQIHTlyxNOlAMBF8/d0AQCA0rd69WpVqlRJderUkSSlpKTohhtucGkfAwcO1HXXXaecnBxt2LBBkydP1tKlS5WWlqbo6Ogi7WfMmKEaNWpo586dWrx4sRITEyVJzz//vB555BGz3U8//aTXX39d//znP1W/fn1zeePGjS9Y06uvvqrHH39cISEhF2z73nvv6fHHH1dERIR69OihevXqKTc3V2lpafroo480ceJEnTx5Un5+fpKk//znPxoyZIjatm2rYcOGKSQkRNu3b9fChQv12WefqWPHjhc8pje49dZb1bNnTxmGofT0dL399tu6+eab9c0336hTp06eLu+SrFq1SiNHjtRDDz2k8PBwT5cDABeFQAYAV4Aff/xR119/vSwWi6SCQDZ48GCX9tG6dWv97W9/Mz/XrVtXjz/+uD766CM9++yzTm2PHz+ur776SmPGjNGHH36oGTNmmIHs1ltvdWobFBSk119/XbfeeqvatWtX4nqaNm2q1NRUTZ48+YLnsmrVKj3++OO68cYbNXfuXFWoUMFp/fjx4/Xyyy+bn3NzczV69GjdeuutWrBgQZH97du3r8R1lqZTp07JZrPJaj33gJc6derogQceMD/fddddaty4sSZOnHjOQFaS/QIA3IN/aQHARx0+fFgHDhzQgQMHtHr1ajVq1EgHDhzQpk2btHv3btWuXVsHDhzQsWPHLmr/rVu3liTt2LGjyLpZs2bp5MmTuueee3Tffffpyy+/1KlTpy7pfM5244036uabb9a4ceN08uTJ87YdOXKkLBaLZsyYUSSMSQWhcPTo0Wbv2IEDB2S323XjjTcWu7/IyMgL1mexWDRgwADNmDFDdevWVVBQkFq0aKHly5cXafvnn3+qd+/eioqKUmBgoBo2bKipU6c6tXEMHf3ss8/0wgsv6KqrrlJISIjsdvsFayksPj5eERERSk9PL9F+Z86cqRYtWig4OFgRERF64IEH9OeffxbZ7+zZs9WoUSMFBQWpUaNGmjVrVpE2jmOdPWRy586dslgsmjZtmtPyrVu36u9//7uqVKmi4OBg1a1bV88//7wkacSIERoyZIgkKS4uzhyauXPnTpe+HgDgafSQAYCPatasmX7//Xfzc1pamv7zn/+Yn7t06SJJ6tWrV5FfhEvC8YtvxYoVi6ybMWOG2rdvr+joaN1333167rnnNGfOHN1zzz0uH+d8RowYoTZt2uidd945Zy/ZiRMntHjxYrVr105XX311ifYbGRmp4OBgzZkzR0888YQqVap0UfUtW7ZMn3/+uQYOHKjAwEC9/fbb6tixo3788Uc1atRIkrR3717dcMMNZoCrUqWKvv32W/Xp00d2u11PPfWU0z5Hjx4tm82mZ555RllZWbLZbC7VdPjwYR0+fFi1atW64H6nTZumhx9+WNddd53GjBmjvXv3atKkSVq5cqXWr19vDhNcsGCBunXrpgYNGmjMmDE6ePCgHn744RJ/vYuzYcMGtW7dWgEBAerbt69q1KihHTt2aM6cOXr55Zd1991365dfftGnn36q1157TREREZKkKlWqXPQxAcATCGQA4KNmzJihkydPavny5RozZozmzJkjf39/TZgwQfv379eYMWMkSTExMSXa39GjR3XgwAHzHrKnnnpKFotF3bp1c2q3b98+LVy4UO+8844kqVq1akpISNCMGTPcHshat26t9u3bm/eSBQcHF2mzfft25ebmmgGosEOHDjlNOBIaGmoO1RsyZIhGjRqlatWqqU2bNrrpppvUsWNHNW/evMT1paWlac2aNWrRooUk6b777lPdunU1fPhwffnll5IK7qnLy8vTxo0bVblyZUlSv3791L17d40YMUKPPfaY03mdOnVKa9asKfZci3Pq1CkdOHDAvIfsn//8p/Ly8op8L87eb05OjoYOHapGjRpp+fLlCgoKkiTddNNNuv322/Xaa69p5MiRkqShQ4cqKipKK1asUFhYmCSpbdu26tChg6pXr17ir1dhTzzxhAzD0Lp161StWjVz+dixYyUV3GPYvHlzffrpp+ratSuzOQIosxiyCAA+6sYbb1RiYqKOHTum6667Th07dlRiYqJ27dql22+/XYmJiUpMTFSDBg1KtL/evXurSpUqiomJUceOHZWZman//ve/uu6665zaffbZZ7JarU5BrXv37vr22291+PBht56jVNBLlpGRocmTJxe73jH0rnz58kXWXXPNNapSpYr5+vrrr811I0eO1CeffKJmzZrpu+++0/PPP68WLVqoefPm551dsrCEhAQzjEkF4fTOO+/Ud999p7y8PBmGof/973/q0qWLDMMwh5geOHBASUlJyszM1Lp165z22atXrxKHMUn64IMPVKVKFUVGRqply5ZauXKlBg8eXKTn7ez9rlmzRvv27dM//vEPM4xJUufOnVWvXj198803kqQ9e/YoNTVVvXr1MsOYVHCvYEmvrbPt379fy5cvV+/evZ3CmCTzPkgA8BUEMgDwQZmZmeYv9osWLVLLli114MAB/fLLL9q0aZOaNGmiAwcOKDMzs8T7HD58uJKTkzVr1iz17NlTmZmZxU768PHHH+v666/XwYMHtX37dm3fvl3NmjVTdna2Zs6c6c7TlCS1adNG7du3P+e9ZI57xoq7V+6rr75ScnKy01DOwrp3767vv/9ehw8f1oIFC3T//fdr/fr16tKlS4nuiatdu3aRZXXq1NGJEye0f/9+7d+/X0eOHNGUKVOcgmGVKlX08MMPSyo6gUhcXNwFj1vYnXfeqeTkZC1cuFCrV6/WgQMHNH78+CLfu7P36xjuWrdu3SL7rFevnrne8Wdx51rctiXheARBcb2aAOBrGLIIAD7ozjvv1LJly8zPGzZs0MSJE83Pd911l6SCYWUlfSZVfHy8OVNi165ddeLECT366KO66aabFBsbK0n69ddf9dNPP0kq/hf0GTNmqG/fvhdzSuf10ksvqV27dnr33XeLTH9eq1Yt+fv7Ky0trch2bdu2lST5+5//x2FoaKhuvfVW3XrrrQoICND06dO1evVqc/uL5Rgu+cADD6hXr17Ftjl7+n9Xesck6eqrrza/b+fj6n4vxrl6t/Ly8kr92ADgrQhkAOCDxo8fr8OHDyslJUUjR47U3Llz5e/vrzfeeEN//vmneR9OcRNylNTYsWM1a9Ysvfzyy+ZwwRkzZiggIED//e9/zRkLHVasWKHXX39du3btKjIM7VK1bdtW7dq10yuvvKLhw4c7rStXrpzatWunZcuW6c8//9RVV111Sce69tprNX36dO3Zs+eCbX/99dciy3755ReFhISYk09UqFBBeXl5JQpNl5Pj3q9t27bp5ptvdlq3bds2c73jz+LO1fEgcgfH9Xb2g5wLTz4jFQwllVRsiC6M4YsAfAFDFgHAB7Vo0UKJiYnmZBaO+8f27t1r3juWmJjodH+Tq2rWrKlu3bpp2rRpysjIkFQQyFq3bq17771Xf/vb35xejinKP/30U7ec49kc95JNmTKlyLrhw4crLy9PDzzwQLFDFw3DcPp84sQJpaSkFHucb7/9VlLJhuOlpKQ43QP2xx9/6KuvvlKHDh3k5+cnPz8/devWTf/73/+KDR/79++/4DFKy7XXXqvIyEhNnjxZWVlZ5vJvv/1WW7ZsUefOnSVJVatWVdOmTTV9+nSnIbDJycnavHmz0z6rV68uPz+/IlP/v/32206fq1SpojZt2mjq1KnatWuX07rC36ty5cpJKhrwAKAsoYcMAHzYypUr1apVK0kFs+itX79e//znP922/yFDhuiLL77QxIkTddddd2n79u0aMGBAsW2vuuoqNW/eXDNmzNDQoUPdVoND27Zt1bZtW6ehmg6tW7fWm2++qSeeeEK1a9dWjx49VK9ePWVnZ+uXX37RjBkzZLPZFB0dLakgkLVq1Uo33HCDOnbsqNjYWB05ckSzZ8/W999/r65du6pZs2YXrKlRo0ZKSkpymvZekjk7oVTQ07hkyRK1bNlSjz76qBo0aKBDhw5p3bp1WrhwoQ4dOuSmr5BrAgIC9Morr+jhhx9W27Zt1b17d3Pa+xo1amjQoEFm2zFjxqhz58666aab1Lt3bx06dEhvvPGGGjZs6BSAw8LCdM899+iNN96QxWJRzZo1NXfu3GIftP3666/rpptuUvPmzdW3b1/FxcVp586d+uabb5SamipJ5n8oPP/887rvvvsUEBCgLl26mEENAMoEAwDgk3Jzc43y5csb//3vfw3DMIwVK1YYkox9+/a5tJ8lS5YYkoyZM2cWu75du3ZGaGio8dBDDxmSjB07dpxzXyNGjDAkGT///LO5bObMmYYkY8mSJcVuU716daNz585OyyQZ/fv3P2etkoyffvqpyPr169cbPXv2NKpVq2bYbDajXLlyRuPGjY2nn37a2L59u9kuJyfHeO+994yuXbsa1atXNwIDA42QkBCjWbNmxquvvmpkZWWd8xzPrvHjjz82ateubQQGBhrNmjUr9jz37t1r9O/f34iNjTUCAgKM6Oho45ZbbjGmTJlS5NzO9X04Xw3nc6H9fv7550azZs2MwMBAo1KlSkaPHj2M3bt3F2n3v//9z6hfv74RGBhoNGjQwPjyyy+NXr16GdWrV3dqt3//fqNbt25GSEiIUbFiReOxxx4z0tLSDEnGhx9+6NQ2LS3NuOuuu4zw8HAjKCjIqFu3rvHiiy86tRk9erRx1VVXGVar1ZBkpKenX/DrAgDexGIYZ43TAAAAl8xisah///568803PV0KAMCLcQ8ZAAAAAHgIgQwAAAAAPIRABgAAAAAewiyLAACUAm7RBgCUBD1kAAAAAOAhBDIAAAAA8BCGLLpJfn6+/vrrL1WoUEEWi8XT5QAAAADwEMMwdPToUcXExMhqPX8fGIHMTf766y/FxsZ6ugwAAAAAXuKPP/7Q1Vdffd42BDI3qVChgqSCL3poaKiHqwEAAADgKXa7XbGxsWZGOB8CmZs4himGhoYSyAAAAACU6FYmJvUAAAAAAA8hkAEAAACAhxDIAAAAAMBDCGQAAAAA4CEEMgAAAADwEAIZAAAAAHgIgQwAAAAAPIRABgAAAAAeQiADAAAAAA8hkAEAAACAhxDIAAAAAMBDCGQAAAAA4CEEMgAAAADwEAIZAAAAAHgIgQwAAAAAPIRABgAAAAAe4u/pAuB+63cd1l77KdWvGqrqlct5uhwAAAAA50APmQ96//t09ft4nZZu2+/pUgAAAACcB4EMAAAAADyEQAYAAAAAHkIg82GGYXi6BAAAAADnQSDzRRZPFwAAAACgJAhkAAAAAOAhBDIfxoBFAAAAwLsRyHwQIxYBAACAsoFABgAAAAAeQiADAAAAAA8hkPkgi6Vg0CKz3gMAAADejUAGAAAAAB5CIAMAAAAADyGQ+TBGLAIAAADezaOBbPny5erSpYtiYmJksVg0e/Zsp/UWi6XY16uvvmq2qVGjRpH1Y8eOddrPhg0b1Lp1awUFBSk2Nlbjxo0rUsvMmTNVr149BQUFKT4+XvPmzSuVc74cmPYeAAAAKBs8GsiOHz+uJk2a6K233ip2/Z49e5xeU6dOlcViUbdu3ZzajRo1yqndE088Ya6z2+3q0KGDqlevrrVr1+rVV1/ViBEjNGXKFLPNqlWr1L17d/Xp00fr169X165d1bVrV6WlpZXOiQMAAACAJH9PHrxTp07q1KnTOddHR0c7ff7qq6/Uvn17XXPNNU7LK1SoUKStw4wZM5Sdna2pU6fKZrOpYcOGSk1N1YQJE9S3b19J0qRJk9SxY0cNGTJEkjR69GglJyfrzTff1OTJky/lFAEAAADgnMrMPWR79+7VN998oz59+hRZN3bsWFWuXFnNmjXTq6++qtzcXHNdSkqK2rRpI5vNZi5LSkrStm3bdPjwYbNNYmKi0z6TkpKUkpJyznqysrJkt9udXt7i9Kz3Mpj3HgAAAPBqHu0hc8X06dNVoUIF3X333U7LBw4cqObNm6tSpUpatWqVhg0bpj179mjChAmSpIyMDMXFxTltExUVZa6rWLGiMjIyzGWF22RkZJyznjFjxmjkyJHuODUAAAAAV6gyE8imTp2qHj16KCgoyGn54MGDzfeNGzeWzWbTY489pjFjxigwMLDU6hk2bJjTse12u2JjY0vteAAAAAB8T5kIZN9//722bdumzz///IJtW7ZsqdzcXO3cuVN169ZVdHS09u7d69TG8dlx39m52pzrvjRJCgwMLNXABwAAAMD3lYl7yD744AO1aNFCTZo0uWDb1NRUWa1WRUZGSpISEhK0fPly5eTkmG2Sk5NVt25dVaxY0WyzaNEip/0kJycrISHBjWdx+TDtPQAAAFA2eDSQHTt2TKmpqUpNTZUkpaenKzU1Vbt27TLb2O12zZw5U4888kiR7VNSUjRx4kT9/PPP+u233zRjxgwNGjRIDzzwgBm27r//ftlsNvXp00ebNm3S559/rkmTJjkNN3zyySc1f/58jR8/Xlu3btWIESO0Zs0aDRgwoHS/AAAAAACuaB4dsrhmzRq1b9/e/OwISb169dK0adMkSZ999pkMw1D37t2LbB8YGKjPPvtMI0aMUFZWluLi4jRo0CCnsBUWFqYFCxaof//+atGihSIiIjR8+HBzyntJatWqlT755BO98MIL+uc//6natWtr9uzZatSoUSmdOQAAAABIFoO50d3CbrcrLCxMmZmZCg0N9Wgtgz5P1az1f+r52+rr0TbXXHgDAAAAAG7jSjYoE/eQAQAAAIAvIpABAAAAgIcQyHyYIUajAgAAAN6MQOaDmPYeAAAAKBsIZAAAAADgIQQyAAAAAPAQApkvOj1mkQcaAAAAAN6NQAYAAAAAHkIgAwAAAAAPIZD5IMvpMYuMWAQAAAC8G4EMAAAAADyEQAYAAAAAHkIgAwAAAAAPIZD5IAvT3gMAAABlAoEMAAAAADyEQAYAAAAAHkIg80GnRyzKYOJ7AAAAwKsRyAAAAADAQwhkAAAAAOAhBDIAAAAA8BACmQ9i2nsAAACgbCCQAQAAAICHEMgAAAAAwEMIZD7IYk58DwAAAMCbEcgAAAAAwEMIZAAAAADgIQQyAAAAAPAQApkPOjPtPfPeAwAAAN6MQAYAAAAAHkIgAwAAAAAPIZD5oDNDFj1bBwAAAIDzI5ABAAAAgIcQyAAAAADAQwhkPsni6QIAAAAAlACBzIdxCxkAAADg3QhkAAAAAOAhBDIAAAAA8BACmQ9i2nsAAACgbCCQAQAAAICHEMgAAAAAwEMIZD7IMem9wTyLAAAAgFcjkAEAAACAhxDIAAAAAMBDCGQAAAAA4CEEMh/EtPcAAABA2UAgAwAAAAAPIZABAAAAgId4NJAtX75cXbp0UUxMjCwWi2bPnu20/qGHHpLFYnF6dezY0anNoUOH1KNHD4WGhio8PFx9+vTRsWPHnNps2LBBrVu3VlBQkGJjYzVu3LgitcycOVP16tVTUFCQ4uPjNW/ePLef7+ViOT3xPSMWAQAAAO/m0UB2/PhxNWnSRG+99dY523Ts2FF79uwxX59++qnT+h49emjTpk1KTk7W3LlztXz5cvXt29dcb7fb1aFDB1WvXl1r167Vq6++qhEjRmjKlClmm1WrVql79+7q06eP1q9fr65du6pr165KS0tz/0kDAAAAwGn+njx4p06d1KlTp/O2CQwMVHR0dLHrtmzZovnz5+unn37StddeK0l64403dNttt+k///mPYmJiNGPGDGVnZ2vq1Kmy2Wxq2LChUlNTNWHCBDO4TZo0SR07dtSQIUMkSaNHj1ZycrLefPNNTZ482Y1nDAAAAABneP09ZEuXLlVkZKTq1q2rxx9/XAcPHjTXpaSkKDw83AxjkpSYmCir1arVq1ebbdq0aSObzWa2SUpK0rZt23T48GGzTWJiotNxk5KSlJKScs66srKyZLfbnV4AAAAA4AqvDmQdO3bURx99pEWLFumVV17RsmXL1KlTJ+Xl5UmSMjIyFBkZ6bSNv7+/KlWqpIyMDLNNVFSUUxvH5wu1cawvzpgxYxQWFma+YmNjL+1k3cgx7T3z3gMAAADezaNDFi/kvvvuM9/Hx8ercePGqlmzppYuXapbbrnFg5VJw4YN0+DBg83Pdrvdq0IZAAAAAO/n1T1kZ7vmmmsUERGh7du3S5Kio6O1b98+pza5ubk6dOiQed9ZdHS09u7d69TG8flCbc5175pUcG9baGio0wsAAAAAXFGmAtnu3bt18OBBVa1aVZKUkJCgI0eOaO3atWabxYsXKz8/Xy1btjTbLF++XDk5OWab5ORk1a1bVxUrVjTbLFq0yOlYycnJSkhIKO1TKhXmiEWPVgEAAADgQjwayI4dO6bU1FSlpqZKktLT05Wamqpdu3bp2LFjGjJkiH744Qft3LlTixYt0p133qlatWopKSlJklS/fn117NhRjz76qH788UetXLlSAwYM0H333aeYmBhJ0v333y+bzaY+ffpo06ZN+vzzzzVp0iSn4YZPPvmk5s+fr/Hjx2vr1q0aMWKE1qxZowEDBlz2rwkAAACAK4dHA9maNWvUrFkzNWvWTJI0ePBgNWvWTMOHD5efn582bNigO+64Q3Xq1FGfPn3UokULff/99woMDDT3MWPGDNWrV0+33HKLbrvtNt10001OzxgLCwvTggULlJ6erhYtWujpp5/W8OHDnZ5V1qpVK33yySeaMmWKmjRpov/7v//T7Nmz1ahRo8v3xQAAAABwxbEYBlPxuYPdbldYWJgyMzM9fj/ZiK83adqqnXri5lp6ukNdj9YCAAAAXGlcyQZl6h4yuIaoDQAAAHg3AhkAAAAAeAiBDAAAAAA8hEDmwwwmvgcAAAC8GoEMAAAAADyEQAYAAAAAHkIg80EWi6crAAAAAFASBDIfxrT3AAAAgHcjkAEAAACAhxDIAAAAAMBDCGQ+yKKCm8gYsQgAAAB4NwIZAAAAAHgIgQwAAAAAPIRA5oOY9h4AAAAoGwhkPoxp7wEAAADvRiADAAAAAA8hkAEAAACAhxDIfJDjFjKDie8BAAAAr0YgAwAAAAAPIZABAAAAgIcQyHwQ094DAAAAZQOBzJdxCxkAAADg1QhkAAAAAOAhBDIfZGHMIgAAAFAmEMh8GCMWAQAAAO9GIAMAAAAADyGQAQAAAICHEMh8EHeQAQAAAGUDgcyHGQZ3kQEAAADejEAGAAAAAB5CIPNFjFkEAAAAygQCmQ9jxCIAAADg3QhkAAAAAOAhBDIAAAAA8BACmQ+ycBMZAAAAUCYQyHwYt5ABAAAA3o1ABgAAAAAeQiDzQRZGLAIAAABlAoHMhzHtPQAAAODdCGQAAAAA4CEEMgAAAADwEAKZD+IWMgAAAKBscDmQ3XzzzTpy5EiR5Xa7XTfffLM7aoKbGEx8DwAAAHg1lwPZ0qVLlZ2dXWT5qVOn9P3337ulKAAAAAC4EviXtOGGDRvM95s3b1ZGRob5OS8vT/Pnz9dVV13l3upwUZj2HgAAACgbShzImjZtKovFIovFUuzQxODgYL3xxhtuLQ6XhmnvAQAAAO9W4iGL6enp2rFjhwzD0I8//qj09HTz9eeff8put6t3794uHXz58uXq0qWLYmJiZLFYNHv2bHNdTk6Ohg4dqvj4eJUrV04xMTHq2bOn/vrrL6d91KhRwwyKjtfYsWOd2mzYsEGtW7dWUFCQYmNjNW7cuCK1zJw5U/Xq1VNQUJDi4+M1b948l84FAAAAAFxV4h6y6tWrS5Ly8/PddvDjx4+rSZMm6t27t+6++26ndSdOnNC6dev04osvqkmTJjp8+LCefPJJ3XHHHVqzZo1T21GjRunRRx81P1eoUMF8b7fb1aFDByUmJmry5MnauHGjevfurfDwcPXt21eStGrVKnXv3l1jxozR7bffrk8++URdu3bVunXr1KhRI7ed7+ViYZ5FAAAAoEwocSBzGDNmjKKioor0hk2dOlX79+/X0KFDS7yvTp06qVOnTsWuCwsLU3JystOyN998U9dff7127dqlatWqmcsrVKig6OjoYvczY8YMZWdna+rUqbLZbGrYsKFSU1M1YcIEM5BNmjRJHTt21JAhQyRJo0ePVnJyst58801Nnjy5xOcDAAAAAK5weZbFd999V/Xq1SuyvGHDhqUeXjIzM2WxWBQeHu60fOzYsapcubKaNWumV199Vbm5uea6lJQUtWnTRjabzVyWlJSkbdu26fDhw2abxMREp30mJSUpJSXlnLVkZWXJbrc7vQAAAADAFS73kGVkZKhq1apFllepUkV79uxxS1HFOXXqlIYOHaru3bsrNDTUXD5w4EA1b95clSpV0qpVqzRs2DDt2bNHEyZMMOuNi4tz2ldUVJS5rmLFisrIyDCXFW5TeCbJs40ZM0YjR4501+kBAAAAuAK5HMhiY2O1cuXKIiFn5cqViomJcVthheXk5Ojvf/+7DMPQO++847Ru8ODB5vvGjRvLZrPpscce05gxYxQYGFgq9UjSsGHDnI5tt9sVGxtbasdzBdPeAwAAAGWDy4Hs0Ucf1VNPPaWcnBxz+vtFixbp2Wef1dNPP+32Ah1h7Pfff9fixYudeseK07JlS+Xm5mrnzp2qW7euoqOjtXfvXqc2js+O+87O1eZc96VJUmBgYKkGPncwmPceAAAA8GouB7IhQ4bo4MGD+sc//qHs7GxJUlBQkIYOHaphw4a5tThHGPv111+1ZMkSVa5c+YLbpKamymq1KjIyUpKUkJCg559/Xjk5OQoICJAkJScnq27duqpYsaLZZtGiRXrqqafM/SQnJyshIcGt5wMAAAAAhbkcyCwWi1555RW9+OKL2rJli4KDg1W7du2L6i06duyYtm/fbn5OT09XamqqKlWqpKpVq+pvf/ub1q1bp7lz5yovL8+8p6tSpUqy2WxKSUnR6tWr1b59e1WoUEEpKSkaNGiQHnjgATNs3X///Ro5cqT69OmjoUOHKi0tTZMmTdJrr71mHvfJJ59U27ZtNX78eHXu3FmfffaZ1qxZoylTprh8Tt6AEYsAAABA2WAxPDiubenSpWrfvn2R5b169dKIESOK3KfmsGTJErVr107r1q3TP/7xD23dulVZWVmKi4vTgw8+qMGDBzsFxA0bNqh///766aefFBERoSeeeKLI9PwzZ87UCy+8oJ07d6p27doaN26cbrvtthKfi91uV1hYmDIzMy84rLK0TViwTa8v3q5eCdU18s6y9xw1AAAAoCxzJRu4HMjat28vy3lmjVi8eLEru/MZ3hjIeiZU1ygCGQAAAHBZuZINXB6y2LRpU6fPOTk5Sk1NVVpamnr16uXq7gAAAADgiuVyICt871VhI0aM0LFjxy65ILgB894DAAAAZYLVXTt64IEHNHXqVHftDm7ArPcAAACAd3NbIEtJSVFQUJC7dgcAAAAAPs/lIYt3332302fDMLRnzx6tWbNGL774otsKw8VjwCIAAABQNrgcyMLCwpw+W61W1a1bV6NGjVKHDh3cVhgAAAAA+DqXA9mHH35YGnWgFBjiJjIAAADAm7ntHjIAAAAAgGtK1ENWsWLF8z4MurBDhw5dUkG4dMx6DwAAAJQNJQpkEydONN8fPHhQ//rXv5SUlKSEhARJBTMsfvfdd0zq4WWY9h4AAADwbiUKZL169TLfd+vWTaNGjdKAAQPMZQMHDtSbb76phQsXatCgQe6vEgAAAAB8kMv3kH333Xfq2LFjkeUdO3bUwoUL3VIULo2Fie8BAACAMsHlQFa5cmV99dVXRZZ/9dVXqly5sluKAgAAAIArgcvT3o8cOVKPPPKIli5dqpYtW0qSVq9erfnz5+u9995ze4G4eNxCBgAAAHg3lwPZQw89pPr16+v111/Xl19+KUmqX7++VqxYYQY0eBazLAIAAABlg8uBTJJatmypGTNmuLsWAAAAALiiXFQgy8vL0+zZs7VlyxZJUsOGDXXHHXfIz8/PrcXh0jDtPQAAAODdXA5k27dvV+fOnbV7927VrVtXkjRmzBjFxsbqm2++Uc2aNd1eJAAAAAD4IpdnWRw4cKCuueYa/fHHH1q3bp3WrVunXbt2KS4uTgMHDiyNGuEibiEDAAAAygaXe8iWLVumH374QZUqVTKXVa5cWWPHjtWNN97o1uIAAAAAwJe53EMWGBioo0ePFll+7Ngx2Ww2txQFd+EmMgAAAMCbuRzIbr/9dvXt21erV6+WYRgyDEM//PCD+vXrpzvuuKM0aoSLmPYeAAAAKBtcDmSvv/66atasqYSEBAUFBSkoKEg33nijatWqpUmTJpVGjQAAAADgk1y6h8wwDNntdn322Wf6888/zWnv69evr1q1apVKgbh4THsPAAAAeDeXA1mtWrW0adMm1a5dmxAGAAAAAJfApSGLVqtVtWvX1sGDB0urHriBhZvIAAAAgDLB5XvIxo4dqyFDhigtLa006gEAAACAK4bLzyHr2bOnTpw4oSZNmshmsyk4ONhp/aFDh9xWHC4N95ABAAAA3s3lQDZx4sRSKAMAAAAArjwuB7JevXqVRh0AAAAAcMVxOZBJUl5enmbNmmVOe9+gQQPdeeed8ve/qN2hlBhizCIAAADgzVxOUJs2bdIdd9yhjIwM1a1bV5L0yiuvqEqVKpozZ44aNWrk9iIBAAAAwBe5PMviI488ooYNG2r37t1at26d1q1bpz/++EONGzdW3759S6NGuIhZ7wEAAICyweUestTUVK1Zs0YVK1Y0l1WsWFEvv/yyrrvuOrcWBwAAAAC+zOUesjp16mjv3r1Flu/bt0+1atVyS1FwD6a9BwAAALyby4FszJgxGjhwoP7v//5Pu3fv1u7du/V///d/euqpp/TKK6/IbrebL3iGRYxZBAAAAMoCl4cs3n777ZKkv//977KcvlnJON0V06VLF/OzxWJRXl6eu+oEAAAAAJ/jciBbsmRJadSBUsCIRQAAAMC7uRzI2rZtWxp1wI2YZREAAAAoG1y+hwwAAAAA4B4EMgAAAADwEAKZD2PaewAAAMC7uRTIDMPQrl27dOrUqdKqB27ALWQAAABA2eByIKtVq5b++OOP0qoHAAAAAK4YLgUyq9Wq2rVr6+DBg6VVD9zIYOJ7AAAAwKu5fA/Z2LFjNWTIEKWlpZVGPXADpr0HAAAAygaXn0PWs2dPnThxQk2aNJHNZlNwcLDT+kOHDrmtOAAAAADwZS73kE2cOFFTpkzR1KlTNXnyZL322mtOL1csX75cXbp0UUxMjCwWi2bPnu203jAMDR8+XFWrVlVwcLASExP166+/OrU5dOiQevToodDQUIWHh6tPnz46duyYU5sNGzaodevWCgoKUmxsrMaNG1eklpkzZ6pevXoKCgpSfHy85s2b59K5AAAAAICrXO4h69Wrl9sOfvz4cTVp0kS9e/fW3XffXWT9uHHj9Prrr2v69OmKi4vTiy++qKSkJG3evFlBQUGSpB49emjPnj1KTk5WTk6OHn74YfXt21effPKJJMlut6tDhw5KTEzU5MmTtXHjRvXu3Vvh4eHq27evJGnVqlXq3r27xowZo9tvv12ffPKJunbtqnXr1qlRo0ZuO9/LjlvIAAAAAK9mMQzXn1a1Y8cOffjhh9qxY4cmTZqkyMhIffvtt6pWrZoaNmx4cYVYLJo1a5a6du0qqaB3LCYmRk8//bSeeeYZSVJmZqaioqI0bdo03XfffdqyZYsaNGign376Sddee60kaf78+brtttu0e/duxcTE6J133tHzzz+vjIwM2Ww2SdJzzz2n2bNna+vWrZKke++9V8ePH9fcuXPNem644QY1bdpUkydPLlH9drtdYWFhyszMVGho6EV9DdzlveW/6eV5W3R3s6s04d6mHq0FAAAAuNK4kg1cHrK4bNkyxcfHa/Xq1fryyy/N4YE///yzXnrppYuruBjp6enKyMhQYmKiuSwsLEwtW7ZUSkqKJCklJUXh4eFmGJOkxMREWa1WrV692mzTpk0bM4xJUlJSkrZt26bDhw+bbQofx9HGcZziZGVlyW63O70AAAAAwBUuB7LnnntO//rXv5ScnOwUcm6++Wb98MMPbissIyNDkhQVFeW0PCoqylyXkZGhyMhIp/X+/v6qVKmSU5vi9lH4GOdq41hfnDFjxigsLMx8xcbGunqKpY4RiwAAAIB3czmQbdy4UXfddVeR5ZGRkTpw4IBbiioLhg0bpszMTPPlTQ/LZtp7AAAAoGxwOZCFh4drz549RZavX79eV111lVuKkqTo6GhJ0t69e52W792711wXHR2tffv2Oa3Pzc3VoUOHnNoUt4/CxzhXG8f64gQGBio0NNTpBQAAAACucDmQ3XfffRo6dKgyMjJksViUn5+vlStX6plnnlHPnj3dVlhcXJyio6O1aNEic5ndbtfq1auVkJAgSUpISNCRI0e0du1as83ixYuVn5+vli1bmm2WL1+unJwcs01ycrLq1q2rihUrmm0KH8fRxnEcAAAAACgNLgeyf//736pXr55iY2N17NgxNWjQQG3atFGrVq30wgsvuLSvY8eOKTU1VampqZIKJvJITU3Vrl27ZLFY9NRTT+lf//qXvv76a23cuFE9e/ZUTEyMORNj/fr11bFjRz366KP68ccftXLlSg0YMED33XefYmJiJEn333+/bDab+vTpo02bNunzzz/XpEmTNHjwYLOOJ598UvPnz9f48eO1detWjRgxQmvWrNGAAQNc/fJ4lYuYQBMAAADAZXRR095L0q5du5SWlqZjx46pWbNmql27tsv7WLp0qdq3b19kea9evTRt2jQZhqGXXnpJU6ZM0ZEjR3TTTTfp7bffVp06dcy2hw4d0oABAzRnzhxZrVZ169ZNr7/+usqXL2+22bBhg/r376+ffvpJEREReuKJJzR06FCnY86cOVMvvPCCdu7cqdq1a2vcuHG67bbbSnwu3jTt/Qcr0jV67mbd2TRGk+5r5tFaAAAAgCuNK9ngogOZdKYHxsIsEl4VyKauSNeouZvVpUmM3uhOIAMAAAAup1J9DpkkffDBB2rUqJGCgoIUFBSkRo0a6f3337+oYuF+jnzMkEUAAADAu/m7usHw4cM1YcIEPfHEE+akFykpKRo0aJB27dqlUaNGub1IuMbRX0kcAwAAALyby4HsnXfe0Xvvvafu3buby+644w41btxYTzzxBIHMC5hDSElkAAAAgFdzechiTk6Orr322iLLW7RoodzcXLcUhUtzJo+RyAAAAABv5nIge/DBB/XOO+8UWT5lyhT16NHDLUXh0phDFsljAAAAgFdzeciiVDCpx4IFC3TDDTdIklavXq1du3apZ8+eTs/3mjBhgnuqhEscQxYJZAAAAIB3czmQpaWlqXnz5pKkHTt2SJIiIiIUERGhtLQ0sx1T4XuO40ufTyIDAAAAvJrLgWzJkiWlUQfcyHJ60CJxDAAAAPBuF/UcMni3M88h82wdAAAAAM6PQOaDzgwWJZEBAAAA3oxA5oPoIQMAAADKBgKZD+IeMgAAAKBsIJD5oDM9ZEQyAAAAwJu5HMimT5+ub775xvz87LPPKjw8XK1atdLvv//u1uJwcRyPHMgnjwEAAABezeVA9u9//1vBwcGSpJSUFL311lsaN26cIiIiNGjQILcXCNc5JvUgjwEAAADezeXnkP3xxx+qVauWJGn27Nnq1q2b+vbtqxtvvFHt2rVzd324CAxZBAAAAMoGl3vIypcvr4MHD0qSFixYoFtvvVWSFBQUpJMnT7q3OlwUi+XCbQAAAAB4nss9ZLfeeqseeeQRNWvWTL/88otuu+02SdKmTZtUo0YNd9eHi2DOskgHGQAAAODVXO4he+utt5SQkKD9+/frf//7nypXrixJWrt2rbp37+72AuE6c8gid5EBAAAAXs3lHrLw8HC9+eabRZaPHDnSLQXh0jlmWaSHDAAAAPBuLgeyDRs2FLvcYrEoKChI1apVU2Bg4CUXhovnuIUsn0QGAAAAeDWXA1nTpk3NHpjiBAQE6N5779W7776roKCgSyoOF+fMLIuerQMAAADA+bl8D9msWbNUu3ZtTZkyRampqUpNTdWUKVNUt25dffLJJ/rggw+0ePFivfDCC6VRL0rAnNTDw3UAAAAAOD+Xe8hefvllTZo0SUlJSeay+Ph4XX311XrxxRf1448/qly5cnr66af1n//8x63FomQsPBkaAAAAKBNc7iHbuHGjqlevXmR59erVtXHjRkkFwxr37Nlz6dXhopzJYyQyAAAAwJu5HMjq1aunsWPHKjs721yWk5OjsWPHql69epKkP//8U1FRUe6rEi7hHjIAAACgbHB5yOJbb72lO+64Q1dffbUaN24sqaDXLC8vT3PnzpUk/fbbb/rHP/7h3kpRYua09x6uAwAAAMD5uRzIWrVqpfT0dM2YMUO//PKLJOmee+7R/fffrwoVKkiSHnzwQfdWCZcw7T0AAABQNrgcyCSpQoUK6tevn7trgZvwYGgAAACgbLioQPbrr79qyZIl2rdvn/Lz853WDR8+3C2F4eIxySIAAABQNrgcyN577z09/vjjioiIUHR0tNNDoi0WC4HMC5yZ9p5IBgAAAHgzlwPZv/71L7388ssaOnRoadQDNzBnWfRsGQAAAAAuwOVp7w8fPqx77rmnNGqBm1jEPWQAAABAWeByILvnnnu0YMGC0qgFbnKmh4xEBgAAAHgzl4cs1qpVSy+++KJ++OEHxcfHKyAgwGn9wIED3VYcLo7jvr6z5lsBAAAA4GVcDmRTpkxR+fLltWzZMi1btsxpncViIZB5AWZZBAAAAMoGlwNZenp6adQBNzKHLHITGQAAAODVXL6HDN7PIsuFGwEAAADwuBL1kA0ePFijR49WuXLlNHjw4PO2nTBhglsKw8U700Pm2ToAAAAAnF+JAtn69euVk5Njvod3O3MPGYkMAAAA8GYlCmRLliwp9j28k2OWRXrIAAAAAO/m8j1kvXv31tGjR4ssP378uHr37u2WonBpHEMW80lkAAAAgFdzOZBNnz5dJ0+eLLL85MmT+uijj9xSFC4N094DAAAAZUOJp7232+0yDEOGYejo0aMKCgoy1+Xl5WnevHmKjIwslSLhGos5q4dn6wAAAABwfiUOZOHh4bJYLLJYLKpTp06R9RaLRSNHjnRrcbg45DEAAACgbChxIFuyZIkMw9DNN9+s//3vf6pUqZK5zmazqXr16oqJiSmVIuEac8gi95ABAAAAXq3Egaxt27aSpPT0dMXGxspq5ZnS3ooeMgAAAKBscDlVVa9eXVarVSdOnNDWrVu1YcMGp5e71ahRwxwqWfjVv39/SVK7du2KrOvXr5/TPnbt2qXOnTsrJCREkZGRGjJkiHJzc53aLF26VM2bN1dgYKBq1aqladOmuf1cLhemvQcAAADKhhL3kDns379fDz/8sL799tti1+fl5V1yUYX99NNPTvtMS0vTrbfeqnvuucdc9uijj2rUqFHm55CQEKd6OnfurOjoaK1atUp79uxRz549FRAQoH//+9+SCnr9OnfurH79+mnGjBlatGiRHnnkEVWtWlVJSUluPZ/LwTFkkWnvAQAAAO/mcg/ZU089pSNHjmj16tUKDg7W/PnzNX36dNWuXVtff/212wusUqWKoqOjzdfcuXNVs2ZNcwilVBDACrcJDQ011y1YsECbN2/Wxx9/rKZNm6pTp04aPXq03nrrLWVnZ0uSJk+erLi4OI0fP17169fXgAED9Le//U2vvfaa28/ncqCHDAAAACgbXA5kixcv1oQJE3TttdfKarWqevXqeuCBBzRu3DiNGTOmNGo0ZWdn6+OPP1bv3r3PTO0uacaMGYqIiFCjRo00bNgwnThxwlyXkpKi+Ph4RUVFmcuSkpJkt9u1adMms01iYqLTsZKSkpSSknLOWrKysmS3251e3sJy4SYAAAAAvIDLQxaPHz9uPm+sYsWK2r9/v+rUqaP4+HitW7fO7QUWNnv2bB05ckQPPfSQuez+++83Z3jcsGGDhg4dqm3btunLL7+UJGVkZDiFMUnm54yMjPO2sdvtOnnypIKDg4vUMmbMGK+d5t+c1IMuMgAAAMCruRzI6tatq23btqlGjRpq0qSJ3n33XdWoUUOTJ09W1apVS6NG0wcffKBOnTo5Ta/ft29f8318fLyqVq2qW265RTt27FDNmjVLrZZhw4Zp8ODB5me73a7Y2NhSO54rLKf7yIhjAAAAgHdzOZA9+eST2rNnjyTppZdeUseOHTVjxgzZbLZSnZnw999/18KFC82er3Np2bKlJGn79u2qWbOmoqOj9eOPPzq12bt3ryQpOjra/NOxrHCb0NDQYnvHJCkwMFCBgYEXdS6l7UwPmWfrAAAAAHB+LgeyBx54wHzfokUL/f7779q6dauqVaumiIgItxZX2IcffqjIyEh17tz5vO1SU1MlyeytS0hI0Msvv6x9+/aZQy2Tk5MVGhqqBg0amG3mzZvntJ/k5GQlJCS4+SwujzPPISORAQAAAN7MpUk9cnJyVLNmTW3ZssVcFhISoubNm5dqGMvPz9eHH36oXr16yd//TIbcsWOHRo8erbVr12rnzp36+uuv1bNnT7Vp00aNGzeWJHXo0EENGjTQgw8+qJ9//lnfffedXnjhBfXv39/s4erXr59+++03Pfvss9q6davefvttffHFFxo0aFCpnVNpcgxZzCePAQAAAF7NpUAWEBCgU6dOlVYt57Rw4ULt2rVLvXv3dlpus9m0cOFCdejQQfXq1dPTTz+tbt26ac6cOWYbPz8/zZ07V35+fkpISNADDzygnj17Oj23LC4uTt98842Sk5PVpEkTjR8/Xu+//36ZfAaZxJBFAAAAoKywGC5Oxffvf/9bv/zyi95//32n3qornd1uV1hYmDIzM52eg+YJWzPs6jjxe0WUt2nNC7d6tBYAAADgSuNKNnA5Uf30009atGiRFixYoPj4eJUrV85p/YUm3UDpM2dZpIcMAAAA8GouB7Lw8HB169atNGqBm5yZ1AMAAACAN3M5kH344YelUQfc6HQe48HQAAAAgJdzaVIPlA30kAEAAABlA4HMB1lOJ7J85r0HAAAAvBqBzAeZQxY9WgUAAACACyGQ+SALYxYBAACAMqFEgaxSpUo6cOCAJKl37946evRoqRaFS0MPGQAAAFA2lCiQZWdny263S5KmT5+uU6dOlWpRuDRmBxmzLAIAAABerUTT3ickJKhr165q0aKFDMPQwIEDFRwcXGzbqVOnurVAuM58MLSH6wAAAABwfiUKZB9//LFee+017dixQxaLRZmZmfSSebEzPWSerQMAAADA+ZUokEVFRWns2LGSpLi4OP33v/9V5cqVS7UwXLwzc3qQyAAAAABvVqJAVlh6enpp1AE3Mp9DRh4DAAAAvNpFTXu/bNkydenSRbVq1VKtWrV0xx136Pvvv3d3bbhIjlkW6SADAAAAvJvLgezjjz9WYmKiQkJCNHDgQHOCj1tuuUWffPJJadQIFzFkEQAAACgbXB6y+PLLL2vcuHEaNGiQuWzgwIGaMGGCRo8erfvvv9+tBcJ15iyL5DEAAADAq7ncQ/bbb7+pS5cuRZbfcccd3F/mJc70kAEAAADwZi4HstjYWC1atKjI8oULFyo2NtYtReHSOO4h48HQAAAAgHdzecji008/rYEDByo1NVWtWrWSJK1cuVLTpk3TpEmT3F4gXOeYZZE4BgAAAHg3lwPZ448/rujoaI0fP15ffPGFJKl+/fr6/PPPdeedd7q9QLiOB0MDAAAAZYPLgUyS7rrrLt11113urgVuYin03jAMs8cMAAAAgHe5qOeQwbsVDmD0kgEAAADei0Dmg5x6yDxWBQAAAIALIZD5oMIjFJlpEQAAAPBeBDIfZCnUR0YcAwAAALzXJQUywzDogfFClkLfVb49AAAAgPe6qED20UcfKT4+XsHBwQoODlbjxo313//+19214SIVvocsn0QGAAAAeC2Xp72fMGGCXnzxRQ0YMEA33nijJGnFihXq16+fDhw4oEGDBrm9SLiGae4BAACAssHlQPbGG2/onXfeUc+ePc1ld9xxhxo2bKgRI0YQyLyA83PIPFYGAAAAgAtwecjinj171KpVqyLLW7VqpT179rilKFwap1kWmdYDAAAA8FouB7JatWrpiy++KLL8888/V+3atd1SFC6N0yyL5DEAAADAa7k8ZHHkyJG69957tXz5cvMespUrV2rRokXFBjVcfs49ZAAAAAC8lcs9ZN26ddPq1asVERGh2bNna/bs2YqIiNCPP/6ou+66qzRqhIt4MDQAAABQNrjcQyZJLVq00Mcff+zuWuAmhYcs5pPHAAAAAK91SQ+GhndymvWeQAYAAAB4rRL3kFmt1gs+38pisSg3N/eSi8Klcc5jJDIAAADAW5U4kM2aNeuc61JSUvT6668rPz/fLUXh0hQOztxCBgAAAHivEgeyO++8s8iybdu26bnnntOcOXPUo0cPjRo1yq3F4eIwYhEAAAAoGy7qHrK//vpLjz76qOLj45Wbm6vU1FRNnz5d1atXd3d9uAjMsggAAACUDS4FsszMTA0dOlS1atXSpk2btGjRIs2ZM0eNGjUqrfpwEZyGLHqwDgAAAADnV+Ihi+PGjdMrr7yi6Ohoffrpp8UOYYT3sFgK7h/Lp4cMAAAA8FolDmTPPfecgoODVatWLU2fPl3Tp08vtt2XX37ptuJw8Sw63TtGHgMAAAC8VokDWc+ePS847T28h+V0Fxl5DAAAAPBeJQ5k06ZNK8Uy4G6O6MyIRQAAAMB7XdQsi/B+js5M+sgAAAAA70Ug81GW031k9JABAAAA3otA5qPO9JABAAAA8FZeHchGjBghi8Xi9KpXr565/tSpU+rfv78qV66s8uXLq1u3btq7d6/TPnbt2qXOnTsrJCREkZGRGjJkiHJzc53aLF26VM2bN1dgYKBq1arlE/fLOQJZfj6RDAAAAPBWXh3IJKlhw4bas2eP+VqxYoW5btCgQZozZ45mzpypZcuW6a+//tLdd99trs/Ly1Pnzp2VnZ2tVatWafr06Zo2bZqGDx9utklPT1fnzp3Vvn17paam6qmnntIjjzyi77777rKep7tZxIyYAAAAgLcr8SyLnuLv76/o6OgiyzMzM/XBBx/ok08+0c033yxJ+vDDD1W/fn398MMPuuGGG7RgwQJt3rxZCxcuVFRUlJo2barRo0dr6NChGjFihGw2myZPnqy4uDiNHz9eklS/fn2tWLFCr732mpKSks5ZV1ZWlrKysszPdrvdzWd+aayOHjJuIgMAAAC8ltf3kP3666+KiYnRNddcox49emjXrl2SpLVr1yonJ0eJiYlm23r16qlatWpKSUmRJKWkpCg+Pl5RUVFmm6SkJNntdm3atMlsU3gfjjaOfZzLmDFjFBYWZr5iY2Pdcr7u4nc6keUyZBEAAADwWl4dyFq2bKlp06Zp/vz5euedd5Senq7WrVvr6NGjysjIkM1mU3h4uNM2UVFRysjIkCRlZGQ4hTHHese687Wx2+06efLkOWsbNmyYMjMzzdcff/xxqafrVgF+Bd/a3DwCGQAAAOCtvHrIYqdOncz3jRs3VsuWLVW9enV98cUXCg4O9mBlUmBgoAIDAz1aw/k4AllOXr6HKwEAAABwLl7dQ3a28PBw1alTR9u3b1d0dLSys7N15MgRpzZ79+417zmLjo4uMuui4/OF2oSGhno89F0Kf7+CIYsEMgAAAMB7lalAduzYMe3YsUNVq1ZVixYtFBAQoEWLFpnrt23bpl27dikhIUGSlJCQoI0bN2rfvn1mm+TkZIWGhqpBgwZmm8L7cLRx7KOssjmGLHIPGQAAAOC1vDqQPfPMM1q2bJl27typVatW6a677pKfn5+6d++usLAw9enTR4MHD9aSJUu0du1aPfzww0pISNANN9wgSerQoYMaNGigBx98UD///LO+++47vfDCC+rfv7853LBfv3767bff9Oyzz2rr1q16++239cUXX2jQoEGePPVLZvaQ5dJDBgAAAHgrr76HbPfu3erevbsOHjyoKlWq6KabbtIPP/ygKlWqSJJee+01Wa1WdevWTVlZWUpKStLbb79tbu/n56e5c+fq8ccfV0JCgsqVK6devXpp1KhRZpu4uDh98803GjRokCZNmqSrr75a77///nmnvC8L/K2n7yGjhwwAAADwWhbD4EFV7mC32xUWFqbMzEyFhoZ6uhzd9fZKrd91RO8+2EJJDYs+xw0AAABA6XAlG3j1kEVcvCB/P0lSFkMWAQAAAK9FIPNRAf6O55ARyAAAAABvRSDzUQFWpr0HAAAAvB2BzEc5HgydncctggAAAIC3IpD5KIYsAgAAAN6PQOajGLIIAAAAeD8CmY9yDFnMYcgiAAAA4LUIZD4qwJ8eMgAAAMDbEch8lM2P55ABAAAA3o5A5qOCbQXf2pPZeR6uBAAAAMC5EMh8VHBAQQ/ZqRwCGQAAAOCtCGQ+Kuh0IDtJIAMAAAC8FoHMRwXbCgLZCYYsAgAAAF6LQOajQmwMWQQAAAC8HYHMRznuIWNSDwAAAMB7Ech8lOMeMoYsAgAAAN6LQOajmGURAAAA8H4EMh9VLtBfknQ0K9fDlQAAAAA4FwKZj3LMsphFDxkAAADgtQhkPirQv+Bbm5Wb7+FKAAAAAJwLgcxHBfqf7iHLzZdhGB6uBgAAAEBxCGQ+KijgzLeWXjIAAADAOxHIfJSjh0wikAEAAADeikDmowL8LLJYCt5n5TKxBwAAAOCNCGQ+ymKxnJnYI4ceMgAAAMAbEch8mGPY4kmmvgcAAAC8EoHMh1UIOv1w6FM5Hq4EAAAAQHEIZD6sQlCAJOlYFj1kAAAAgDcikPmw8oEFQxaPZ+V6uBIAAAAAxSGQ+bDygQVDFo+dIpABAAAA3ohA5sPKOQIZPWQAAACAVyKQ+TBHDxlDFgEAAADvRCDzYeXpIQMAAAC8GoHMhzFkEQAAAPBuBDIf5ngOGYEMAAAA8E4EMh9WjnvIAAAAAK9GIPNhDFkEAAAAvBuBzIedeTB0nocrAQAAAFAcApkPK2djyCIAAADgzQhkPowhiwAAAIB3I5D5sLDgAElS5skcGYbh4WoAAAAAnI1A5sOqVAiUJGXl5st+kl4yAAAAwNsQyHxYUICfKoYU9JJl2E95uBoAAAAAZyOQ+bio0CBJBDIAAADAGxHIfJwjkO3NJJABAAAA3oZA5uOi6SEDAAAAvJZXB7IxY8bouuuuU4UKFRQZGamuXbtq27ZtTm3atWsni8Xi9OrXr59Tm127dqlz584KCQlRZGSkhgwZotxc50kuli5dqubNmyswMFC1atXStGnTSvv0LouoMAIZAAAA4K28OpAtW7ZM/fv31w8//KDk5GTl5OSoQ4cOOn78uFO7Rx99VHv27DFf48aNM9fl5eWpc+fOys7O1qpVqzR9+nRNmzZNw4cPN9ukp6erc+fOat++vVJTU/XUU0/pkUce0XfffXfZzrW0RIUWzLS4j0AGAAAAeB1/TxdwPvPnz3f6PG3aNEVGRmrt2rVq06aNuTwkJETR0dHF7mPBggXavHmzFi5cqKioKDVt2lSjR4/W0KFDNWLECNlsNk2ePFlxcXEaP368JKl+/fpasWKFXnvtNSUlJZXeCV4GDFkEAAAAvJdX95CdLTMzU5JUqVIlp+UzZsxQRESEGjVqpGHDhunEiRPmupSUFMXHxysqKspclpSUJLvdrk2bNpltEhMTnfaZlJSklJSUc9aSlZUlu93u9PJG5iyLmVkergQAAADA2by6h6yw/Px8PfXUU7rxxhvVqFEjc/n999+v6tWrKyYmRhs2bNDQoUO1bds2ffnll5KkjIwMpzAmyfyckZFx3jZ2u10nT55UcHBwkXrGjBmjkSNHuvUcS0P06XvIDh7PUk5evgL8ylQGBwAAAHxamQlk/fv3V1pamlasWOG0vG/fvub7+Ph4Va1aVbfccot27NihmjVrllo9w4YN0+DBg83PdrtdsbGxpXa8i1UpxKYAP4ty8gztO5qlq8KLhksAAAAAnlEmuksGDBiguXPnasmSJbr66qvP27Zly5aSpO3bt0uSoqOjtXfvXqc2js+O+87O1SY0NLTY3jFJCgwMVGhoqNPLG1mtFkVWcAxb5D4yAAAAwJt4dSAzDEMDBgzQrFmztHjxYsXFxV1wm9TUVElS1apVJUkJCQnauHGj9u3bZ7ZJTk5WaGioGjRoYLZZtGiR036Sk5OVkJDgpjPxLMdMi3uZ2AMAAADwKl4dyPr376+PP/5Yn3zyiSpUqKCMjAxlZGTo5MmTkqQdO3Zo9OjRWrt2rXbu3Kmvv/5aPXv2VJs2bdS4cWNJUocOHdSgQQM9+OCD+vnnn/Xdd9/phRdeUP/+/RUYWBBU+vXrp99++03PPvustm7dqrfffltffPGFBg0a5LFzdyfHfWQEMgAAAMC7eHUge+edd5SZmal27dqpatWq5uvzzz+XJNlsNi1cuFAdOnRQvXr19PTTT6tbt26aM2eOuQ8/Pz/NnTtXfn5+SkhI0AMPPKCePXtq1KhRZpu4uDh98803Sk5OVpMmTTR+/Hi9//77ZX7KeweGLAIAAADeyasn9TAM47zrY2NjtWzZsgvup3r16po3b95527Rr107r1693qb6yokblEEnSjv3HPFwJAAAAgMK8uocM7hFXpbwk6Y9DJz1cCQAAAIDCCGRXAEcPWfrB48rJy/dwNQAAAAAcCGRXgNiKISpn81N2br5+P3jc0+UAAAAAOI1AdgWwWi2KrVTQS7br0AkPVwMAAADAgUB2hagbXUGSlPan3cOVAAAAAHAgkF0hGsWESZLS/sz0cCUAAAAAHAhkV4jm1StKklanH1Je/vkfJwAAAADg8iCQXSGaXB2mCoH+yjyZQy8ZAAAA4CUIZFcIfz+rbqhZWZK0YvsBD1cDAAAAQCKQXVHa1KkiSVqwea+HKwEAAAAgEciuKB0bRsvPatHPfxzRlj3MtggAAAB4GoHsClKlQqA6NoqWJH24Mt3D1QAAAAAgkF1het8YJ0manfqX9h095eFqAAAAgCsbgewK06J6RTWvFq7s3Hy9lvyrp8sBAAAArmgEsivQc53qS5I+/2kX95IBAAAAHkQguwJdH1dJneOrKt+Q/vXNZhkGD4oGAAAAPIFAdoV6rlM92fysWrn9oBZt2efpcgAAAIArEoHsChVbKUR9WhdM8PHyvC3Kycv3cEUAAADAlYdAdgV7vF1NVQjyV/qB45q6gmnwAQAAgMuNQHYFCw0K0LMd60mSXlv4i3YfPuHhigAAAIArC4HsCvdAy2pqGhuuUzn5evW7bZ4uBwAAALiiEMiucBaLRaPvbCSLRfoq9S8t/2W/p0sCAAAArhgEMij+6jD1SqghSfrnrI2yn8rxbEEAAADAFYJABknSM0l1FRMWpN2HT+qxj9bqZHaep0sCAAAAfB6BDJKk8oH+eqtHc5UP9FfKbwfV/5N1ys5lKnwAAACgNBHIYGpWraI+fPg62fytWrx1n577coMMw/B0WQAAAIDPIpDByXU1KundB1rIYpG+XPenXvwqTadyGL4IAAAAlAYCGYpoXy9So+5sJEn6+Idd6jTpe/2085CHqwIAAAB8D4EMxXrwhup698EWiqwQqPQDx9Vr6o/69Mddys9nCCMAAADgLgQynFNSw2gtfLqtbqoVoRPZeRr25Ub9/d0Ubc2we7o0AAAAwCcQyHBeoUEBmvbwdXqhc32Vs/lpze+HdfvrK/Ti7DSlHzju6fIAAACAMs1iMI2eW9jtdoWFhSkzM1OhoaGeLqdU7D58QiO+3qSFW/ZJkvytFnVrfrUeurGG6lf1zXMGAAAAXOVKNiCQucmVEMgcVm4/oCnLf9OyX/aby+5qdpV6taqhprHhnisMAAAA8AIEMg+4kgKZw6rtB/Tx6t81b2OGuaxB1VB1ahStO5rGqHrlch6sDgAAAPAMApkHXImBzCH1jyOauiJdczb8pcJXU8u4SrqjaYza141UTHiw5woEAAAALiMCmQdcyYHMISPzlJb9sk9zft6jlTsOOIWz+KvC1LZOFbW8ppKuq1FJQQF+nisUAAAAKEUEMg8gkDn788hJfbl2t5Zs26fUP46o8OPLrBapdmQFXR9XSfWqVtD1NSqpVmR5WSwWzxUMAAAAuAmBzAMIZOd24FiWFm/Zp5TfDmrVjgPaa88q0qZyOZvirw5TnagKqh1ZXrWjKqhB1VDZ/HkyAwAAAMoWApkHEMhKxjAM7bVn6aedh7Txz0yl/ZmpNb8fVnZufpG2Vot0dcUQXVOlnK4KD1ZcRDldU6Wc4iLK6+qKwQrwI6wBAADA+xDIPIBAdvFO5eRp8x67Nv1l1/a9R7Vt71FtzTiqIydyzrmNzd+q6pVCFB0WpNhKIboqPFh1oiooJjxIUaFBqhRik9XKEEgAAABcfgQyDyCQuZdhGNp/NEs79h/X7wePa/fhk0o/cFw79h/TzoPHdSqnaI9aYf5Wi6LDglQ1LEhXhQcrMrTgfVRokCqVs+mq8GBVLm9TiM3/Mp0RAAAArhQEMg8gkF0++flGQUA7eFx77af0x6ET+uPQCW3ff0x/HTmlwyeyVdKrukKQvyqXsyk8xKaI8jZVDLGpUjmbKpYr+LPy6T8jygeqfKC/QoMD5EfPGwAAAM7DlWxA9wDKHKvVomqVQ1Stckix63Py8rX/aJb2ZJ7Un0dO6a8jJ3XgaJb+PHJSB45laf/RLP115JSy8/J19FSujp7KlQ6eKPHxKwT6q1L5ghBXIdBf4SEBCg8JUDmbv0Js/iof5K/gAD+VC/RTaFCAQoP9VS7Q//R6PwXb/BQc4MeskgAAACCQwfcE+FkVEx6smPBgtahefBvDMHQsK1d77Vk6ciJbB45l6/CJbB06XvA6fDxbB49n6+DxLB08VrAs6/TEI0ezcnU0K1e/uxDizuZntSjEVhDYCnreToe5wILQFhTgZwa7EJufQmz+CgqwKvj0ckfboACrggL8VC6woC29dwAAAGULgQxXJIvFogpBAaoQFFDibbJz82U/laPMkzk6dDxbmSdyzM+HT+ToRFaujmfn6XhWrk7m5OnoqRwdz8pT5skcncjOlf1UrjmbZF6+caZ3zo2CA/wUFGBVoH9BT1ygv1WBAX4K8rcq2OYnm1/B55AAP9n8rQrwsyrwdNAzP/sXhDybv1U2P4sC/f0UGGCVzc+5fcDpzzY/q4JsVgVYrUykAgAA4CICGVBCNn+rIsoHKqJ8oGpWubh95OUbOpWTp6OncnU8O1f2kzk6lpUr+8lcncjO1bHTYe5Udp6OZuXqVE6+TmTn6kR2nk7l5OnE6cB3LCtXJ08vO5mTZz54++Tpz9K5Z6gsTf5WiwL8rAqx+cnfzyJ/q1UBfhb5+1kVFGA989lqVYC/VUGnQ6Cf1SJ/q0X+fpbTQdCxfcG2gf4Fwc/vdBuzvbUgIPpbLfKzWs9sY7XK5u9Y7vwKOL3OsQ/r6T/9rBbZ/AiVAADg8iKQAZeRn9VScD9ZoPv+6hmGYQa3Y1kFvXBZufk6kZ2nrNw8ZefmFwS17Dxl5eabnx3vs3LzdCqn4H1OXr5OFVqXk5evU7l5ysopeJ+TZ5xZn5df5PlxufmGcvMdobBscgS3wmHO31oQCh2frRZHO6v8rJLNzyp/vzMB0Go5E/bM7SwWWSwW+VkLtrVYCpYV7MsREiWrpWB7x7EsFsnPUhBMbX4F+7RaHPuTeTzr6bocwdV61nqL5cy+rZaCXmJHOLZandc53lssMvfrCNOW4toUWmY5vW8AAFAyBLKzvPXWW3r11VeVkZGhJk2a6I033tD111/v6bKAc7JYLAUThdj8VLl84GU9tmEYBSEtN085uQWBzRH4cvLyCwJaXkF4y8o58zkn31BObkHYy8sv2EdefsH6U6fDX+7pAJiXbygrN085eYZy80+3yzOUbxhmcMzLd6wr+DP7dPu8QsvyDcPcp6O24ji2yb6sX0nf4ghpNj9rkaB25rNziCsIlQX3gFrPameRzNDo2M6iM6HQ0Wtqti10LMmxf8migmNYVLADa6H2juM66rQUOoajvsLnZin0XoVCaYCfVZbCxzzHdo42lrP25Tiuv5/VDN2F2zjXYnGq0dFGOhO6Hcuczq+gyZka5HzORd6fVbPO+uz4DwzzXM/V/vS+zt7+7HrO7OOsY1ulAKu12BrO7Lfw14r/GABQNhDICvn88881ePBgTZ48WS1bttTEiROVlJSkbdu2KTIy0tPlAV7HYrHI5l8wzLAsyncKcgU9i2aAyz8TALNy850CXt7pgJeXbyjPMJSVk2/uoyD4Fax3BNR8w9FeBe/zDeUbUp5hmKE2J69gH4ZRsM+8/IL68owz+8rNyzf342iXb+j0/hzhNV+GzizLNwraOt4XPn7u6WB69jrD8f6sGkvKOL3dyfyy21MK33G+kOdYUSQon97W/3SPs8VpX2cHxzP7KhxkCx//TPviA6SKqdH/9H9onL2t2fysAHz29mfqcT7Ps5cXV9+Z2gtaOXrsC5VafF2FlhU95rm2L7pO5zrnYo5xpn6LbH5n/rPibMVtV+x+z1PLebc7x3qd87yLbx/gby3Strj2zudW6Horcpyi7Zz3W/RgJT3++dqp2HYF7xwjSJzOQc7OPk/LWS2Krj/DarUoqWG0yhKeQ1ZIy5Ytdd111+nNN9+UJOXn5ys2NlZPPPGEnnvuufNuy3PIAPgyo3BoM5xDW75hyMg/s86xLDs3v1C7M+HQkCP8yWlfjh7UfEMyVPQYOvuYp7fNPh1U8/Nl7tvR1vH59CJzm/yz/szOyzfXnWubMzUVvJfh3K6gtzf/9DbO2xWc+1nbnW7neF94f7n5pwN6oTaSzqrjzLF19nKzbcEbxyyxhbc3z83cvvA+T/9pnPn+G8Vur9P/YXB6+PJZ+z27vc6q9ey2AHCpAv2t2vavTp4ug+eQXYzs7GytXbtWw4YNM5dZrVYlJiYqJSWlSPusrCxlZWWZn+12+2WpEwA8oeCeN8mvyP9jAu5XOBwXDvG5eUbREOcIjecJeY4gfHZIlJxDtwqtlwqea5l/1vKz2xUOkoW3LVzLmeM43skp1JrnXOiz4z8JzC3OOs/zH+N0S6dzLGb7QtsWW//pVQW9/+feh2MDo9B+Cp+T0zKdWaci64rut7h1Z7Y7s6xgZIFRZJvij+28XmefS6H6LrRtcTWZ7y+wTXFfL8dohLNrc25vnL2q6PejuHZO+ypa//nO7exaC++sJMcuvK+cvPyz9u38RSzyNZXOu+Ds7QP8yt6oHQLZaQcOHFBeXp6ioqKclkdFRWnr1q1F2o8ZM0YjR468XOUBAHDFcNzHdvqTudyN8yEBgNcoexHSSwwbNkyZmZnm648//vB0SQAAAADKGP6v6bSIiAj5+flp7969Tsv37t2r6OiiNwYGBgYqMPDyzmgHAAAAwLfQQ3aazWZTixYttGjRInNZfn6+Fi1apISEBA9WBgAAAMBX0UNWyODBg9WrVy9de+21uv766zVx4kQdP35cDz/8sKdLAwAAAOCDCGSF3Hvvvdq/f7+GDx+ujIwMNW3aVPPnzy8y0QcAAAAAuAPPIXMTnkMGAAAAQHItG3APGQAAAAB4CIEMAAAAADyEQAYAAAAAHkIgAwAAAAAPIZABAAAAgIcQyAAAAADAQwhkAAAAAOAhBDIAAAAA8BACGQAAAAB4CIEMAAAAADyEQAYAAAAAHkIgAwAAAAAP8fd0Ab7CMAxJkt1u93AlAAAAADzJkQkcGeF8CGRucvToUUlSbGyshysBAAAA4A2OHj2qsLCw87axGCWJbbig/Px8/fXXX6pQoYIsFotHa7Hb7YqNjdUff/yh0NBQj9YC78Q1ggvhGsGFcI3gfLg+cCG+fo0YhqGjR48qJiZGVuv57xKjh8xNrFarrr76ak+X4SQ0NNQnL3C4D9cILoRrBBfCNYLz4frAhfjyNXKhnjEHJvUAAAAAAA8hkAEAAACAhxDIfFBgYKBeeuklBQYGeroUeCmuEVwI1wguhGsE58P1gQvhGjmDST0AAAAAwEPoIQMAAAAADyGQAQAAAICHEMgAAAAAwEMIZAAAAADgIQQyH/TWW2+pRo0aCgoKUsuWLfXjjz96uiSUghEjRshisTi96tWrZ64/deqU+vfvr8qVK6t8+fLq1q2b9u7d67SPXbt2qXPnzgoJCVFkZKSGDBmi3NxcpzZLly5V8+bNFRgYqFq1amnatGmX4/RwEZYvX64uXbooJiZGFotFs2fPdlpvGIaGDx+uqlWrKjg4WImJifr111+d2hw6dEg9evRQaGiowsPD1adPHx07dsypzYYNG9S6dWsFBQUpNjZW48aNK1LLzJkzVa9ePQUFBSk+Pl7z5s1z+/nCNRe6Ph566KEi/6Z07NjRqQ3Xh28bM2aMrrvuOlWoUEGRkZHq2rWrtm3b5tTmcv5s4fcZ71KS66Ndu3ZF/h3p16+fUxuuj2IY8CmfffaZYbPZjKlTpxqbNm0yHn30USM8PNzYu3evp0uDm7300ktGw4YNjT179piv/fv3m+v79etnxMbGGosWLTLWrFlj3HDDDUarVq3M9bm5uUajRo2MxMREY/369ca8efOMiIgIY9iwYWab3377zQgJCTEGDx5sbN682XjjjTcMPz8/Y/78+Zf1XFEy8+bNM55//nnjyy+/NCQZs2bNclo/duxYIywszJg9e7bx888/G3fccYcRFxdnnDx50mzTsWNHo0mTJsYPP/xgfP/990atWrWM7t27m+szMzONqKgoo0ePHkZaWprx6aefGsHBwca7775rtlm5cqXh5+dnjBs3zti8ebPxwgsvGAEBAcbGjRtL/WuAc7vQ9dGrVy+jY8eOTv+mHDp0yKkN14dvS0pKMj788EMjLS3NSE1NNW677TajWrVqxrFjx8w2l+tnC7/PeJ+SXB9t27Y1Hn30Uad/RzIzM831XB/FI5D5mOuvv97o37+/+TkvL8+IiYkxxowZ48GqUBpeeuklo0mTJsWuO3LkiBEQEGDMnDnTXLZlyxZDkpGSkmIYRsEvZ1ar1cjIyDDbvPPOO0ZoaKiRlZVlGIZhPPvss0bDhg2d9n3vvfcaSUlJbj4buNvZv3Dn5+cb0dHRxquvvmouO3LkiBEYGGh8+umnhmEYxubNmw1Jxk8//WS2+fbbbw2LxWL8+eefhmEYxttvv21UrFjRvEYMwzCGDh1q1K1b1/z897//3ejcubNTPS1btjQee+wxt54jLt65Atmdd955zm24Pq48+/btMyQZy5YtMwzj8v5s4fcZ73f29WEYBYHsySefPOc2XB/FY8iiD8nOztbatWuVmJhoLrNarUpMTFRKSooHK0Np+fXXXxUTE6NrrrlGPXr00K5duyRJa9euVU5OjtO1UK9ePVWrVs28FlJSUhQfH6+oqCizTVJSkux2uzZt2mS2KbwPRxuup7InPT1dGRkZTt/PsLAwtWzZ0umaCA8P17XXXmu2SUxMlNVq1erVq802bdq0kc1mM9skJSVp27ZtOnz4sNmG66ZsWrp0qSIjI1W3bl09/vjjOnjwoLmO6+PKk5mZKUmqVKmSpMv3s4XfZ8qGs68PhxkzZigiIkKNGjXSsGHDdOLECXMd10fx/D1dANznwIEDysvLc7rIJSkqKkpbt271UFUoLS1bttS0adNUt25d7dmzRyNHjlTr1q2VlpamjIwM2Ww2hYeHO20TFRWljIwMSVJGRkax14pj3fna2O12nTx5UsHBwaV0dnA3x/e0uO9n4e93ZGSk03p/f39VqlTJqU1cXFyRfTjWVaxY8ZzXjWMf8E4dO3bU3Xffrbi4OO3YsUP//Oc/1alTJ6WkpMjPz4/r4wqTn5+vp556SjfeeKMaNWokSZftZ8vhw4f5fcbLFXd9SNL999+v6tWrKyYmRhs2bNDQoUO1bds2ffnll5K4Ps6FQAaUUZ06dTLfN27cWC1btlT16tX1xRdfEJQAuOy+++4z38fHx6tx48aqWbOmli5dqltuucWDlcET+vfvr7S0NK1YscLTpcALnev66Nu3r/k+Pj5eVatW1S233KIdO3aoZs2al7vMMoMhiz4kIiJCfn5+RWY72rt3r6Kjoz1UFS6X8PBw1alTR9u3b1d0dLSys7N15MgRpzaFr4Xo6OhirxXHuvO1CQ0NJfSVMY7v6fn+fYiOjta+ffuc1ufm5urQoUNuuW74d6hsueaaaxQREaHt27dL4vq4kgwYMEBz587VkiVLdPXVV5vLL9fPFn6f8W7nuj6K07JlS0ly+neE66MoApkPsdlsatGihRYtWmQuy8/P16JFi5SQkODBynA5HDt2TDt27FDVqlXVokULBQQEOF0L27Zt065du8xrISEhQRs3bnT6BSs5OVmhoaFq0KCB2abwPhxtuJ7Knri4OEVHRzt9P+12u1avXu10TRw5ckRr16412yxevFj5+fnmD9WEhAQtX75cOTk5Zpvk5GTVrVtXFStWNNtw3ZR9u3fv1sGDB1W1alVJXB9XAsMwNGDAAM2aNUuLFy8uMvz0cv1s4fcZ73Sh66M4qampkuT07wjXRzE8PasI3Ouzzz4zAgMDjWnTphmbN282+vbta4SHhzvNZgPf8PTTTxtLly410tPTjZUrVxqJiYlGRESEsW/fPsMwCqYmrlatmrF48WJjzZo1RkJCgpGQkGBu75h6tkOHDkZqaqoxf/58o0qVKsVOPTtkyBBjy5YtxltvvcW0917s6NGjxvr1643169cbkowJEyYY69evN37//XfDMAqmvQ8PDze++uorY8OGDcadd95Z7LT3zZo1M1avXm2sWLHCqF27ttO05keOHDGioqKMBx980EhLSzM+++wzIyQkpMi05v7+/sZ//vMfY8uWLcZLL73EtOZe4HzXx9GjR41nnnnGSElJMdLT042FCxcazZs3N2rXrm2cOnXK3AfXh297/PHHjbCwMGPp0qVO05afOHHCbHO5frbw+4z3udD1sX37dmPUqFHGmjVrjPT0dOOrr74yrrnmGqNNmzbmPrg+ikcg80FvvPGGUa1aNcNmsxnXX3+98cMPP3i6JJSCe++916hataphs9mMq666yrj33nuN7du3m+tPnjxp/OMf/zAqVqxohISEGHfddZexZ88ep33s3LnT6NSpkxEcHGxEREQYTz/9tJGTk+PUZsmSJUbTpk0Nm81mXHPNNcaHH354OU4PF2HJkiWGpCKvXr16GYZRMPX9iy++aERFRRmBgYHGLbfcYmzbts1pHwcPHjS6d+9ulC9f3ggNDTUefvhh4+jRo05tfv75Z+Omm24yAgMDjauuusoYO3ZskVq++OILo06dOobNZjMaNmxofPPNN6V23iiZ810fJ06cMDp06GBUqVLFCAgIMKpXr248+uijRX654frwbcVdH5Kc/t2/nD9b+H3Gu1zo+ti1a5fRpk0bo1KlSkZgYKBRq1YtY8iQIU7PITMMro/iWAzDMC5ffxwAAAAAwIF7yAAAAADAQwhkAAAAAOAhBDIAAAAA8BACGQAAAAB4CIEMAAAAADyEQAYAAAAAHkIgAwAAAAAPIZABAAAAgIcQyAAAKAUPPfSQunbt6ukyAABejkAGALiiPPTQQ7JYLLJYLLLZbKpVq5ZGjRql3NxcT5d2XtOmTVN4eLinywAAuJm/pwsAAOBy69ixoz788ENlZWVp3rx56t+/vwICAjRs2DCndtnZ2bLZbB6qEgBwJaCHDABwxQkMDFR0dLSqV6+uxx9/XImJifr666/NYYYvv/yyYmJiVLduXUnSxo0bdfPNNys4OFiVK1dW3759dezYMXN/eXl5Gjx4sMLDw1W5cmU9++yzMgzD6Zg1atTQxIkTnZY1bdpUI0aMMD8fOXJEjz32mKKiohQUFKRGjRpp7ty5Wrp0qR5++GFlZmaavXuFtwMAlF0EMgDAFS84OFjZ2dmSpEWLFmnbtm1KTk7W3Llzdfz4cSUlJalixYr66aefNHPmTC1cuFADBgwwtx8/frymTZumqVOnasWKFTp06JBmzZrlUg35+fnq1KmTVq5cqY8//libN2/W2LFj5efnp1atWmnixIkKDQ3Vnj17tGfPHj3zzDNu/RoAADyDIYsAgCuWYRhatGiRvvvuOz3xxBPav3+/ypUrp/fff98cqvjee+/p1KlT+uijj1SuXDlJ0ptvvqkuXbrolVdeUVRUlCZOnKhhw4bp7rvvliRNnjxZ3333nUu1LFy4UD/++KO2bNmiOnXqSJKuueYac31YWJgsFouio6PdceoAAC9BDxkA4Iozd+5clS9fXkFBQerUqZPuvfdecwhgfHy8031jW7ZsUZMmTcwwJkk33nij8vPztW3bNmVmZmrPnj1q2bKlud7f31/XXnutSzWlpqbq6quvNsMYAODKQA8ZAOCK0759e73zzjuy2WyKiYmRv/+ZH4eFg5c7Wa3WIveV5eTkmO+Dg4NL5bgAAO9GDxkA4IpTrlw51apVS9WqVXMKY8WpX7++fv75Zx0/ftxctnLlSlmtVtWtW1dhYWGqWrWqVq9eba7Pzc3V2rVrnfZTpUoV7dmzx/xst9uVnp5ufm7cuLF2796tX375pdg6bDab8vLyXDpPAID3I5ABAHAePXr0UFBQkHr16qW0tDQtWbJETzzxhB588EFFRUVJkp588kmNHTtWs2fP1tatW/WPf/xDR44ccdrPzTffrP/+97/6/vvvtXHjRvXq1Ut+fn7m+rZt26pNmzbq1q2bkpOTlZ6erm+//Vbz58+XVDBL47Fjx7Ro0SIdOHBAJ06cuGxfAwBA6SGQAQBwHiEhIfruu+906NAhXXfddfrb3/6mW265RW+++abZ5umnn9aDDz6oXr16KSEhQRUqVNBdd93ltJ9hw4apbdu2uv3229W5c2d17dpVNWvWdGrzv//9T9ddd526d++uBg0a6NlnnzV7xVq1aqV+/frp3nvvVZUqVTRu3LjSP3kAQKmzGGcPaAcAAAAAXBb0kAEAAACAhxDIAAAAAMBDCGQAAAAA4CEEMgAAAADwEAIZAAAAAHgIgQwAAAAAPIRABgAAAAAeQiADAAAAAA8hkAEAAACAhxDIAAAAAMBDCGQAAAAA4CH/D48JjjN4MyumAAAAAElFTkSuQmCC",
                        "text/plain": [
                            "<Figure size 1000x600 with 1 Axes>"
                        ]
                    },
                    "metadata": {},
                    "output_type": "display_data"
                }
            ],
            "source": [
                "# Sort products by rating count in descending order that have been rated by more than 50 users\n",
                "product_rating_counts = df.groupby('productId')['Rating'].count()\n",
                "popular_products = product_rating_counts[product_rating_counts > 50].sort_values(ascending=False)\n",
                "plt.figure(figsize=(10, 6))\n",
                "plt.plot(popular_products.values)\n",
                "plt.title(\"# RATINGS per Product\")\n",
                "plt.xlabel(\"Product\")\n",
                "plt.ylabel(\"No of ratings per product\")\n",
                "plt.show()"
            ]
        },
        {
            "cell_type": "code",
            "execution_count": 17,
            "id": "#VSC-47fa5cf6",
            "metadata": {
                "language": "python"
            },
            "outputs": [],
            "source": [
                "# Filter products with more than 50 ratings\n",
                "product_counts = df.groupby('productId')['Rating'].count()\n",
                "popular_products = product_counts[product_counts > 50].index\n",
                "filtered_df = df[df['productId'].isin(popular_products)]"
            ]
        },
        {
            "cell_type": "code",
            "execution_count": 18,
            "id": "#VSC-8916b312",
            "metadata": {
                "language": "python"
            },
            "outputs": [
                {
                    "data": {
                        "text/plain": [
                            "productId\n",
                            "0972683275    4.470980\n",
                            "1400501466    3.560000\n",
                            "1400501520    4.243902\n",
                            "1400501776    3.884892\n",
                            "1400532620    3.684211\n",
                            "Name: Rating, dtype: float64"
                        ]
                    },
                    "execution_count": 18,
                    "metadata": {},
                    "output_type": "execute_result"
                }
            ],
            "source": [
                "# Calculate the average rating of each product\n",
                "average_product_ratings = filtered_df.groupby('productId')['Rating'].mean()\n",
                "average_product_ratings.head()"
            ]
        },
        {
            "cell_type": "code",
            "execution_count": 19,
            "id": "#VSC-57bbbc93",
            "metadata": {
                "language": "python"
            },
            "outputs": [
                {
                    "data": {
                        "text/plain": [
                            "productId\n",
                            "B002E6R7NG    4.980392\n",
                            "B004I763AW    4.966667\n",
                            "B003J9QQWU    4.964286\n",
                            "B0043ZLFXE    4.955556\n",
                            "B000TMFYBO    4.953125\n",
                            "Name: Rating, dtype: float64"
                        ]
                    },
                    "execution_count": 19,
                    "metadata": {},
                    "output_type": "execute_result"
                }
            ],
            "source": [
                "# Sort products by average rating in descending order\n",
                "top_rated_products = average_product_ratings.sort_values(ascending=False)\n",
                "top_rated_products.head()"
            ]
        },
        {
            "cell_type": "code",
            "execution_count": 20,
            "id": "#VSC-0b822a87",
            "metadata": {
                "language": "python"
            },
            "outputs": [
                {
                    "data": {
                        "text/plain": [
                            "productId\n",
                            "B0074BW614    18244\n",
                            "B00DR0PDNE    16454\n",
                            "B007WTAJTO    14172\n",
                            "B0019EHU8G    12285\n",
                            "B006GWO5WK    12226\n",
                            "Name: Rating, dtype: int64"
                        ]
                    },
                    "execution_count": 20,
                    "metadata": {},
                    "output_type": "execute_result"
                }
            ],
            "source": [
                "# Obtain the ranking of products sorted by the number of rating times\n",
                "product_ranking = product_rating_counts.sort_values(ascending=False)\n",
                "product_ranking.head()"
            ]
        },
        {
            "cell_type": "code",
            "execution_count": 21,
            "id": "#VSC-2a8c3a0b",
            "metadata": {
                "language": "python"
            },
            "outputs": [
                {
                    "data": {
                        "text/html": [
                            "<div>\n",
                            "<style scoped>\n",
                            "    .dataframe tbody tr th:only-of-type {\n",
                            "        vertical-align: middle;\n",
                            "    }\n",
                            "\n",
                            "    .dataframe tbody tr th {\n",
                            "        vertical-align: top;\n",
                            "    }\n",
                            "\n",
                            "    .dataframe thead th {\n",
                            "        text-align: right;\n",
                            "    }\n",
                            "</style>\n",
                            "<table border=\"1\" class=\"dataframe\">\n",
                            "  <thead>\n",
                            "    <tr style=\"text-align: right;\">\n",
                            "      <th></th>\n",
                            "      <th>Rating</th>\n",
                            "      <th>rating_counts</th>\n",
                            "    </tr>\n",
                            "    <tr>\n",
                            "      <th>productId</th>\n",
                            "      <th></th>\n",
                            "      <th></th>\n",
                            "    </tr>\n",
                            "  </thead>\n",
                            "  <tbody>\n",
                            "    <tr>\n",
                            "      <th>0972683275</th>\n",
                            "      <td>4.470980</td>\n",
                            "      <td>1051</td>\n",
                            "    </tr>\n",
                            "    <tr>\n",
                            "      <th>1400501466</th>\n",
                            "      <td>3.560000</td>\n",
                            "      <td>250</td>\n",
                            "    </tr>\n",
                            "    <tr>\n",
                            "      <th>1400501520</th>\n",
                            "      <td>4.243902</td>\n",
                            "      <td>82</td>\n",
                            "    </tr>\n",
                            "    <tr>\n",
                            "      <th>1400501776</th>\n",
                            "      <td>3.884892</td>\n",
                            "      <td>139</td>\n",
                            "    </tr>\n",
                            "    <tr>\n",
                            "      <th>1400532620</th>\n",
                            "      <td>3.684211</td>\n",
                            "      <td>171</td>\n",
                            "    </tr>\n",
                            "  </tbody>\n",
                            "</table>\n",
                            "</div>"
                        ],
                        "text/plain": [
                            "              Rating  rating_counts\n",
                            "productId                          \n",
                            "0972683275  4.470980           1051\n",
                            "1400501466  3.560000            250\n",
                            "1400501520  4.243902             82\n",
                            "1400501776  3.884892            139\n",
                            "1400532620  3.684211            171"
                        ]
                    },
                    "execution_count": 21,
                    "metadata": {},
                    "output_type": "execute_result"
                }
            ],
            "source": [
                "# View the product rating with the rating counts\n",
                "product_stats = filtered_df.groupby('productId')['Rating'].agg(['mean', 'count'])\n",
                "product_stats.columns = ['Rating', 'rating_counts']\n",
                "product_stats.head()"
            ]
        },
        {
            "cell_type": "code",
            "execution_count": 22,
            "id": "#VSC-310d4210",
            "metadata": {
                "language": "python"
            },
            "outputs": [
                {
                    "name": "stdout",
                    "output_type": "stream",
                    "text": [
                        "Maximum rating count for a product: 18244\n"
                    ]
                }
            ],
            "source": [
                "# View the maximum rating count\n",
                "print(\"Maximum rating count for a product:\", product_rating_counts.max())"
            ]
        },
        {
            "cell_type": "code",
            "execution_count": 23,
            "id": "#VSC-1bbd403e",
            "metadata": {
                "language": "python"
            },
            "outputs": [
                {
                    "data": {
                        "image/png": "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",
                        "text/plain": [
                            "<Figure size 1000x600 with 1 Axes>"
                        ]
                    },
                    "metadata": {},
                    "output_type": "display_data"
                }
            ],
            "source": [
                "# Plot in histogram the distribution of number of users whe rate each type of product\n",
                "product_rating_counts = df.groupby('productId')['userId'].nunique()\n",
                "plt.figure(figsize=(10,6))\n",
                "plt.hist(product_rating_counts, bins=100, color='skyblue', edgecolor='black')\n",
                "plt.grid(True)\n",
                "plt.gca().yaxis.set_major_locator(plt.MultipleLocator(5000))\n",
                "plt.ylim(0, 25000)\n",
                "plt.show()"
            ]
        },
        {
            "cell_type": "code",
            "execution_count": 24,
            "id": "#VSC-f5805b52",
            "metadata": {
                "language": "python"
            },
            "outputs": [
                {
                    "data": {
                        "image/png": "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",
                        "text/plain": [
                            "<Figure size 1000x600 with 1 Axes>"
                        ]
                    },
                    "metadata": {},
                    "output_type": "display_data"
                }
            ],
            "source": [
                "# Plot the distribution of average ratings across products\n",
                "product_avg_rating = filtered_df.groupby('productId')['Rating'].mean()\n",
                "plt.figure(figsize=(10, 6))\n",
                "plt.hist(product_avg_rating, bins=50, color='steelblue', edgecolor='black')\n",
                "plt.xlabel(\"Average Product Rating\")\n",
                "plt.ylabel(\"Number of Products\")\n",
                "plt.title(\"Distribution of Average Ratings Across Products\")\n",
                "plt.grid(True)\n",
                "plt.show()"
            ]
        },
        {
            "cell_type": "code",
            "execution_count": 25,
            "id": "#VSC-323eb7a3",
            "metadata": {
                "language": "python"
            },
            "outputs": [
                {
                    "data": {
                        "image/png": "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",
                        "text/plain": [
                            "<Figure size 600x600 with 3 Axes>"
                        ]
                    },
                    "metadata": {},
                    "output_type": "display_data"
                }
            ],
            "source": [
                "# Step 1: Prepare data\n",
                "product_stats = filtered_df.groupby('productId')['Rating'].agg(['mean', 'count']).reset_index()\n",
                "product_stats.columns = ['productId', 'avg_rating', 'rating_count']\n",
                "# Step 2: Plot joint distribution\n",
                "sns.set(style=\"white\")\n",
                "g = sns.jointplot(\n",
                "    data=product_stats,\n",
                "    x=\"avg_rating\",\n",
                "    y=\"rating_count\",\n",
                "    kind=\"scatter\",\n",
                "    color='steelblue',\n",
                "    marginal_kws=dict(bins=50, fill=True)\n",
                ")\n",
                "g.fig.suptitle(\"Relationship Between Product Average Rating and Rating Count\", fontsize=12)\n",
                "g.fig.tight_layout()\n",
                "g.fig.subplots_adjust(top=0.95)\n",
                "plt.show()"
            ]
        },
        {
            "cell_type": "code",
            "execution_count": 26,
            "id": "#VSC-f6c9fea8",
            "metadata": {
                "language": "python"
            },
            "outputs": [
                {
                    "data": {
                        "image/png": "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",
                        "text/plain": [
                            "<Figure size 1400x600 with 1 Axes>"
                        ]
                    },
                    "metadata": {},
                    "output_type": "display_data"
                }
            ],
            "source": [
                "# Sort the products by the number of users who rate the products, to obtain the product popularity\n",
                "product_rating_counts = df.groupby('productId').size().sort_values(ascending=False)\n",
                "top_products = product_rating_counts.head(30)\n",
                "plt.figure(figsize=(14, 6))\n",
                "top_products.plot(kind='bar', color='skyblue', edgecolor='black')\n",
                "plt.title('Top 30 Most Rated Products')\n",
                "plt.xlabel('Product ID')\n",
                "plt.ylabel('Number of Ratings')\n",
                "plt.xticks(rotation=90)\n",
                "plt.legend(['Rating'])\n",
                "plt.tight_layout()\n",
                "plt.show()"
            ]
        },
        {
            "cell_type": "markdown",
            "id": "#VSC-collab",
            "metadata": {
                "language": "markdown"
            },
            "source": [
                "## 🤝 Advanced Modeling: Collaborative Filtering\n",
                "Building a recommendation model by finding similarities between users and products."
            ]
        },
        {
            "cell_type": "markdown",
            "id": "#VSC-cf-steps",
            "metadata": {
                "language": "markdown"
            },
            "source": [
                "### Collaborative Filtering Steps\n",
                "Sampling, matrix construction, decomposition, and similarity calculation."
            ]
        },
        {
            "cell_type": "code",
            "execution_count": 27,
            "id": "#VSC-9b38c908",
            "metadata": {
                "language": "python"
            },
            "outputs": [
                {
                    "data": {
                        "text/plain": [
                            "(9858, 3)"
                        ]
                    },
                    "execution_count": 27,
                    "metadata": {},
                    "output_type": "execute_result"
                }
            ],
            "source": [
                "# Get around 10000 sample from filtered_df\n",
                "sample_df = filtered_df.sample(n=9858, random_state=42)\n",
                "sample_df.shape"
            ]
        },
        {
            "cell_type": "code",
            "execution_count": 28,
            "id": "#VSC-ff4712c6",
            "metadata": {
                "language": "python"
            },
            "outputs": [
                {
                    "name": "stdout",
                    "output_type": "stream",
                    "text": [
                        "Product-User Matrix Shape: (9832, 76)\n"
                    ]
                },
                {
                    "data": {
                        "text/html": [
                            "<div>\n",
                            "<style scoped>\n",
                            "    .dataframe tbody tr th:only-of-type {\n",
                            "        vertical-align: middle;\n",
                            "    }\n",
                            "\n",
                            "    .dataframe tbody tr th {\n",
                            "        vertical-align: top;\n",
                            "    }\n",
                            "\n",
                            "    .dataframe thead th {\n",
                            "        text-align: right;\n",
                            "    }\n",
                            "</style>\n",
                            "<table border=\"1\" class=\"dataframe\">\n",
                            "  <thead>\n",
                            "    <tr style=\"text-align: right;\">\n",
                            "      <th>productId</th>\n",
                            "      <th>B00DR0PDNE</th>\n",
                            "      <th>B0074BW614</th>\n",
                            "      <th>B006GWO5WK</th>\n",
                            "      <th>B0019EHU8G</th>\n",
                            "      <th>B007WTAJTO</th>\n",
                            "      <th>B007R5YDYA</th>\n",
                            "      <th>B0002L5R78</th>\n",
                            "      <th>B000LRMS66</th>\n",
                            "      <th>B004QK7HI8</th>\n",
                            "      <th>B003LR7ME6</th>\n",
                            "      <th>...</th>\n",
                            "      <th>B00A3YN0Z0</th>\n",
                            "      <th>B000B9RI14</th>\n",
                            "      <th>B0002SQ2P2</th>\n",
                            "      <th>B005FYNSPK</th>\n",
                            "      <th>B005KDYBIO</th>\n",
                            "      <th>B00AWKC0EC</th>\n",
                            "      <th>B001GTT0VO</th>\n",
                            "      <th>B005FVNGRI</th>\n",
                            "      <th>B00020S7XK</th>\n",
                            "      <th>B005X1Y7I2</th>\n",
                            "    </tr>\n",
                            "    <tr>\n",
                            "      <th>userId</th>\n",
                            "      <th></th>\n",
                            "      <th></th>\n",
                            "      <th></th>\n",
                            "      <th></th>\n",
                            "      <th></th>\n",
                            "      <th></th>\n",
                            "      <th></th>\n",
                            "      <th></th>\n",
                            "      <th></th>\n",
                            "      <th></th>\n",
                            "      <th></th>\n",
                            "      <th></th>\n",
                            "      <th></th>\n",
                            "      <th></th>\n",
                            "      <th></th>\n",
                            "      <th></th>\n",
                            "      <th></th>\n",
                            "      <th></th>\n",
                            "      <th></th>\n",
                            "      <th></th>\n",
                            "      <th></th>\n",
                            "    </tr>\n",
                            "  </thead>\n",
                            "  <tbody>\n",
                            "    <tr>\n",
                            "      <th>A03181723FBGU1ZON5OS2</th>\n",
                            "      <td>0.0</td>\n",
                            "      <td>0.0</td>\n",
                            "      <td>0.0</td>\n",
                            "      <td>0.0</td>\n",
                            "      <td>0.0</td>\n",
                            "      <td>0.0</td>\n",
                            "      <td>0.0</td>\n",
                            "      <td>0.0</td>\n",
                            "      <td>0.0</td>\n",
                            "      <td>0.0</td>\n",
                            "      <td>...</td>\n",
                            "      <td>0.0</td>\n",
                            "      <td>0.0</td>\n",
                            "      <td>0.0</td>\n",
                            "      <td>0.0</td>\n",
                            "      <td>0.0</td>\n",
                            "      <td>0.0</td>\n",
                            "      <td>0.0</td>\n",
                            "      <td>0.0</td>\n",
                            "      <td>0.0</td>\n",
                            "      <td>0.0</td>\n",
                            "    </tr>\n",
                            "    <tr>\n",
                            "      <th>A03299993GLHG3GY0QDI5</th>\n",
                            "      <td>0.0</td>\n",
                            "      <td>0.0</td>\n",
                            "      <td>0.0</td>\n",
                            "      <td>0.0</td>\n",
                            "      <td>0.0</td>\n",
                            "      <td>0.0</td>\n",
                            "      <td>0.0</td>\n",
                            "      <td>0.0</td>\n",
                            "      <td>0.0</td>\n",
                            "      <td>0.0</td>\n",
                            "      <td>...</td>\n",
                            "      <td>0.0</td>\n",
                            "      <td>0.0</td>\n",
                            "      <td>0.0</td>\n",
                            "      <td>0.0</td>\n",
                            "      <td>0.0</td>\n",
                            "      <td>0.0</td>\n",
                            "      <td>0.0</td>\n",
                            "      <td>0.0</td>\n",
                            "      <td>0.0</td>\n",
                            "      <td>0.0</td>\n",
                            "    </tr>\n",
                            "    <tr>\n",
                            "      <th>A0340667D5UPJ0HU290F</th>\n",
                            "      <td>0.0</td>\n",
                            "      <td>0.0</td>\n",
                            "      <td>0.0</td>\n",
                            "      <td>0.0</td>\n",
                            "      <td>0.0</td>\n",
                            "      <td>0.0</td>\n",
                            "      <td>0.0</td>\n",
                            "      <td>0.0</td>\n",
                            "      <td>0.0</td>\n",
                            "      <td>0.0</td>\n",
                            "      <td>...</td>\n",
                            "      <td>0.0</td>\n",
                            "      <td>0.0</td>\n",
                            "      <td>0.0</td>\n",
                            "      <td>0.0</td>\n",
                            "      <td>0.0</td>\n",
                            "      <td>0.0</td>\n",
                            "      <td>0.0</td>\n",
                            "      <td>0.0</td>\n",
                            "      <td>0.0</td>\n",
                            "      <td>0.0</td>\n",
                            "    </tr>\n",
                            "    <tr>\n",
                            "      <th>A03669591P3R22J094XIE</th>\n",
                            "      <td>0.0</td>\n",
                            "      <td>0.0</td>\n",
                            "      <td>0.0</td>\n",
                            "      <td>0.0</td>\n",
                            "      <td>0.0</td>\n",
                            "      <td>0.0</td>\n",
                            "      <td>0.0</td>\n",
                            "      <td>0.0</td>\n",
                            "      <td>0.0</td>\n",
                            "      <td>0.0</td>\n",
                            "      <td>...</td>\n",
                            "      <td>0.0</td>\n",
                            "      <td>0.0</td>\n",
                            "      <td>0.0</td>\n",
                            "      <td>0.0</td>\n",
                            "      <td>0.0</td>\n",
                            "      <td>0.0</td>\n",
                            "      <td>0.0</td>\n",
                            "      <td>0.0</td>\n",
                            "      <td>0.0</td>\n",
                            "      <td>0.0</td>\n",
                            "    </tr>\n",
                            "    <tr>\n",
                            "      <th>A05155552EU2WNCMDAIPE</th>\n",
                            "      <td>0.0</td>\n",
                            "      <td>0.0</td>\n",
                            "      <td>0.0</td>\n",
                            "      <td>0.0</td>\n",
                            "      <td>0.0</td>\n",
                            "      <td>0.0</td>\n",
                            "      <td>0.0</td>\n",
                            "      <td>0.0</td>\n",
                            "      <td>0.0</td>\n",
                            "      <td>0.0</td>\n",
                            "      <td>...</td>\n",
                            "      <td>0.0</td>\n",
                            "      <td>0.0</td>\n",
                            "      <td>0.0</td>\n",
                            "      <td>0.0</td>\n",
                            "      <td>0.0</td>\n",
                            "      <td>0.0</td>\n",
                            "      <td>0.0</td>\n",
                            "      <td>0.0</td>\n",
                            "      <td>0.0</td>\n",
                            "      <td>0.0</td>\n",
                            "    </tr>\n",
                            "  </tbody>\n",
                            "</table>\n",
                            "<p>5 rows × 76 columns</p>\n",
                            "</div>"
                        ],
                        "text/plain": [
                            "productId              B00DR0PDNE  B0074BW614  B006GWO5WK  B0019EHU8G  \\\n",
                            "userId                                                                  \n",
                            "A03181723FBGU1ZON5OS2         0.0         0.0         0.0         0.0   \n",
                            "A03299993GLHG3GY0QDI5         0.0         0.0         0.0         0.0   \n",
                            "A0340667D5UPJ0HU290F          0.0         0.0         0.0         0.0   \n",
                            "A03669591P3R22J094XIE         0.0         0.0         0.0         0.0   \n",
                            "A05155552EU2WNCMDAIPE         0.0         0.0         0.0         0.0   \n",
                            "\n",
                            "productId              B007WTAJTO  B007R5YDYA  B0002L5R78  B000LRMS66  \\\n",
                            "userId                                                                  \n",
                            "A03181723FBGU1ZON5OS2         0.0         0.0         0.0         0.0   \n",
                            "A03299993GLHG3GY0QDI5         0.0         0.0         0.0         0.0   \n",
                            "A0340667D5UPJ0HU290F          0.0         0.0         0.0         0.0   \n",
                            "A03669591P3R22J094XIE         0.0         0.0         0.0         0.0   \n",
                            "A05155552EU2WNCMDAIPE         0.0         0.0         0.0         0.0   \n",
                            "\n",
                            "productId              B004QK7HI8  B003LR7ME6  ...  B00A3YN0Z0  B000B9RI14  \\\n",
                            "userId                                         ...                           \n",
                            "A03181723FBGU1ZON5OS2         0.0         0.0  ...         0.0         0.0   \n",
                            "A03299993GLHG3GY0QDI5         0.0         0.0  ...         0.0         0.0   \n",
                            "A0340667D5UPJ0HU290F          0.0         0.0  ...         0.0         0.0   \n",
                            "A03669591P3R22J094XIE         0.0         0.0  ...         0.0         0.0   \n",
                            "A05155552EU2WNCMDAIPE         0.0         0.0  ...         0.0         0.0   \n",
                            "\n",
                            "productId              B0002SQ2P2  B005FYNSPK  B005KDYBIO  B00AWKC0EC  \\\n",
                            "userId                                                                  \n",
                            "A03181723FBGU1ZON5OS2         0.0         0.0         0.0         0.0   \n",
                            "A03299993GLHG3GY0QDI5         0.0         0.0         0.0         0.0   \n",
                            "A0340667D5UPJ0HU290F          0.0         0.0         0.0         0.0   \n",
                            "A03669591P3R22J094XIE         0.0         0.0         0.0         0.0   \n",
                            "A05155552EU2WNCMDAIPE         0.0         0.0         0.0         0.0   \n",
                            "\n",
                            "productId              B001GTT0VO  B005FVNGRI  B00020S7XK  B005X1Y7I2  \n",
                            "userId                                                                 \n",
                            "A03181723FBGU1ZON5OS2         0.0         0.0         0.0         0.0  \n",
                            "A03299993GLHG3GY0QDI5         0.0         0.0         0.0         0.0  \n",
                            "A0340667D5UPJ0HU290F          0.0         0.0         0.0         0.0  \n",
                            "A03669591P3R22J094XIE         0.0         0.0         0.0         0.0  \n",
                            "A05155552EU2WNCMDAIPE         0.0         0.0         0.0         0.0  \n",
                            "\n",
                            "[5 rows x 76 columns]"
                        ]
                    },
                    "execution_count": 28,
                    "metadata": {},
                    "output_type": "execute_result"
                }
            ],
            "source": [
                # Get top 76 most-rated products from the sampled data

top_products = sample_df['productId'].value_counts().nlargest(76).index

# Filter the sampled data by both top users and top products
filtered_top_df = sample_df[(sample_df['productId'].isin(top_products))]

# Create the product-user matrix (pivot table)
product_user_matrix = sample_df.pivot_table(
    index='userId',
    columns='productId',
    values='Rating',
    fill_value=0
)

# Reindex to ensure exactly 76 columns (fill missing with 0s)
product_user_matrix = product_user_matrix.reindex(columns=top_products, fill_value=0)

# Output
print("Product-User Matrix Shape:", product_user_matrix.shape)
product_user_matrix.head()
            ]
        },
        {
            "cell_type": "code",
            "execution_count": 29,
            "id": "#VSC-207bddee",
            "metadata": {
                "language": "python"
            },
            "outputs": [
                {
                    "name": "stdout",
                    "output_type": "stream",
                    "text": [
                        "Transposed Matrix Shape: (76, 9832)\n"
                    ]
                },
                {
                    "data": {
                        "text/html": [
                            "<div>\n",
                            "<style scoped>\n",
                            "    .dataframe tbody tr th:only-of-type {\n",
                            "        vertical-align: middle;\n",
                            "    }\n",
                            "\n",
                            "    .dataframe tbody tr th {\n",
                            "        vertical-align: top;\n",
                            "    }\n",
                            "\n",
                            "    .dataframe thead th {\n",
                            "        text-align: right;\n",
                            "    }\n",
                            "</style>\n",
                            "<table border=\"1\" class=\"dataframe\">\n",
                            "  <thead>\n",
                            "    <tr style=\"text-align: right;\">\n",
                            "      <th>userId</th>\n",
                            "      <th>A03181723FBGU1ZON5OS2</th>\n",
                            "      <th>A03299993GLHG3GY0QDI5</th>\n",
                            "      <th>A0340667D5UPJ0HU290F</th>\n",
                            "      <th>A03669591P3R22J094XIE</th>\n",
                            "      <th>A05155552EU2WNCMDAIPE</th>\n",
                            "      <th>A05262041PHNN2054QIEI</th>\n",
                            "      <th>A06508531VERN6RI1RFDQ</th>\n",
                            "      <th>A0815420LN0CA7PEALDS</th>\n",
                            "      <th>A08778893MYCXXO1Y3SZK</th>\n",
                            "      <th>A09085933IM1YBLT3ZRPJ</th>\n",
                            "      <th>...</th>\n",
                            "      <th>AZU8NI2GT5A4W</th>\n",
                            "      <th>AZU9HF73U5J1U</th>\n",
                            "      <th>AZUA7PVXCZECB</th>\n",
                            "      <th>AZUCED3J3UBNC</th>\n",
                            "      <th>AZUYGJ9TZUOBO</th>\n",
                            "      <th>AZVA13Q19KURR</th>\n",
                            "      <th>AZWDE28C6VW76</th>\n",
                            "      <th>AZWS4P8F2NULW</th>\n",
                            "      <th>AZX4E1JATB2M2</th>\n",
                            "      <th>AZYQXN79IHDYO</th>\n",
                            "    </tr>\n",
                            "    <tr>\n",
                            "      <th>productId</th>\n",
                            "      <th></th>\n",
                            "      <th></th>\n",
                            "      <th></th>\n",
                            "      <th></th>\n",
                            "      <th></th>\n",
                            "      <th></th>\n",
                            "      <th></th>\n",
                            "      <th></th>\n",
                            "      <th></th>\n",
                            "      <th></th>\n",
                            "      <th></th>\n",
                            "      <th></th>\n",
                            "      <th></th>\n",
                            "      <th></th>\n",
                            "      <th></th>\n",
                            "      <th></th>\n",
                            "      <th></th>\n",
                            "      <th></th>\n",
                            "      <th></th>\n",
                            "      <th></th>\n",
                            "      <th></th>\n",
                            "    </tr>\n",
                            "  </thead>\n",
                            "  <tbody>\n",
                            "    <tr>\n",
                            "      <th>B00DR0PDNE</th>\n",
                            "      <td>0.0</td>\n",
                            "      <td>0.0</td>\n",
                            "      <td>0.0</td>\n",
                            "      <td>0.0</td>\n",
                            "      <td>0.0</td>\n",
                            "      <td>0.0</td>\n",
                            "      <td>0.0</td>\n",
                            "      <td>0.0</td>\n",
                            "      <td>0.0</td>\n",
                            "      <td>0.0</td>\n",
                            "      <td>...</td>\n",
                            "      <td>0.0</td>\n",
                            "      <td>0.0</td>\n",
                            "      <td>0.0</td>\n",
                            "      <td>0.0</td>\n",
                            "      <td>0.0</td>\n",
                            "      <td>0.0</td>\n",
                            "      <td>0.0</td>\n",
                            "      <td>0.0</td>\n",
                            "      <td>0.0</td>\n",
                            "      <td>0.0</td>\n",
                            "    </tr>\n",
                            "    <tr>\n",
                            "      <th>B0074BW614</th>\n",
                            "      <td>0.0</td>\n",
                            "      <td>0.0</td>\n",
                            "      <td>0.0</td>\n",
                            "      <td>0.0</td>\n",
                            "      <td>0.0</td>\n",
                            "      <td>0.0</td>\n",
                            "      <td>0.0</td>\n",
                            "      <td>0.0</td>\n",
                            "      <td>0.0</td>\n",
                            "      <td>0.0</td>\n",
                            "      <td>...</td>\n",
                            "      <td>0.0</td>\n",
                            "      <td>0.0</td>\n",
                            "      <td>0.0</td>\n",
                            "      <td>0.0</td>\n",
                            "      <td>0.0</td>\n",
                            "      <td>0.0</td>\n",
                            "      <td>0.0</td>\n",
                            "      <td>0.0</td>\n",
                            "      <td>0.0</td>\n",
                            "      <td>0.0</td>\n",
                            "    </tr>\n",
                            "    <tr>\n",
                            "      <th>B006GWO5WK</th>\n",
                            "      <td>0.0</td>\n",
                            "      <td>0.0</td>\n",
                            "      <td>0.0</td>\n",
                            "      <td>0.0</td>\n",
                            "      <td>0.0</td>\n",
                            "      <td>0.0</td>\n",
                            "      <td>0.0</td>\n",
                            "      <td>0.0</td>\n",
                            "      <td>0.0</td>\n",
                            "      <td>0.0</td>\n",
                            "      <td>...</td>\n",
                            "      <td>0.0</td>\n",
                            "      <td>0.0</td>\n",
                            "      <td>0.0</td>\n",
                            "      <td>0.0</td>\n",
                            "      <td>0.0</td>\n",
                            "      <td>0.0</td>\n",
                            "      <td>0.0</td>\n",
                            "      <td>0.0</td>\n",
                            "      <td>0.0</td>\n",
                            "      <td>0.0</td>\n",
                            "    </tr>\n",
                            "    <tr>\n",
                            "      <th>B0019EHU8G</th>\n",
                            "      <td>0.0</td>\n",
                            "      <td>0.0</td>\n",
                            "      <td>0.0</td>\n",
                            "      <td>0.0</td>\n",
                            "      <td>0.0</td>\n",
                            "      <td>0.0</td>\n",
                            "      <td>0.0</td>\n",
                            "      <td>0.0</td>\n",
                            "      <td>0.0</td>\n",
                            "      <td>0.0</td>\n",
                            "      <td>...</td>\n",
                            "      <td>0.0</td>\n",
                            "      <td>0.0</td>\n",
                            "      <td>0.0</td>\n",
                            "      <td>0.0</td>\n",
                            "      <td>0.0</td>\n",
                            "      <td>0.0</td>\n",
                            "      <td>0.0</td>\n",
                            "      <td>0.0</td>\n",
                            "      <td>0.0</td>\n",
                            "      <td>0.0</td>\n",
                            "    </tr>\n",
                            "    <tr>\n",
                            "      <th>B007WTAJTO</th>\n",
                            "      <td>0.0</td>\n",
                            "      <td>0.0</td>\n",
                            "      <td>0.0</td>\n",
                            "      <td>0.0</td>\n",
                            "      <td>0.0</td>\n",
                            "      <td>0.0</td>\n",
                            "      <td>0.0</td>\n",
                            "      <td>0.0</td>\n",
                            "      <td>0.0</td>\n",
                            "      <td>0.0</td>\n",
                            "      <td>...</td>\n",
                            "      <td>0.0</td>\n",
                            "      <td>0.0</td>\n",
                            "      <td>0.0</td>\n",
                            "      <td>0.0</td>\n",
                            "      <td>0.0</td>\n",
                            "      <td>0.0</td>\n",
                            "      <td>0.0</td>\n",
                            "      <td>0.0</td>\n",
                            "      <td>0.0</td>\n",
                            "      <td>0.0</td>\n",
                            "    </tr>\n",
                            "  </tbody>\n",
                            "</table>\n",
                            "<p>5 rows × 9832 columns</p>\n",
                            "</div>"
                        ],
                        "text/plain": [
                            "userId      A03181723FBGU1ZON5OS2  A03299993GLHG3GY0QDI5  \\\n",
                            "productId                                                  \n",
                            "B00DR0PDNE                    0.0                    0.0   \n",
                            "B0074BW614                    0.0                    0.0   \n",
                            "B006GWO5WK                    0.0                    0.0   \n",
                            "B0019EHU8G                    0.0                    0.0   \n",
                            "B007WTAJTO                    0.0                    0.0   \n",
                            "\n",
                            "userId      A0340667D5UPJ0HU290F  A03669591P3R22J094XIE  \\\n",
                            "productId                                                 \n",
                            "B00DR0PDNE                   0.0                    0.0   \n",
                            "B0074BW614                   0.0                    0.0   \n",
                            "B006GWO5WK                   0.0                    0.0   \n",
                            "B0019EHU8G                   0.0                    0.0   \n",
                            "B007WTAJTO                   0.0                    0.0   \n",
                            "\n",
                            "userId      A05155552EU2WNCMDAIPE  A05262041PHNN2054QIEI  \\\n",
                            "productId                                                  \n",
                            "B00DR0PDNE                    0.0                    0.0   \n",
                            "B0074BW614                    0.0                    0.0   \n",
                            "B006GWO5WK                    0.0                    0.0   \n",
                            "B0019EHU8G                    0.0                    0.0   \n",
                            "B007WTAJTO                    0.0                    0.0   \n",
                            "\n",
                            "userId      A06508531VERN6RI1RFDQ  A0815420LN0CA7PEALDS  \\\n",
                            "productId                                                 \n",
                            "B00DR0PDNE                    0.0                   0.0   \n",
                            "B0074BW614                    0.0                   0.0   \n",
                            "B006GWO5WK                    0.0                   0.0   \n",
                            "B0019EHU8G                    0.0                   0.0   \n",
                            "B007WTAJTO                    0.0                   0.0   \n",
                            "\n",
                            "userId      A08778893MYCXXO1Y3SZK  A09085933IM1YBLT3ZRPJ  ...  AZU8NI2GT5A4W  \\\n",
                            "productId                                                 ...                  \n",
                            "B00DR0PDNE                    0.0                    0.0  ...            0.0   \n",
                            "B0074BW614                    0.0                    0.0  ...            0.0   \n",
                            "B006GWO5WK                    0.0                    0.0  ...            0.0   \n",
                            "B0019EHU8G                    0.0                    0.0  ...            0.0   \n",
                            "B007WTAJTO                    0.0                    0.0  ...            0.0   \n",
                            "\n",
                            "userId      AZU9HF73U5J1U  AZUA7PVXCZECB  AZUCED3J3UBNC  AZUYGJ9TZUOBO  \\\n",
                            "productId                                                                \n",
                            "B00DR0PDNE            0.0            0.0            0.0            0.0   \n",
                            "B0074BW614            0.0            0.0            0.0            0.0   \n",
                            "B006GWO5WK            0.0            0.0            0.0            0.0   \n",
                            "B0019EHU8G            0.0            0.0            0.0            0.0   \n",
                            "B007WTAJTO            0.0            0.0            0.0            0.0   \n",
                            "\n",
                            "userId      AZVA13Q19KURR  AZWDE28C6VW76  AZWS4P8F2NULW  AZX4E1JATB2M2  \\\n",
                            "productId                                                                \n",
                            "B00DR0PDNE            0.0            0.0            0.0            0.0   \n",
                            "B0074BW614            0.0            0.0            0.0            0.0   \n",
                            "B006GWO5WK            0.0            0.0            0.0            0.0   \n",
                            "B0019EHU8G            0.0            0.0            0.0            0.0   \n",
                            "B007WTAJTO            0.0            0.0            0.0            0.0   \n",
                            "\n",
                            "userId      AZYQXN79IHDYO  \n",
                            "productId                  \n",
                            "B00DR0PDNE            0.0  \n",
                            "B0074BW614            0.0  \n",
                            "B006GWO5WK            0.0  \n",
                            "B0019EHU8G            0.0  \n",
                            "B007WTAJTO            0.0  \n",
                            "\n",
                            "[5 rows x 9832 columns]"
                        ]
                    },
                    "execution_count": 29,
                    "metadata": {},
                    "output_type": "execute_result"
                }
            ],
            "source": [
                "# Transpose the matrix\n",
                "transposed_matrix = product_user_matrix.T\n",
                "print(\"Transposed Matrix Shape:\", transposed_matrix.shape)\n",
                "transposed_matrix.head()"
            ]
        },
        {
            "cell_type": "code",
            "execution_count": 30,
            "id": "#VSC-ed7c8979",
            "metadata": {
                "language": "python"
            },
            "outputs": [
                {
                    "name": "stdout",
                    "output_type": "stream",
                    "text": [
                        "Decomposed Matrix Shape: (76, 10)\n"
                    ]
                },
                {
                    "data": {
                        "text/plain": [
                            "array([[-2.56034505e-03,  2.57472851e+01,  6.74302270e-03,\n",
                            "         2.80357848e-03, -1.24616701e-02,  8.52996865e-03,\n",
                            "         1.12177913e-02, -5.10340322e-04, -5.73508254e-03,\n",
                            "         1.39961476e-03],\n",
                            "       [ 2.64006196e+01,  2.41098984e-03, -1.45771241e-03,\n",
                            "        -1.09481132e-03, -1.35861719e-03, -3.30270082e-04,\n",
                            "         7.33407050e-04,  2.12651000e-03, -8.92917394e-04,\n",
                            "         6.58881685e-04],\n",
                            "       [ 4.22358865e-04, -1.06774775e-02, -2.24219597e-02,\n",
                            "        -8.83062282e-03,  3.27209683e-02,  2.34904146e+01,\n",
                            "         1.94443499e-01, -1.25017371e-02, -5.42434199e-03,\n",
                            "         3.72059251e-03],\n",
                            "       [ 1.33067700e-03, -3.13262036e-03, -3.88918509e-02,\n",
                            "         2.42878410e+01,  2.50049792e-02,  7.99962454e-03,\n",
                            "         8.00908558e-03, -1.77890330e-02, -9.93159276e-03,\n",
                            "         4.92606678e-03],\n",
                            "       [ 1.69116268e-03,  1.46618092e-02,  1.57369095e-02,\n",
                            "        -2.54636404e-02,  2.41217228e+01, -3.02416948e-02,\n",
                            "        -3.33278897e-02, -7.60002645e-04,  5.52835001e-03,\n",
                            "         6.36323046e-04],\n",
                            "       [ 1.75295082e-03, -7.62582284e-03,  2.44116419e+01,\n",
                            "         3.83945888e-02, -1.51997849e-02,  2.02506560e-02,\n",
                            "         2.01069536e-02, -1.10110955e-02,  4.31379018e-03,\n",
                            "        -1.47246329e-03],\n",
                            "       [-3.10122207e-03,  6.77349251e-04,  1.34544664e-02,\n",
                            "         2.12839000e-02,  1.07879309e-03,  1.39366208e-02,\n",
                            "        -1.66240507e-03,  2.27075903e+01,  8.85437114e-03,\n",
                            "         2.17348003e-03],\n",
                            "       [-1.04342123e-03, -1.44373693e-02, -2.25425454e-02,\n",
                            "        -9.03602678e-03,  3.69359749e-02, -1.99892553e-01,\n",
                            "         2.32488710e+01,  1.98630566e-03,  3.65542471e-02,\n",
                            "         1.30558374e-02],\n",
                            "       [-1.26459313e-03, -2.77270225e-03,  2.10790082e-03,\n",
                            "        -7.88533354e-03, -3.55593988e-05, -5.81981149e-03,\n",
                            "        -2.00673123e-02, -1.76384953e-03,  5.25117847e-02,\n",
                            "         2.08846282e+01],\n",
                            "       [ 1.43443332e-03,  8.31017021e-03, -6.52187171e-03,\n",
                            "         1.34479678e-02, -6.42679947e-03,  6.21853256e-03,\n",
                            "        -4.74653949e-02, -1.01047939e-02,  2.15890066e+01,\n",
                            "        -4.71035701e-02]])"
                        ]
                    },
                    "execution_count": 30,
                    "metadata": {},
                    "output_type": "execute_result"
                }
            ],
            "source": [
                "# Decompose the matrix using SVD\n",
                "from sklearn.decomposition import TruncatedSVD\n",
                "svd = TruncatedSVD(n_components=10, random_state=42)\n",
                "decomposed_matrix = svd.fit_transform(transposed_matrix)\n",
                "print(\"Decomposed Matrix Shape:\", decomposed_matrix.shape)\n",
                "decomposed_matrix[:10]"
            ]
        },
        {
            "cell_type": "code",
            "execution_count": 31,
            "id": "#VSC-80a97cab",
            "metadata": {
                "language": "python"
            },
            "outputs": [
                {
                    "name": "stdout",
                    "output_type": "stream",
                    "text": [
                        "Product Similarity Matrix Shape: (76, 76)\n"
                    ]
                },
                {
                    "data": {
                        "text/html": [
                            "<div>\n",
                            "<style scoped>\n",
                            "    .dataframe tbody tr th:only-of-type {\n",
                            "        vertical-align: middle;\n",
                            "    }\n",
                            "\n",
                            "    .dataframe tbody tr th {\n",
                            "        vertical-align: top;\n",
                            "    }\n",
                            "\n",
                            "    .dataframe thead th {\n",
                            "        text-align: right;\n",
                            "    }\n",
                            "</style>\n",
                            "<table border=\"1\" class=\"dataframe\">\n",
                            "  <thead>\n",
                            "    <tr style=\"text-align: right;\">\n",
                            "      <th>productId</th>\n",
                            "      <th>B00DR0PDNE</th>\n",
                            "      <th>B0074BW614</th>\n",
                            "      <th>B006GWO5WK</th>\n",
                            "      <th>B0019EHU8G</th>\n",
                            "      <th>B007WTAJTO</th>\n",
                            "      <th>B007R5YDYA</th>\n",
                            "      <th>B0002L5R78</th>\n",
                            "      <th>B000LRMS66</th>\n",
                            "      <th>B004QK7HI8</th>\n",
                            "      <th>B003LR7ME6</th>\n",
                            "      <th>...</th>\n",
                            "      <th>B00A3YN0Z0</th>\n",
                            "      <th>B000B9RI14</th>\n",
                            "      <th>B0002SQ2P2</th>\n",
                            "      <th>B005FYNSPK</th>\n",
                            "      <th>B005KDYBIO</th>\n",
                            "      <th>B00AWKC0EC</th>\n",
                            "      <th>B001GTT0VO</th>\n",
                            "      <th>B005FVNGRI</th>\n",
                            "      <th>B00020S7XK</th>\n",
                            "      <th>B005X1Y7I2</th>\n",
                            "    </tr>\n",
                            "    <tr>\n",
                            "      <th>productId</th>\n",
                            "      <th></th>\n",
                            "      <th></th>\n",
                            "      <th></th>\n",
                            "      <th></th>\n",
                            "      <th></th>\n",
                            "      <th></th>\n",
                            "      <th></th>\n",
                            "      <th></th>\n",
                            "      <th></th>\n",
                            "      <th></th>\n",
                            "      <th></th>\n",
                            "      <th></th>\n",
                            "      <th></th>\n",
                            "      <th></th>\n",
                            "      <th></th>\n",
                            "      <th></th>\n",
                            "      <th></th>\n",
                            "      <th></th>\n",
                            "      <th></th>\n",
                            "      <th></th>\n",
                            "      <th></th>\n",
                            "    </tr>\n",
                            "  </thead>\n",
                            "  <tbody>\n",
                            "    <tr>\n",
                            "      <th>B00DR0PDNE</th>\n",
                            "      <td>1.000000</td>\n",
                            "      <td>-0.000008</td>\n",
                            "      <td>-0.000121</td>\n",
                            "      <td>-0.000021</td>\n",
                            "      <td>0.000123</td>\n",
                            "      <td>-0.000049</td>\n",
                            "      <td>0.000010</td>\n",
                            "      <td>-0.000190</td>\n",
                            "      <td>-0.000079</td>\n",
                            "      <td>0.000161</td>\n",
                            "      <td>...</td>\n",
                            "      <td>-0.025195</td>\n",
                            "      <td>0.245273</td>\n",
                            "      <td>-0.128230</td>\n",
                            "      <td>0.047391</td>\n",
                            "      <td>-0.254978</td>\n",
                            "      <td>0.004424</td>\n",
                            "      <td>-0.089304</td>\n",
                            "      <td>0.066861</td>\n",
                            "      <td>-0.096493</td>\n",
                            "      <td>-0.078511</td>\n",
                            "    </tr>\n",
                            "    <tr>\n",
                            "      <th>B0074BW614</th>\n",
                            "      <td>-0.000008</td>\n",
                            "      <td>1.000000</td>\n",
                            "      <td>0.000006</td>\n",
                            "      <td>0.000013</td>\n",
                            "      <td>0.000019</td>\n",
                            "      <td>0.000016</td>\n",
                            "      <td>-0.000056</td>\n",
                            "      <td>-0.000017</td>\n",
                            "      <td>-0.000036</td>\n",
                            "      <td>0.000033</td>\n",
                            "      <td>...</td>\n",
                            "      <td>-0.023717</td>\n",
                            "      <td>0.036916</td>\n",
                            "      <td>-0.026139</td>\n",
                            "      <td>0.009165</td>\n",
                            "      <td>-0.046806</td>\n",
                            "      <td>-0.066817</td>\n",
                            "      <td>-0.032820</td>\n",
                            "      <td>-0.033545</td>\n",
                            "      <td>-0.001715</td>\n",
                            "      <td>0.036255</td>\n",
                            "    </tr>\n",
                            "    <tr>\n",
                            "      <th>B006GWO5WK</th>\n",
                            "      <td>-0.000121</td>\n",
                            "      <td>0.000006</td>\n",
                            "      <td>1.000000</td>\n",
                            "      <td>-0.000040</td>\n",
                            "      <td>0.000127</td>\n",
                            "      <td>-0.000119</td>\n",
                            "      <td>0.000080</td>\n",
                            "      <td>-0.000317</td>\n",
                            "      <td>-0.000129</td>\n",
                            "      <td>0.000038</td>\n",
                            "      <td>...</td>\n",
                            "      <td>0.233613</td>\n",
                            "      <td>0.427473</td>\n",
                            "      <td>-0.336790</td>\n",
                            "      <td>-0.025812</td>\n",
                            "      <td>0.050066</td>\n",
                            "      <td>0.098631</td>\n",
                            "      <td>-0.033066</td>\n",
                            "      <td>0.363409</td>\n",
                            "      <td>-0.049469</td>\n",
                            "      <td>-0.217354</td>\n",
                            "    </tr>\n",
                            "    <tr>\n",
                            "      <th>B0019EHU8G</th>\n",
                            "      <td>-0.000021</td>\n",
                            "      <td>0.000013</td>\n",
                            "      <td>-0.000040</td>\n",
                            "      <td>1.000000</td>\n",
                            "      <td>-0.000028</td>\n",
                            "      <td>-0.000028</td>\n",
                            "      <td>0.000204</td>\n",
                            "      <td>-0.000059</td>\n",
                            "      <td>-0.000176</td>\n",
                            "      <td>0.000213</td>\n",
                            "      <td>...</td>\n",
                            "      <td>0.021443</td>\n",
                            "      <td>-0.093848</td>\n",
                            "      <td>-0.049964</td>\n",
                            "      <td>0.122817</td>\n",
                            "      <td>0.068565</td>\n",
                            "      <td>0.050356</td>\n",
                            "      <td>0.292463</td>\n",
                            "      <td>0.314048</td>\n",
                            "      <td>-0.085484</td>\n",
                            "      <td>-0.101727</td>\n",
                            "    </tr>\n",
                            "    <tr>\n",
                            "      <th>B007WTAJTO</th>\n",
                            "      <td>0.000123</td>\n",
                            "      <td>0.000019</td>\n",
                            "      <td>0.000127</td>\n",
                            "      <td>-0.000028</td>\n",
                            "      <td>1.000000</td>\n",
                            "      <td>0.000026</td>\n",
                            "      <td>0.000015</td>\n",
                            "      <td>0.000218</td>\n",
                            "      <td>0.000027</td>\n",
                            "      <td>-0.000066</td>\n",
                            "      <td>...</td>\n",
                            "      <td>-0.125229</td>\n",
                            "      <td>-0.498046</td>\n",
                            "      <td>0.196795</td>\n",
                            "      <td>-0.062549</td>\n",
                            "      <td>-0.226153</td>\n",
                            "      <td>0.226448</td>\n",
                            "      <td>0.280651</td>\n",
                            "      <td>0.223121</td>\n",
                            "      <td>0.080121</td>\n",
                            "      <td>0.131673</td>\n",
                            "    </tr>\n",
                            "  </tbody>\n",
                            "</table>\n",
                            "<p>5 rows × 76 columns</p>\n",
                            "</div>"
                        ],
                        "text/plain": [
                            "productId   B00DR0PDNE  B0074BW614  B006GWO5WK  B0019EHU8G  B007WTAJTO  \\\n",
                            "productId                                                                \n",
                            "B00DR0PDNE    1.000000   -0.000008   -0.000121   -0.000021    0.000123   \n",
                            "B0074BW614   -0.000008    1.000000    0.000006    0.000013    0.000019   \n",
                            "B006GWO5WK   -0.000121    0.000006    1.000000   -0.000040    0.000127   \n",
                            "B0019EHU8G   -0.000021    0.000013   -0.000040    1.000000   -0.000028   \n",
                            "B007WTAJTO    0.000123    0.000019    0.000127   -0.000028    1.000000   \n",
                            "\n",
                            "productId   B007R5YDYA  B0002L5R78  B000LRMS66  B004QK7HI8  B003LR7ME6  ...  \\\n",
                            "productId                                                               ...   \n",
                            "B00DR0PDNE   -0.000049    0.000010   -0.000190   -0.000079    0.000161  ...   \n",
                            "B0074BW614    0.000016   -0.000056   -0.000017   -0.000036    0.000033  ...   \n",
                            "B006GWO5WK   -0.000119    0.000080   -0.000317   -0.000129    0.000038  ...   \n",
                            "B0019EHU8G   -0.000028    0.000204   -0.000059   -0.000176    0.000213  ...   \n",
                            "B007WTAJTO    0.000026    0.000015    0.000218    0.000027   -0.000066  ...   \n",
                            "\n",
                            "productId   B00A3YN0Z0  B000B9RI14  B0002SQ2P2  B005FYNSPK  B005KDYBIO  \\\n",
                            "productId                                                                \n",
                            "B00DR0PDNE   -0.025195    0.245273   -0.128230    0.047391   -0.254978   \n",
                            "B0074BW614   -0.023717    0.036916   -0.026139    0.009165   -0.046806   \n",
                            "B006GWO5WK    0.233613    0.427473   -0.336790   -0.025812    0.050066   \n",
                            "B0019EHU8G    0.021443   -0.093848   -0.049964    0.122817    0.068565   \n",
                            "B007WTAJTO   -0.125229   -0.498046    0.196795   -0.062549   -0.226153   \n",
                            "\n",
                            "productId   B00AWKC0EC  B001GTT0VO  B005FVNGRI  B00020S7XK  B005X1Y7I2  \n",
                            "productId                                                               \n",
                            "B00DR0PDNE    0.004424   -0.089304    0.066861   -0.096493   -0.078511  \n",
                            "B0074BW614   -0.066817   -0.032820   -0.033545   -0.001715    0.036255  \n",
                            "B006GWO5WK    0.098631   -0.033066    0.363409   -0.049469   -0.217354  \n",
                            "B0019EHU8G    0.050356    0.292463    0.314048   -0.085484   -0.101727  \n",
                            "B007WTAJTO    0.226448    0.280651    0.223121    0.080121    0.131673  \n",
                            "\n",
                            "[5 rows x 76 columns]"
                        ]
                    },
                    "execution_count": 31,
                    "metadata": {},
                    "output_type": "execute_result"
                }
            ],
            "source": [
                "# Calculate product similarities to implement a product-based recommendation system by implementing cofficient matrix\n",
                "from sklearn.metrics.pairwise import cosine_similarity\n",
                "product_similarity = cosine_similarity(decomposed_matrix)\n",
                "product_similarity_df = pd.DataFrame(product_similarity,\n",
                "                                      index=transposed_matrix.index,\n",
                "                                      columns=transposed_matrix.index)\n",
                "print(\"Product Similarity Matrix Shape:\", product_similarity_df.shape)\n",
                "product_similarity_df.head()"
            ]
        },
        {
            "cell_type": "code",
            "execution_count": 32,
            "id": "#VSC-0e7be6b8",
            "metadata": {
                "language": "python"
            },
            "outputs": [
                {
                    "name": "stdout",
                    "output_type": "stream",
                    "text": [
                        "✅ Selected Product ID: B00902SFC4\n",
                        "\n",
                        "🎯 Recommended Products (cosine similarity > 0.65):\n",
                        "productId\n",
                        "B0041Q38NU    0.923128\n",
                        "B009WU5XUG    0.799266\n",
                        "B003DZ165W    0.782772\n",
                        "B0038W0K2K    0.762107\n",
                        "B002MAPRYU    0.746124\n",
                        "B0012S4APK    0.725379\n",
                        "B00BWF5U0M    0.697242\n",
                        "B003ES5ZUU    0.680586\n",
                        "B003ELYQGG    0.667855\n",
                        "Name: B00902SFC4, dtype: float64\n"
                    ]
                }
            ],
            "source": [
                "import random\n",
                "while True:\n",
                "    selected_product = random.choice(product_similarity_df.index)\n",
                "    similarities = product_similarity_df.loc[selected_product]\n",
                "    recommended_products = similarities[(similarities > 0.65) & (similarities.index != selected_product)]\n",
                "    if not recommended_products.empty:\n",
                "        break\n",
                "print(f\"✅ Selected Product ID: {selected_product}\\n\")\n",
                "print(\"🎯 Recommended Products (cosine similarity > 0.65):\")\n",
                "print(recommended_products.sort_values(ascending=False))"
            ]
        },
        {
            "cell_type": "code",
            "execution_count": 33,
            "id": "#VSC-5835449b",
            "metadata": {
                "language": "python"
            },
            "outputs": [
                {
                    "name": "stdout",
                    "output_type": "stream",
                    "text": [
                        "✅ Found 9 similar products for the selected product.\n",
                        "productId\n",
                        "B003ES5ZUU    0.680586\n",
                        "B003ELYQGG    0.667855\n",
                        "B0012S4APK    0.725379\n",
                        "B002MAPRYU    0.746124\n",
                        "B003DZ165W    0.782772\n",
                        "B0041Q38NU    0.923128\n",
                        "B00BWF5U0M    0.697242\n",
                        "B0038W0K2K    0.762107\n",
                        "B009WU5XUG    0.799266\n",
                        "Name: B00902SFC4, dtype: float64\n"
                    ]
                }
            ],
            "source": [
                "# Determine whether the selected product is unique\n",
                "is_unique = len(recommended_products) == 0\n",
                "if is_unique:\n",
                "    print(\"❗ No similar products found. The selected product is unique.\")\n",
                "else:\n",
                "    print(f\"✅ Found {len(recommended_products)} similar products for the selected product.\")\n",
                "    print(recommended_products.head(10))"
            ]
        },
        {
            "cell_type": "code",
            "execution_count": 34,
            "id": "#VSC-ad198441",
            "metadata": {
                "language": "python"
            },
            "outputs": [
                {
                    "name": "stdout",
                    "output_type": "stream",
                    "text": [
                        "Number of similar products for the selected product (B00902SFC4): 9\n"
                    ]
                }
            ],
            "source": [
                "# View the number of similar products in the similarity table\n",
                "print(f\"Number of similar products for the selected product ({selected_product}): {len(recommended_products)}\")"
            ]
        },
        {
            "cell_type": "code",
            "execution_count": 35,
            "id": "#VSC-b980233c",
            "metadata": {
                "language": "python"
            },
            "outputs": [
                {
                    "name": "stdout",
                    "output_type": "stream",
                    "text": [
                        "📦 Selected 20th Product: B0027VT6V4\n",
                        "\n",
                        "🎯 Recommended Products (similarity > 0.65):\n",
                        "['B00622AG6S', 'B0073FE1F0', 'B00AWKC0EC', 'B005FVNGRI']\n"
                    ]
                }
            ],
            "source": [
                "# 1. Select the 20th product\n",
                "product_20 = product_similarity_df.index[19]\n",
                "print(\"📦 Selected 20th Product:\", product_20)\n",
                "# 2. Get similarity values with other products\n",
                "similarities = product_similarity_df.loc[product_20]\n",
                "# 3. Filter products with similarity > 0.65 (excluding self)\n",
                "recommended_products = similarities[similarities > 0.65].drop(product_20, errors='ignore')\n",
                "# 4. Output\n",
                "print(\"\\n🎯 Recommended Products (similarity > 0.65):\")\n",
                "print(list(recommended_products.index))"
            ]
        }
    ],
    "metadata": {
        "kernelspec": {
            "display_name": ".venv",
            "language": "python",
            "name": "python3"
        },
        "language_info": {
            "codemirror_mode": {
                "name": "ipython",
                "version": 3
            },
            "file_extension": ".py",
            "mimetype": "text/x-python",
            "name": "python",
            "nbconvert_exporter": "python",
            "pygments_lexer": "ipython3",
            "version": "3.12.3"
        }
    },
    "nbformat": 4,
    "nbformat_minor": 5
}
