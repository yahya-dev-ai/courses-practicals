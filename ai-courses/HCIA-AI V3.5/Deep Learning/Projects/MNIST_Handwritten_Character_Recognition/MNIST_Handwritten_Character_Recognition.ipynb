{
 "cells": [
  {
   "cell_type": "markdown",
   "id": "bf01fb81",
   "metadata": {},
   "source": [
    "# 🔬 MNIST Handwritten Character Recognition: A Deep Learning Project"
   ]
  },
  {
   "cell_type": "markdown",
   "id": "6873a77e",
   "metadata": {},
   "source": [
    "<details>\n",
    "<summary><strong>📋 About This Project & Objectives</strong></summary>\n",
    "\n",
    "This exercise implements the MNIST handwritten character recognition, which is a typical case in the deep learning field. The whole process is as follows:\n",
    "\n",
    "**Learning Objectives:**\n",
    "\n",
    "- 📊 Master dataset preprocessing techniques for image recognition\n",
    "- 🏛️ Build and configure neural network architectures\n",
    "- ⚙️ Implement training loops and model validation\n",
    "- 📈 Evaluate model performance on test data\n",
    "\n",
    "</details>"
   ]
  },
  {
   "cell_type": "markdown",
   "id": "288fd1c7",
   "metadata": {},
   "source": [
    "## 📚 Imports and Environment Setup\n",
    "Setting up the required libraries and environment for the project."
   ]
  },
  {
   "cell_type": "code",
   "execution_count": 1,
   "id": "f3bf8931",
   "metadata": {},
   "outputs": [],
   "source": [
    "from warnings import filterwarnings\n",
    "filterwarnings('ignore')\n",
    "\n",
    "# Import related dependent libraries.\n",
    "import os\n",
    "from matplotlib import pyplot as plt\n",
    "import numpy as np\n",
    "\n",
    "import mindspore as ms\n",
    "import mindspore.context as context\n",
    "import mindspore.dataset as ds\n",
    "import mindspore.dataset.transforms.c_transforms as C\n",
    "import mindspore.dataset.vision.c_transforms as CV\n",
    "from mindspore.nn.metrics import Accuracy\n",
    "\n",
    "from mindspore import nn\n",
    "from mindspore.train import Model\n",
    "from mindspore.train.callback import ModelCheckpoint, CheckpointConfig, LossMonitor, TimeMonitor\n",
    "\n",
    "context.set_context(mode=context.GRAPH_MODE, device_target='CPU')"
   ]
  },
  {
   "cell_type": "markdown",
   "id": "13d9d32a",
   "metadata": {},
   "source": [
    "## 📁 Dataset Loading and Exploration\n",
    "Processing the MNIST dataset for handwritten digit recognition."
   ]
  },
  {
   "cell_type": "code",
   "execution_count": 2,
   "id": "32ffe0d7",
   "metadata": {},
   "outputs": [
    {
     "name": "stdout",
     "output_type": "stream",
     "text": [
      "Data volume of the training dataset: 60000\n",
      "Data volume of the test dataset: 10000\n",
      "Image length/width/channels: (28, 28, 1)\n",
      "Image label style: 4\n"
     ]
    }
   ],
   "source": [
    "# Read data.\n",
    "DATA_DIR_TRAIN = \"train\" # Training set information\n",
    "DATA_DIR_TEST = \"test\" # Test set information\n",
    "\n",
    "# Load the MNIST dataset\n",
    "ds_train = ds.MnistDataset(DATA_DIR_TRAIN, usage=\"train\", shuffle=True)\n",
    "ds_test = ds.MnistDataset(DATA_DIR_TEST, usage=\"test\", shuffle=False)\n",
    "\n",
    "# Display the dataset features.\n",
    "print('Data volume of the training dataset:',ds_train.get_dataset_size())\n",
    "print('Data volume of the test dataset:',ds_test.get_dataset_size())\n",
    "image=ds_train.create_dict_iterator().__next__()\n",
    "print('Image length/width/channels:',image['image'].shape)\n",
    "print('Image label style:',image['label']) # Total 10 label classes which are represented by numbers from 0 to 9."
   ]
  },
  {
   "cell_type": "code",
   "execution_count": 3,
   "id": "56dfbb90",
   "metadata": {},
   "outputs": [],
   "source": [
    "def create_dataset(training=True, batch_size=128, resize=(28, 28),\n",
    "                   rescale=1/255, shift=0, buffer_size=64):\n",
    "    ds = ms.dataset.MnistDataset(DATA_DIR_TRAIN if training else DATA_DIR_TEST)\n",
    "    \n",
    "    # Define data augmentation and normalization operations\n",
    "    resize_op = CV.Resize(resize)\n",
    "    rescale_op = CV.Rescale(rescale, shift)\n",
    "    hwc2chw_op = CV.HWC2CHW()\n",
    "    \n",
    "    # Apply transformations\n",
    "    ds = ds.map(operations=resize_op, input_columns=[\"image\"])\n",
    "    ds = ds.map(operations=rescale_op, input_columns=[\"image\"])\n",
    "    ds = ds.map(operations=hwc2chw_op, input_columns=[\"image\"])\n",
    "    \n",
    "    # Convert label to int32\n",
    "    type_cast_op = C.TypeCast(ms.int32)\n",
    "    ds = ds.map(operations=type_cast_op, input_columns=[\"label\"])\n",
    "    \n",
    "    # Set the shuffle parameter and batch size\n",
    "    ds = ds.shuffle(buffer_size).batch(batch_size)\n",
    "    \n",
    "    return ds"
   ]
  },
  {
   "cell_type": "code",
   "execution_count": 9,
   "id": "d32ad132",
   "metadata": {},
   "outputs": [
    {
     "data": {
      "image/png": "[encoded data removed]",
      "text/plain": [
       "<Figure size 1200x600 with 10 Axes>"
      ]
     },
     "metadata": {},
     "output_type": "display_data"
    }
   ],
   "source": [
    "# Display the first 10 images and the labels, and check whether the images are correctly labeled.\n",
    "plt.figure(figsize=(12, 6))\n",
    "\n",
    "# Get first batch of data from training dataset\n",
    "data_iter = ds_train.create_dict_iterator()\n",
    "data = next(data_iter)\n",
    "images = data['image'].asnumpy()\n",
    "labels = data['label'].asnumpy()\n",
    "\n",
    "# Display first 10 images\n",
    "for i in range(10):\n",
    "    plt.subplot(2, 5, i + 1)\n",
    "    plt.imshow(images[i].squeeze(), cmap='plasma')\n",
    "    plt.title(f'Number: {labels[i]}')\n",
    "    plt.axis('off')\n",
    "\n",
    "plt.suptitle('Figure 1-1 Sample visualization', fontsize=14)\n",
    "plt.tight_layout()\n",
    "plt.show()"
   ]
  },
  {
   "cell_type": "markdown",
   "id": "2346e0d8",
   "metadata": {},
   "source": [
    "## 🏛️ Neural Network Architecture\n",
    "Building a fully-connected network for handwritten digit classification."
   ]
  },
  {
   "cell_type": "code",
   "execution_count": 10,
   "id": "c7a076df",
   "metadata": {},
   "outputs": [],
   "source": [
    "# Create a model. The model consists of three fully connected layers. The final output layer uses \n",
    "#softmax for classification (10 classes consisting of numbers 0 to 9.)\n",
    "class MNISTModel(nn.Cell):\n",
    "    def __init__(self):\n",
    "        super(MNISTModel, self).__init__()\n",
    "        self.flatten = nn.Flatten()\n",
    "        self.fc1 = nn.Dense(28 * 28, 128)\n",
    "        self.fc2 = nn.Dense(128, 64)\n",
    "        self.fc3 = nn.Dense(64, 10)\n",
    "        self.softmax = nn.Softmax()\n",
    "\n",
    "    def construct(self, x):\n",
    "        x = self.flatten(x)\n",
    "        x = self.fc1(x)\n",
    "        x = nn.ReLU()(x)\n",
    "        x = self.fc2(x)\n",
    "        x = nn.ReLU()(x)\n",
    "        x = self.fc3(x)\n",
    "        x = self.softmax(x)\n",
    "        return x"
   ]
  },
  {
   "cell_type": "markdown",
   "id": "e6a8c259",
   "metadata": {},
   "source": [
    "## ⚙️ Loss Function and Optimizer Configuration\n",
    "Setting up the training components for model optimization."
   ]
  },
  {
   "cell_type": "code",
   "execution_count": 11,
   "id": "a4bf685d",
   "metadata": {},
   "outputs": [],
   "source": [
    "# Define loss function and optimizer\n",
    "# Create a network, loss function, validation metric, and optimizer, and set related hyperparameters.\n",
    "net = MNISTModel()\n",
    "loss = nn.CrossEntropyLoss()\n",
    "metric = Accuracy()\n",
    "optimizer = nn.Adam(net.trainable_params(), learning_rate=0.001)"
   ]
  },
  {
   "cell_type": "markdown",
   "id": "e84b5bb6",
   "metadata": {},
   "source": [
    "## 📈 Model Training\n",
    "Training the neural network on the MNIST dataset."
   ]
  },
  {
   "cell_type": "code",
   "execution_count": 12,
   "id": "f4cf1ed7",
   "metadata": {},
   "outputs": [
    {
     "name": "stderr",
     "output_type": "stream",
     "text": [
      "[WARNING] ME(11874:123743177216128,MainProcess):2025-09-12-15:51:10.698.181 [mindspore/dataset/core/validator_helpers.py:744] 'Resize' from mindspore.dataset.vision.c_transforms is deprecated from version 1.8 and will be removed in a future version. Use 'Resize' from mindspore.dataset.vision instead.\n",
      "[WARNING] ME(11874:123743177216128,MainProcess):2025-09-12-15:51:10.699.883 [mindspore/dataset/core/validator_helpers.py:744] 'Rescale' from mindspore.dataset.vision.c_transforms is deprecated from version 1.8 and will be removed in a future version. Use 'Rescale' from mindspore.dataset.vision instead.\n",
      "[WARNING] ME(11874:123743177216128,MainProcess):2025-09-12-15:51:10.701.603 [mindspore/dataset/core/validator_helpers.py:744] 'HWC2CHW' from mindspore.dataset.vision.c_transforms is deprecated from version 1.8 and will be removed in a future version. Use 'HWC2CHW' from mindspore.dataset.vision instead.\n",
      "[WARNING] ME(11874:123743177216128,MainProcess):2025-09-12-15:51:10.702.576 [mindspore/dataset/core/validator_helpers.py:744] 'TypeCast' from mindspore.dataset.transforms.c_transforms is deprecated from version 1.8 and will be removed in a future version. Use 'TypeCast' from mindspore.dataset.transforms instead.\n",
      "[WARNING] ME(11874:123743177216128,MainProcess):2025-09-12-15:51:10.704.117 [mindspore/dataset/core/validator_helpers.py:744] 'Resize' from mindspore.dataset.vision.c_transforms is deprecated from version 1.8 and will be removed in a future version. Use 'Resize' from mindspore.dataset.vision instead.\n",
      "[WARNING] ME(11874:123743177216128,MainProcess):2025-09-12-15:51:10.705.194 [mindspore/dataset/core/validator_helpers.py:744] 'Rescale' from mindspore.dataset.vision.c_transforms is deprecated from version 1.8 and will be removed in a future version. Use 'Rescale' from mindspore.dataset.vision instead.\n",
      "[WARNING] ME(11874:123743177216128,MainProcess):2025-09-12-15:51:10.699.883 [mindspore/dataset/core/validator_helpers.py:744] 'Rescale' from mindspore.dataset.vision.c_transforms is deprecated from version 1.8 and will be removed in a future version. Use 'Rescale' from mindspore.dataset.vision instead.\n",
      "[WARNING] ME(11874:123743177216128,MainProcess):2025-09-12-15:51:10.701.603 [mindspore/dataset/core/validator_helpers.py:744] 'HWC2CHW' from mindspore.dataset.vision.c_transforms is deprecated from version 1.8 and will be removed in a future version. Use 'HWC2CHW' from mindspore.dataset.vision instead.\n",
      "[WARNING] ME(11874:123743177216128,MainProcess):2025-09-12-15:51:10.702.576 [mindspore/dataset/core/validator_helpers.py:744] 'TypeCast' from mindspore.dataset.transforms.c_transforms is deprecated from version 1.8 and will be removed in a future version. Use 'TypeCast' from mindspore.dataset.transforms instead.\n",
      "[WARNING] ME(11874:123743177216128,MainProcess):2025-09-12-15:51:10.704.117 [mindspore/dataset/core/validator_helpers.py:744] 'Resize' from mindspore.dataset.vision.c_transforms is deprecated from version 1.8 and will be removed in a future version. Use 'Resize' from mindspore.dataset.vision instead.\n",
      "[WARNING] ME(11874:123743177216128,MainProcess):2025-09-12-15:51:10.705.194 [mindspore/dataset/core/validator_helpers.py:744] 'Rescale' from mindspore.dataset.vision.c_transforms is deprecated from version 1.8 and will be removed in a future version. Use 'Rescale' from mindspore.dataset.vision instead.\n",
      "[WARNING] ME(11874:123743177216128,MainProcess):2025-09-12-15:51:10.705.885 [mindspore/dataset/core/validator_helpers.py:744] 'HWC2CHW' from mindspore.dataset.vision.c_transforms is deprecated from version 1.8 and will be removed in a future version. Use 'HWC2CHW' from mindspore.dataset.vision instead.\n",
      "[WARNING] ME(11874:123743177216128,MainProcess):2025-09-12-15:51:10.707.575 [mindspore/dataset/core/validator_helpers.py:744] 'TypeCast' from mindspore.dataset.transforms.c_transforms is deprecated from version 1.8 and will be removed in a future version. Use 'TypeCast' from mindspore.dataset.transforms instead.\n",
      "[WARNING] ME(11874:123743177216128,MainProcess):2025-09-12-15:51:10.705.885 [mindspore/dataset/core/validator_helpers.py:744] 'HWC2CHW' from mindspore.dataset.vision.c_transforms is deprecated from version 1.8 and will be removed in a future version. Use 'HWC2CHW' from mindspore.dataset.vision instead.\n",
      "[WARNING] ME(11874:123743177216128,MainProcess):2025-09-12-15:51:10.707.575 [mindspore/dataset/core/validator_helpers.py:744] 'TypeCast' from mindspore.dataset.transforms.c_transforms is deprecated from version 1.8 and will be removed in a future version. Use 'TypeCast' from mindspore.dataset.transforms instead.\n"
     ]
    }
   ],
   "source": [
    "# Create the model with all components\n",
    "# Build a model.\n",
    "model = Model(net, loss, optimizer, metrics={'accuracy': metric})\n",
    "\n",
    "# Generate a dataset.\n",
    "ds_train = create_dataset(training=True, batch_size=32)\n",
    "ds_eval = create_dataset(training=False, batch_size=32)"
   ]
  },
  {
   "cell_type": "code",
   "execution_count": 13,
   "id": "e4ca13e0",
   "metadata": {},
   "outputs": [
    {
     "name": "stdout",
     "output_type": "stream",
     "text": [
      "============== Starting Training ==============\n",
      "epoch: 1 step: 1875, loss is 1.7107527256011963\n",
      "Train epoch time: 6203.150 ms, per step time: 3.308 ms\n",
      "epoch: 1 step: 1875, loss is 1.7107527256011963\n",
      "Train epoch time: 6203.150 ms, per step time: 3.308 ms\n",
      "epoch: 2 step: 1875, loss is 1.4892611503601074\n",
      "Train epoch time: 6562.621 ms, per step time: 3.500 ms\n",
      "epoch: 2 step: 1875, loss is 1.4892611503601074\n",
      "Train epoch time: 6562.621 ms, per step time: 3.500 ms\n",
      "epoch: 3 step: 1875, loss is 1.4940314292907715\n",
      "Train epoch time: 5694.451 ms, per step time: 3.037 ms\n",
      "epoch: 3 step: 1875, loss is 1.4940314292907715\n",
      "Train epoch time: 5694.451 ms, per step time: 3.037 ms\n",
      "epoch: 4 step: 1875, loss is 1.491666316986084\n",
      "Train epoch time: 4733.087 ms, per step time: 2.524 ms\n",
      "epoch: 4 step: 1875, loss is 1.491666316986084\n",
      "Train epoch time: 4733.087 ms, per step time: 2.524 ms\n",
      "epoch: 5 step: 1875, loss is 1.4732897281646729\n",
      "Train epoch time: 5024.644 ms, per step time: 2.680 ms\n",
      "epoch: 5 step: 1875, loss is 1.4732897281646729\n",
      "Train epoch time: 5024.644 ms, per step time: 2.680 ms\n",
      "epoch: 6 step: 1875, loss is 1.492250919342041\n",
      "Train epoch time: 5549.851 ms, per step time: 2.960 ms\n",
      "epoch: 6 step: 1875, loss is 1.492250919342041\n",
      "Train epoch time: 5549.851 ms, per step time: 2.960 ms\n",
      "epoch: 7 step: 1875, loss is 1.5191363096237183\n",
      "Train epoch time: 6054.478 ms, per step time: 3.229 ms\n",
      "epoch: 7 step: 1875, loss is 1.5191363096237183\n",
      "Train epoch time: 6054.478 ms, per step time: 3.229 ms\n",
      "epoch: 8 step: 1875, loss is 1.4658352136611938\n",
      "Train epoch time: 6021.057 ms, per step time: 3.211 ms\n",
      "epoch: 8 step: 1875, loss is 1.4658352136611938\n",
      "Train epoch time: 6021.057 ms, per step time: 3.211 ms\n",
      "epoch: 9 step: 1875, loss is 1.4611725807189941\n",
      "Train epoch time: 5582.060 ms, per step time: 2.977 ms\n",
      "epoch: 9 step: 1875, loss is 1.4611725807189941\n",
      "Train epoch time: 5582.060 ms, per step time: 2.977 ms\n",
      "epoch: 10 step: 1875, loss is 1.498986840248108\n",
      "Train epoch time: 5931.348 ms, per step time: 3.163 ms\n",
      "epoch: 10 step: 1875, loss is 1.498986840248108\n",
      "Train epoch time: 5931.348 ms, per step time: 3.163 ms\n"
     ]
    }
   ],
   "source": [
    "# Load training dataset and start training\n",
    "\n",
    "# Configure training callbacks\n",
    "time_monitor = TimeMonitor()\n",
    "loss_monitor = LossMonitor(1875)  # Print loss every 1875 steps (end of epoch)\n",
    "\n",
    "print(\"============== Starting Training ==============\")\n",
    "\n",
    "# Train the model\n",
    "model.train(epoch=10, train_dataset=ds_train, callbacks=[time_monitor, loss_monitor])"
   ]
  },
  {
   "cell_type": "markdown",
   "id": "bb1d5bcc",
   "metadata": {},
   "source": [
    "## 🎯 Model Evaluation and Testing\n",
    "Validating the trained model on the test dataset."
   ]
  },
  {
   "cell_type": "code",
   "execution_count": 14,
   "id": "12ef892a",
   "metadata": {},
   "outputs": [
    {
     "name": "stdout",
     "output_type": "stream",
     "text": [
      "{'accuracy': 0.9726}\n"
     ]
    }
   ],
   "source": [
    "# Use the test set to validate the model and print the overall accuracy.\n",
    "metrics=model.eval(ds_eval)\n",
    "print(metrics)"
   ]
  }
 ],
 "metadata": {
  "kernelspec": {
   "display_name": "MindSpore",
   "language": "python",
   "name": "python3"
  },
  "language_info": {
   "codemirror_mode": {
    "name": "ipython",
    "version": 3
   },
   "file_extension": ".py",
   "mimetype": "text/x-python",
   "name": "python",
   "nbconvert_exporter": "python",
   "pygments_lexer": "ipython3",
   "version": "3.7.17"
  }
 },
 "nbformat": 4,
 "nbformat_minor": 5
}
