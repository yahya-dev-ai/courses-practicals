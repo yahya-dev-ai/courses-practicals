{
 "cells": [
  {
   "cell_type": "markdown",
   "metadata": {},
   "source": [
    "# 🔬 MindSpore Basics: A Deep Learning Workflow"
   ]
  },
  {
   "cell_type": "markdown",
   "metadata": {},
   "source": [
    "<details>\n",
    "<summary><strong>📋 About This Lab & Benefits</strong></summary>\n",
    "\n",
    "This experiment introduces the basic components of the MindSpore framework and walks through a typical deep learning workflow.\n",
    "\n",
    "**Objectives:**\n",
    "\n",
    "- 🎯 Understand the core concepts of MindSpore.\n",
    "- 🔧 Learn the process of data handling, model creation, training, and evaluation.\n",
    "- 📈 Gain hands-on experience with a complete deep learning pipeline.\n",
    "\n",
    "</details>"
   ]
  },
  {
   "cell_type": "markdown",
   "metadata": {},
   "source": [
    "## 📊 Introduction to Tensors\n",
    "Understanding the fundamental data structure of MindSpore."
   ]
  },
  {
   "cell_type": "markdown",
   "metadata": {},
   "source": [
    "**Create a tensor**"
   ]
  },
  {
   "cell_type": "code",
   "execution_count": 43,
   "metadata": {},
   "outputs": [
    {
     "data": {
      "text/plain": [
       "Tensor(shape=[2, 2], dtype=Int32, value=\n",
       "[[1, 2],\n",
       " [3, 4]])"
      ]
     },
     "execution_count": 43,
     "metadata": {},
     "output_type": "execute_result"
    }
   ],
   "source": [
    "from warnings import filterwarnings\n",
    "filterwarnings('ignore')\n",
    "\n",
    "# Import MindSpore.\n",
    "import mindspore\n",
    "from IPython.core.interactiveshell import InteractiveShell\n",
    "InteractiveShell.ast_node_interactivity = \"all\" # Show all results in a cell.\n",
    "import numpy as np\n",
    "from mindspore import Tensor # a multi-dimensional array\n",
    "from mindspore import dtype\n",
    "# Use an array to create a tensor.\n",
    "x = Tensor(np.array([[1, 2], [3, 4]]), dtype.int32)\n",
    "x"
   ]
  },
  {
   "cell_type": "code",
   "execution_count": 44,
   "metadata": {},
   "outputs": [
    {
     "data": {
      "text/plain": [
       "Tensor(shape=[], dtype=Int32, value= 1)"
      ]
     },
     "execution_count": 44,
     "metadata": {},
     "output_type": "execute_result"
    },
    {
     "data": {
      "text/plain": [
       "Tensor(shape=[], dtype=Int32, value= 2)"
      ]
     },
     "execution_count": 44,
     "metadata": {},
     "output_type": "execute_result"
    }
   ],
   "source": [
    "# Use a number to create tensors.\n",
    "y = Tensor(1.0, dtype.int32)\n",
    "z = Tensor(2, dtype.int32)\n",
    "y\n",
    "z"
   ]
  },
  {
   "cell_type": "code",
   "execution_count": 45,
   "metadata": {},
   "outputs": [
    {
     "data": {
      "text/plain": [
       "Tensor(shape=[], dtype=Bool, value= True)"
      ]
     },
     "execution_count": 45,
     "metadata": {},
     "output_type": "execute_result"
    }
   ],
   "source": [
    "# Use Boolean to create a tensor.\n",
    "m = Tensor(True, dtype.bool_)\n",
    "m"
   ]
  },
  {
   "cell_type": "code",
   "execution_count": 46,
   "metadata": {},
   "outputs": [
    {
     "data": {
      "text/plain": [
       "Tensor(shape=[3], dtype=Int32, value= [1, 2, 3])"
      ]
     },
     "execution_count": 46,
     "metadata": {},
     "output_type": "execute_result"
    }
   ],
   "source": [
    "# Use a tuple to create a tensor.\n",
    "n = Tensor((1, 2, 3), dtype.int32)\n",
    "n"
   ]
  },
  {
   "cell_type": "code",
   "execution_count": 47,
   "metadata": {},
   "outputs": [
    {
     "data": {
      "text/plain": [
       "Tensor(shape=[3], dtype=Int32, value= [1, 2, 3])"
      ]
     },
     "execution_count": 47,
     "metadata": {},
     "output_type": "execute_result"
    }
   ],
   "source": [
    "# Use a list to create a tensor.\n",
    "p = Tensor([1, 2, 3], dtype.int32)\n",
    "p"
   ]
  },
  {
   "cell_type": "code",
   "execution_count": 48,
   "metadata": {},
   "outputs": [
    {
     "data": {
      "text/plain": [
       "Tensor(shape=[2, 2], dtype=Int32, value=\n",
       "[[1, 1],\n",
       " [1, 1]])"
      ]
     },
     "execution_count": 48,
     "metadata": {},
     "output_type": "execute_result"
    }
   ],
   "source": [
    "# Inherit attributes of another tensor to form a new tensor\n",
    "from mindspore import ops # a module of operators\n",
    "oneslike = ops.OnesLike() # create a tensor with all elements set to ones   \n",
    "x = Tensor(np.array([[0, 1], [2, 1]]).astype(np.int32))\n",
    "output = oneslike(x) # \n",
    "output"
   ]
  },
  {
   "cell_type": "code",
   "execution_count": 49,
   "metadata": {},
   "outputs": [
    {
     "name": "stdout",
     "output_type": "stream",
     "text": [
      "[[1. 1.]\n",
      " [1. 1.]]\n",
      "[[0. 0.]\n",
      " [0. 0.]]\n"
     ]
    }
   ],
   "source": [
    "# Output constant tensor value.\n",
    "from mindspore.ops import operations as ops\n",
    "shape = (2, 2)\n",
    "ones = ops.Ones()\n",
    "output = ones(shape,dtype.float32)\n",
    "print(output)\n",
    "zeros = ops.Zeros()\n",
    "output = zeros(shape, dtype.float32)\n",
    "print(output)"
   ]
  },
  {
   "cell_type": "markdown",
   "metadata": {},
   "source": [
    "**Tensor Attributes**"
   ]
  },
  {
   "cell_type": "code",
   "execution_count": 50,
   "metadata": {},
   "outputs": [
    {
     "data": {
      "text/plain": [
       "(2, 2)"
      ]
     },
     "execution_count": 50,
     "metadata": {},
     "output_type": "execute_result"
    },
    {
     "data": {
      "text/plain": [
       "mindspore.int32"
      ]
     },
     "execution_count": 50,
     "metadata": {},
     "output_type": "execute_result"
    },
    {
     "data": {
      "text/plain": [
       "2"
      ]
     },
     "execution_count": 50,
     "metadata": {},
     "output_type": "execute_result"
    },
    {
     "data": {
      "text/plain": [
       "4"
      ]
     },
     "execution_count": 50,
     "metadata": {},
     "output_type": "execute_result"
    }
   ],
   "source": [
    "x = Tensor(np.array([[1, 2], [3, 4]]), dtype.int32)\n",
    "# Shape\n",
    "x.shape\n",
    "# Data type\n",
    "x.dtype\n",
    "# Dimension\n",
    "x.ndim\n",
    "# Size\n",
    "x.size"
   ]
  },
  {
   "cell_type": "markdown",
   "metadata": {},
   "source": [
    "**Tensor Methods**"
   ]
  },
  {
   "cell_type": "code",
   "execution_count": 51,
   "metadata": {},
   "outputs": [
    {
     "data": {
      "text/plain": [
       "array([[ True,  True],\n",
       "       [False, False]])"
      ]
     },
     "execution_count": 51,
     "metadata": {},
     "output_type": "execute_result"
    }
   ],
   "source": [
    "y = Tensor(np.array([[True, True], [False, False]]), dtype.bool_)\n",
    "# Convert the tensor data type to NumPy.\n",
    "y.asnumpy()"
   ]
  },
  {
   "cell_type": "markdown",
   "metadata": {},
   "source": [
    "**Tensor Operations**"
   ]
  },
  {
   "cell_type": "code",
   "execution_count": 52,
   "metadata": {},
   "outputs": [
    {
     "name": "stdout",
     "output_type": "stream",
     "text": [
      "First row: [0. 1.]\n",
      "First column: [0. 2.]\n",
      "Last column: [1. 3.]\n"
     ]
    }
   ],
   "source": [
    "# Perform indexing and slicing\n",
    "tensor = Tensor(np.array([[0, 1], [2, 3]]).astype(np.float32))\n",
    "print(\"First row: {}\".format(tensor[0]))\n",
    "print(\"First column: {}\".format(tensor[:, 0]))\n",
    "print(\"Last column: {}\".format(tensor[..., -1]))"
   ]
  },
  {
   "cell_type": "code",
   "execution_count": 53,
   "metadata": {},
   "outputs": [
    {
     "name": "stdout",
     "output_type": "stream",
     "text": [
      "[[[0. 1.]\n",
      "  [2. 3.]]\n",
      "\n",
      " [[4. 5.]\n",
      "  [6. 7.]]]\n"
     ]
    }
   ],
   "source": [
    "# Concatenate tensors.\n",
    "data1 = Tensor(np.array([[0, 1], [2, 3]]).astype(np.float32))\n",
    "data2 = Tensor(np.array([[4, 5], [6, 7]]).astype(np.float32))\n",
    "op = ops.Stack()\n",
    "output = op([data1, data2])\n",
    "print(output)"
   ]
  },
  {
   "cell_type": "code",
   "execution_count": 54,
   "metadata": {},
   "outputs": [
    {
     "data": {
      "text/plain": [
       "array([[[0., 1.],\n",
       "        [2., 3.]],\n",
       "\n",
       "       [[4., 5.],\n",
       "        [6., 7.]]], dtype=float32)"
      ]
     },
     "execution_count": 54,
     "metadata": {},
     "output_type": "execute_result"
    }
   ],
   "source": [
    "# Convert to NumPy.\n",
    "output.asnumpy()"
   ]
  },
  {
   "cell_type": "markdown",
   "metadata": {},
   "source": [
    "## 📁 Loading a Dataset\n",
    "Preparing your data for the model."
   ]
  },
  {
   "cell_type": "code",
   "execution_count": 55,
   "metadata": {},
   "outputs": [
    {
     "data": {
      "text/plain": [
       "<Figure size 800x800 with 0 Axes>"
      ]
     },
     "execution_count": 55,
     "metadata": {},
     "output_type": "execute_result"
    },
    {
     "data": {
      "text/plain": [
       "<AxesSubplot:>"
      ]
     },
     "execution_count": 55,
     "metadata": {},
     "output_type": "execute_result"
    },
    {
     "data": {
      "text/plain": [
       "<matplotlib.image.AxesImage at 0x76b143bafcd0>"
      ]
     },
     "execution_count": 55,
     "metadata": {},
     "output_type": "execute_result"
    },
    {
     "data": {
      "text/plain": [
       "Text(0.5, 1.0, 'Label: 4')"
      ]
     },
     "execution_count": 55,
     "metadata": {},
     "output_type": "execute_result"
    },
    {
     "data": {
      "text/plain": [
       "<AxesSubplot:>"
      ]
     },
     "execution_count": 55,
     "metadata": {},
     "output_type": "execute_result"
    },
    {
     "data": {
      "text/plain": [
       "<matplotlib.image.AxesImage at 0x76b1436de790>"
      ]
     },
     "execution_count": 55,
     "metadata": {},
     "output_type": "execute_result"
    },
    {
     "data": {
      "text/plain": [
       "Text(0.5, 1.0, 'Label: 4')"
      ]
     },
     "execution_count": 55,
     "metadata": {},
     "output_type": "execute_result"
    },
    {
     "data": {
      "text/plain": [
       "<AxesSubplot:>"
      ]
     },
     "execution_count": 55,
     "metadata": {},
     "output_type": "execute_result"
    },
    {
     "data": {
      "text/plain": [
       "<matplotlib.image.AxesImage at 0x76b1436813d0>"
      ]
     },
     "execution_count": 55,
     "metadata": {},
     "output_type": "execute_result"
    },
    {
     "data": {
      "text/plain": [
       "Text(0.5, 1.0, 'Label: 8')"
      ]
     },
     "execution_count": 55,
     "metadata": {},
     "output_type": "execute_result"
    },
    {
     "data": {
      "image/png": "[encoded data removed]",
      "text/plain": [
       "<Figure size 800x800 with 3 Axes>"
      ]
     },
     "metadata": {},
     "output_type": "display_data"
    }
   ],
   "source": [
    "# Load the MNIST dataset.\n",
    "import os\n",
    "import mindspore.dataset as ds\n",
    "import matplotlib.pyplot as plt\n",
    "dataset_dir = \"train\" # Path of the dataset\n",
    "# Read three images from the MNIST dataset.\n",
    "mnist_dataset = ds.MnistDataset(dataset_dir=dataset_dir, num_samples=3)\n",
    "# View the images and set the image sizes.\n",
    "plt.figure(figsize=(8,8))\n",
    "i = 1\n",
    "# Print three subgraphs.\n",
    "for data in mnist_dataset.create_dict_iterator():\n",
    "    image = data[\"image\"].asnumpy() # Convert to NumPy.\n",
    "    label = data[\"label\"].asnumpy() # Convert to NumPy.\n",
    "    plt.subplot(1, 3, i)\n",
    "    plt.imshow(image.reshape(28, 28), cmap='gray') # Reshape and display the image.\n",
    "    plt.title(\"Label: {}\".format(label))\n",
    "    i += 1\n",
    "plt.show()"
   ]
  },
  {
   "cell_type": "code",
   "execution_count": 56,
   "metadata": {},
   "outputs": [
    {
     "name": "stdout",
     "output_type": "stream",
     "text": [
      "Data: [0.49606035 0.07562207]\n",
      "Label: [0.38068183]\n",
      "---\n",
      "Data: [0.81585667 0.96883469]\n",
      "Label: [0.77994068]\n",
      "---\n",
      "Data: [0.57176158 0.28963401]\n",
      "Label: [0.16271622]\n",
      "---\n",
      "Data: [0.30880446 0.37487617]\n",
      "Label: [0.54738768]\n",
      "---\n",
      "Data: [0.36510558 0.45120592]\n",
      "Label: [0.78888122]\n",
      "---\n"
     ]
    }
   ],
   "source": [
    "# Customize a dataset.\n",
    "import numpy as np\n",
    "np.random.seed(58)\n",
    "class DatasetGenerator:\n",
    "\t# When a dataset object is instantiated, the __init__ function is called. You can perform operations such as data initialization.\n",
    "\tdef __init__(self):\n",
    "\t\tself.data = np.random.sample((5, 2))\n",
    "\t\tself.label = np.random.sample((5, 1))\n",
    "\t\n",
    "\t# Define the __getitem__ function of the dataset class to support random access and obtain and \n",
    "\t# return data in the dataset based on the specified index value.\n",
    "\tdef __getitem__(self, index):\n",
    "\t\treturn self.data[index], self.label[index]\n",
    "\t\n",
    "\t# Define the __len__ function of the dataset class and return the number of samples in the dataset.\n",
    "\tdef __len__(self):\n",
    "\t\treturn len(self.data)\n",
    "\n",
    "# After the dataset class is defined, the GeneratorDataset API can be used to load and access dataset \n",
    "# Create an instance of the dataset\n",
    "dataset_generator = DatasetGenerator()\n",
    "\n",
    "# Create a GeneratorDataset\n",
    "generator_dataset = ds.GeneratorDataset(dataset_generator, [\"data\", \"label\"])\n",
    "\n",
    "# Use the create_dict_iterator method to obtain data.\n",
    "for data in generator_dataset.create_dict_iterator():\n",
    "\tprint(\"Data:\", data[\"data\"].asnumpy())\n",
    "\tprint(\"Label:\", data[\"label\"].asnumpy())\n",
    "\tprint(\"---\")"
   ]
  },
  {
   "cell_type": "code",
   "execution_count": 57,
   "metadata": {},
   "outputs": [
    {
     "name": "stdout",
     "output_type": "stream",
     "text": [
      "Data: [[0.49606035 0.07562207]\n",
      " [0.57176158 0.28963401]]\n",
      "Label: [[0.38068183]\n",
      " [0.16271622]]\n",
      "---\n",
      "Data: [[0.30880446 0.37487617]\n",
      " [0.81585667 0.96883469]]\n",
      "Label: [[0.54738768]\n",
      " [0.77994068]]\n",
      "---\n",
      "Data: [[0.36510558 0.45120592]]\n",
      "Label: [[0.78888122]]\n",
      "---\n"
     ]
    }
   ],
   "source": [
    "# Perform data augmentation.\n",
    "# Set a random seed to ensure that the random results are consistent each time the code is run.\n",
    "ds.config.set_seed(58)\n",
    "\n",
    "# Shuffle the data sequence. buffer_size indicates the size of the shuffled buffer in the dataset.\n",
    "generator_dataset = generator_dataset.shuffle(buffer_size=5)\n",
    "\n",
    "# Divide the dataset into batches. batch_size indicates the number of data records contained in each\n",
    "generator_dataset = generator_dataset.batch(batch_size=2)\n",
    "# batch.\n",
    "# Use the create_dict_iterator method to obtain data.\n",
    "for data in generator_dataset.create_dict_iterator():\n",
    "    print(\"Data:\", data[\"data\"].asnumpy())\n",
    "    print(\"Label:\", data[\"label\"].asnumpy())\n",
    "    print(\"---\")"
   ]
  },
  {
   "cell_type": "code",
   "execution_count": 58,
   "metadata": {},
   "outputs": [
    {
     "data": {
      "text/plain": [
       "<matplotlib.image.AxesImage at 0x76b14337ead0>"
      ]
     },
     "execution_count": 58,
     "metadata": {},
     "output_type": "execute_result"
    },
    {
     "data": {
      "text/plain": [
       "Text(0.5, 1.0, 'Label: 4')"
      ]
     },
     "execution_count": 58,
     "metadata": {},
     "output_type": "execute_result"
    },
    {
     "data": {
      "text/plain": [
       "(-0.5, 27.5, 27.5, -0.5)"
      ]
     },
     "execution_count": 58,
     "metadata": {},
     "output_type": "execute_result"
    },
    {
     "data": {
      "image/png": "[encoded data removed]",
      "text/plain": [
       "<Figure size 640x480 with 1 Axes>"
      ]
     },
     "metadata": {},
     "output_type": "display_data"
    },
    {
     "data": {
      "text/plain": [
       "<matplotlib.image.AxesImage at 0x76b1432e1910>"
      ]
     },
     "execution_count": 58,
     "metadata": {},
     "output_type": "execute_result"
    },
    {
     "data": {
      "text/plain": [
       "Text(0.5, 1.0, 'Label: 4')"
      ]
     },
     "execution_count": 58,
     "metadata": {},
     "output_type": "execute_result"
    },
    {
     "data": {
      "text/plain": [
       "(-0.5, 27.5, 27.5, -0.5)"
      ]
     },
     "execution_count": 58,
     "metadata": {},
     "output_type": "execute_result"
    },
    {
     "data": {
      "image/png": "[encoded data removed]",
      "text/plain": [
       "<Figure size 640x480 with 1 Axes>"
      ]
     },
     "metadata": {},
     "output_type": "display_data"
    },
    {
     "data": {
      "text/plain": [
       "<matplotlib.image.AxesImage at 0x76b143247fd0>"
      ]
     },
     "execution_count": 58,
     "metadata": {},
     "output_type": "execute_result"
    },
    {
     "data": {
      "text/plain": [
       "Text(0.5, 1.0, 'Label: 8')"
      ]
     },
     "execution_count": 58,
     "metadata": {},
     "output_type": "execute_result"
    },
    {
     "data": {
      "text/plain": [
       "(-0.5, 27.5, 27.5, -0.5)"
      ]
     },
     "execution_count": 58,
     "metadata": {},
     "output_type": "execute_result"
    },
    {
     "data": {
      "image/png": "[encoded data removed]",
      "text/plain": [
       "<Figure size 640x480 with 1 Axes>"
      ]
     },
     "metadata": {},
     "output_type": "display_data"
    },
    {
     "data": {
      "text/plain": [
       "<matplotlib.image.AxesImage at 0x76b142fc4650>"
      ]
     },
     "execution_count": 58,
     "metadata": {},
     "output_type": "execute_result"
    },
    {
     "data": {
      "text/plain": [
       "Text(0.5, 1.0, 'Label: 3')"
      ]
     },
     "execution_count": 58,
     "metadata": {},
     "output_type": "execute_result"
    },
    {
     "data": {
      "text/plain": [
       "(-0.5, 27.5, 27.5, -0.5)"
      ]
     },
     "execution_count": 58,
     "metadata": {},
     "output_type": "execute_result"
    },
    {
     "data": {
      "image/png": "[encoded data removed]",
      "text/plain": [
       "<Figure size 640x480 with 1 Axes>"
      ]
     },
     "metadata": {},
     "output_type": "display_data"
    },
    {
     "data": {
      "text/plain": [
       "<matplotlib.image.AxesImage at 0x76b142f9cc90>"
      ]
     },
     "execution_count": 58,
     "metadata": {},
     "output_type": "execute_result"
    },
    {
     "data": {
      "text/plain": [
       "Text(0.5, 1.0, 'Label: 3')"
      ]
     },
     "execution_count": 58,
     "metadata": {},
     "output_type": "execute_result"
    },
    {
     "data": {
      "text/plain": [
       "(-0.5, 27.5, 27.5, -0.5)"
      ]
     },
     "execution_count": 58,
     "metadata": {},
     "output_type": "execute_result"
    },
    {
     "data": {
      "image/png": "[encoded data removed]",
      "text/plain": [
       "<Figure size 640x480 with 1 Axes>"
      ]
     },
     "metadata": {},
     "output_type": "display_data"
    },
    {
     "data": {
      "text/plain": [
       "<matplotlib.image.AxesImage at 0x76b14327a6d0>"
      ]
     },
     "execution_count": 58,
     "metadata": {},
     "output_type": "execute_result"
    },
    {
     "data": {
      "text/plain": [
       "Text(0.5, 1.0, 'Label: 3')"
      ]
     },
     "execution_count": 58,
     "metadata": {},
     "output_type": "execute_result"
    },
    {
     "data": {
      "text/plain": [
       "(-0.5, 27.5, 27.5, -0.5)"
      ]
     },
     "execution_count": 58,
     "metadata": {},
     "output_type": "execute_result"
    },
    {
     "data": {
      "image/png": "[encoded data removed]",
      "text/plain": [
       "<Figure size 640x480 with 1 Axes>"
      ]
     },
     "metadata": {},
     "output_type": "display_data"
    }
   ],
   "source": [
    "import matplotlib.pyplot as plt\n",
    "from mindspore.dataset.vision import Inter\n",
    "import mindspore.dataset.vision.c_transforms as c_vision\n",
    "DATA_DIR = 'train'\n",
    "# Obtain six samples.\n",
    "mnist_dataset = ds.MnistDataset(dataset_dir=DATA_DIR, num_samples=6)\n",
    "# View the original image data.\n",
    "for data in mnist_dataset.create_dict_iterator():\n",
    "    plt.imshow(data[\"image\"].asnumpy().squeeze(), cmap='gray')\n",
    "    plt.title(f\"Label: {data['label'].asnumpy()}\")\n",
    "    plt.axis('off')\n",
    "    plt.show()"
   ]
  },
  {
   "cell_type": "code",
   "execution_count": 59,
   "metadata": {},
   "outputs": [
    {
     "name": "stderr",
     "output_type": "stream",
     "text": [
      "[WARNING] ME(7080:130505123827840,MainProcess):2025-09-12-18:09:21.932.946 [mindspore/dataset/core/validator_helpers.py:744] 'Resize' from mindspore.dataset.vision.c_transforms is deprecated from version 1.8 and will be removed in a future version. Use 'Resize' from mindspore.dataset.vision instead.\n",
      "[WARNING] ME(7080:130505123827840,MainProcess):2025-09-12-18:09:21.936.342 [mindspore/dataset/core/validator_helpers.py:744] 'RandomCrop' from mindspore.dataset.vision.c_transforms is deprecated from version 1.8 and will be removed in a future version. Use 'RandomCrop' from mindspore.dataset.vision instead.\n"
     ]
    },
    {
     "data": {
      "text/plain": [
       "<matplotlib.image.AxesImage at 0x76b1432fae90>"
      ]
     },
     "execution_count": 59,
     "metadata": {},
     "output_type": "execute_result"
    },
    {
     "data": {
      "text/plain": [
       "Text(0.5, 1.0, '4')"
      ]
     },
     "execution_count": 59,
     "metadata": {},
     "output_type": "execute_result"
    },
    {
     "data": {
      "image/png": "[encoded data removed]",
      "text/plain": [
       "<Figure size 640x480 with 1 Axes>"
      ]
     },
     "metadata": {},
     "output_type": "display_data"
    }
   ],
   "source": [
    "resize_op = c_vision.Resize(size=(40,40), interpolation=Inter.LINEAR)\n",
    "crop_op = c_vision.RandomCrop(28)\n",
    "transforms_list = [resize_op, crop_op]\n",
    "mnist_dataset = mnist_dataset.map(operations=transforms_list, input_columns=[\"image\"])\n",
    "mnist_dataset = mnist_dataset.create_dict_iterator()\n",
    "data = next(mnist_dataset)\n",
    "plt.imshow(data['image'].asnumpy().squeeze(), cmap=plt.cm.gray)\n",
    "plt.title(data['label'].asnumpy(), fontsize=20)\n",
    "plt.show()"
   ]
  },
  {
   "cell_type": "markdown",
   "metadata": {},
   "source": [
    "## 🏛️ Building the Network\n",
    "Defining the architecture of your deep learning model."
   ]
  },
  {
   "cell_type": "code",
   "execution_count": 60,
   "metadata": {},
   "outputs": [
    {
     "name": "stdout",
     "output_type": "stream",
     "text": [
      "[[1. 1. 1.]\n",
      " [2. 2. 2.]]\n",
      "[[3.1284747 3.0900786 3.5357811]\n",
      " [6.1284747 6.0900784 6.5357814]]\n"
     ]
    }
   ],
   "source": [
    "import mindspore as ms\n",
    "import mindspore.nn as nn # a module of neural network\n",
    "from mindspore import Tensor # a multi-dimensional array\n",
    "import numpy as np\n",
    "# Construct the input tensor.\n",
    "input_a = Tensor(np.array([[1, 1, 1], [2, 2, 2]]), ms.float32)\n",
    "print(input_a)\n",
    "# Construct a fully-connected network. Set both in_channels and out_channels to 3.\n",
    "net = nn.Dense(in_channels=3, out_channels=3, weight_init=1)\n",
    "output = net(input_a)\n",
    "print(output)"
   ]
  },
  {
   "cell_type": "code",
   "execution_count": 61,
   "metadata": {},
   "outputs": [
    {
     "name": "stdout",
     "output_type": "stream",
     "text": [
      "(1, 6, 28, 28)\n"
     ]
    }
   ],
   "source": [
    "# Build a convolutional layer which used for image feature extraction.\n",
    "conv2d = nn.Conv2d(1, 6, 5, has_bias=False, weight_init='normal', pad_mode='valid')\n",
    "input_x = Tensor(np.ones([1, 1, 32, 32]), ms.float32)\n",
    "print(conv2d(input_x).shape)"
   ]
  },
  {
   "cell_type": "code",
   "execution_count": 62,
   "metadata": {},
   "outputs": [
    {
     "name": "stdout",
     "output_type": "stream",
     "text": [
      "[0. 2. 0. 2. 0.]\n"
     ]
    }
   ],
   "source": [
    "# Build a ReLU layer which used for non-linear transformation.\n",
    "relu = nn.ReLU()\n",
    "input_x = Tensor(np.array([-1, 2, -3, 2, -1]), ms.float16)\n",
    "output = relu(input_x)\n",
    "print(output)"
   ]
  },
  {
   "cell_type": "code",
   "execution_count": 63,
   "metadata": {},
   "outputs": [
    {
     "name": "stdout",
     "output_type": "stream",
     "text": [
      "(1, 6, 14, 14)\n"
     ]
    }
   ],
   "source": [
    "# Build a pooling layer which used for image downsampling.\n",
    "max_pool2d = nn.MaxPool2d(kernel_size=2, stride=2)\n",
    "input_x = Tensor(np.ones([1, 6, 28, 28]), ms.float32)\n",
    "print(max_pool2d(input_x).shape)"
   ]
  },
  {
   "cell_type": "code",
   "execution_count": 64,
   "metadata": {},
   "outputs": [
    {
     "name": "stdout",
     "output_type": "stream",
     "text": [
      "(1, 400)\n"
     ]
    }
   ],
   "source": [
    "# Build a Flatten layer which used to flatten the input.\n",
    "flatten = nn.Flatten()\n",
    "input_x = Tensor(np.ones([1, 16, 5, 5]), ms.float32)\n",
    "output = flatten(input_x)\n",
    "print(output.shape)"
   ]
  },
  {
   "cell_type": "code",
   "execution_count": 65,
   "metadata": {},
   "outputs": [
    {
     "name": "stdout",
     "output_type": "stream",
     "text": [
      "('conv1.weight', Parameter (name=conv1.weight, shape=(6, 1, 5, 5), dtype=Float32, requires_grad=True))\n",
      "('conv2.weight', Parameter (name=conv2.weight, shape=(16, 6, 5, 5), dtype=Float32, requires_grad=True))\n",
      "('fc1.weight', Parameter (name=fc1.weight, shape=(120, 256), dtype=Float32, requires_grad=True))\n",
      "('fc1.bias', Parameter (name=fc1.bias, shape=(120,), dtype=Float32, requires_grad=True))\n",
      "('fc2.weight', Parameter (name=fc2.weight, shape=(84, 120), dtype=Float32, requires_grad=True))\n",
      "('fc2.bias', Parameter (name=fc2.bias, shape=(84,), dtype=Float32, requires_grad=True))\n",
      "('fc3.weight', Parameter (name=fc3.weight, shape=(10, 84), dtype=Float32, requires_grad=True))\n",
      "('fc3.bias', Parameter (name=fc3.bias, shape=(10,), dtype=Float32, requires_grad=True))\n"
     ]
    }
   ],
   "source": [
    "# Define a model class and view parameters of each layer.\n",
    "class LeNet5(nn.Cell):\n",
    "    def __init__(self):\n",
    "        super(LeNet5, self).__init__()\n",
    "        self.conv1 = nn.Conv2d(1, 6, 5, has_bias=False, weight_init='normal', pad_mode='valid')\n",
    "        self.relu1 = nn.ReLU()\n",
    "        self.pool1 = nn.MaxPool2d(kernel_size=2, stride=2)\n",
    "        self.conv2 = nn.Conv2d(6, 16, 5, has_bias=False, weight_init='normal', pad_mode='valid')\n",
    "        self.relu2 = nn.ReLU()\n",
    "        self.pool2 = nn.MaxPool2d(kernel_size=2, stride=2)\n",
    "        self.flatten = nn.Flatten()\n",
    "        self.fc1 = nn.Dense(16*4*4, 120, weight_init='normal', bias_init='zeros')\n",
    "        self.relu3 = nn.ReLU()\n",
    "        self.fc2 = nn.Dense(120, 84, weight_init='normal', bias_init='zeros')\n",
    "        self.relu4 = nn.ReLU()\n",
    "        self.fc3 = nn.Dense(84, 10, weight_init='normal', bias_init='zeros')\n",
    "\n",
    "    def construct(self, x):\n",
    "        x = self.conv1(x)\n",
    "        x = self.relu1(x)\n",
    "        x = self.pool1(x)\n",
    "        x = self.conv2(x)\n",
    "        x = self.relu2(x)\n",
    "        x = self.pool2(x)\n",
    "        x = self.flatten(x)\n",
    "        x = self.fc1(x)\n",
    "        x = self.relu3(x)\n",
    "        x = self.fc2(x)\n",
    "        x = self.relu4(x)\n",
    "        x = self.fc3(x)\n",
    "        return x\n",
    "net = LeNet5()\n",
    "# view the layer parameters\n",
    "for param in net.get_parameters():\n",
    "    print(f\"('{param.name}', {param})\")"
   ]
  },
  {
   "cell_type": "markdown",
   "metadata": {},
   "source": [
    "## 📈 Training and Validating a Model\n",
    "Fitting the model to the data and checking its performance."
   ]
  },
  {
   "cell_type": "code",
   "execution_count": 66,
   "metadata": {},
   "outputs": [
    {
     "name": "stdout",
     "output_type": "stream",
     "text": [
      "1.5\n"
     ]
    }
   ],
   "source": [
    "# Use loss functions which used to measure the difference between the predicted value and the true value.\n",
    "import numpy as np\n",
    "import mindspore.nn as nn\n",
    "from mindspore import Tensor\n",
    "import mindspore.dataset as ds\n",
    "import mindspore as ms\n",
    "loss = nn.L1Loss()\n",
    "output_data = Tensor(np.array([[1, 2, 3], [2, 3, 4]]).astype(np.float32))\n",
    "target_data = Tensor(np.array([[0, 2, 5], [3, 1, 1]]).astype(np.float32))\n",
    "print(loss(output_data, target_data))"
   ]
  },
  {
   "cell_type": "code",
   "execution_count": 67,
   "metadata": {},
   "outputs": [
    {
     "name": "stdout",
     "output_type": "stream",
     "text": [
      "Momentum<>\n"
     ]
    }
   ],
   "source": [
    "# Use an optimizer which used to update the parameters of the network towards minimizing the loss function.\n",
    "net = LeNet5()\n",
    "# Define a loss function.\n",
    "loss = nn.SoftmaxCrossEntropyWithLogits(sparse=True, reduction='mean')\n",
    "# Define an optimizer. Set the learning rate to 0.01 and the momentum to 0.9.\n",
    "optimizer = nn.Momentum(net.trainable_params(), learning_rate=0.01, momentum=0.9)\n",
    "# View the optimizer parameters.\n",
    "print(optimizer)"
   ]
  },
  {
   "cell_type": "code",
   "execution_count": 68,
   "metadata": {},
   "outputs": [],
   "source": [
    "# Build a model.\n",
    "from mindspore import Model\n",
    "# Define a neural network.\n",
    "net = LeNet5()\n",
    "# Define the loss function.\n",
    "loss = nn.SoftmaxCrossEntropyWithLogits(sparse=True, reduction='mean')\n",
    "# Define the optimizer.\n",
    "optim = nn.Momentum(params=net.trainable_params(), learning_rate=0.1, momentum=0.9)\n",
    "# Build a model.\n",
    "model = Model(network = net, loss_fn=loss, optimizer=optim, metrics={'accuracy'})"
   ]
  },
  {
   "cell_type": "code",
   "execution_count": null,
   "metadata": {},
   "outputs": [],
   "source": [
    "# Define data preprocessing function to avoid duplication\n",
    "import mindspore.dataset.transforms.c_transforms as C\n",
    "import mindspore.dataset.vision.c_transforms as CV\n",
    "\n",
    "def create_mnist_dataset(data_dir, batch_size=32):\n",
    "    \"\"\"\n",
    "    Create and preprocess MNIST dataset.\n",
    "    \n",
    "    Args:\n",
    "        data_dir (str): Directory path for the dataset ('train' or 'test')\n",
    "        batch_size (int): Batch size for the dataset\n",
    "    \n",
    "    Returns:\n",
    "        Dataset: Preprocessed MNIST dataset\n",
    "    \"\"\"\n",
    "    # Load dataset\n",
    "    dataset = ds.MnistDataset(data_dir)\n",
    "    \n",
    "    # Define preprocessing operations (defined once)\n",
    "    resize_op = CV.Resize((28, 28))\n",
    "    rescale_op = CV.Rescale(1/255, 0)\n",
    "    hwc2chw_op = CV.HWC2CHW()\n",
    "    type_cast_op = C.TypeCast(ms.int32)\n",
    "    \n",
    "    # Apply transformations\n",
    "    dataset = dataset.map(input_columns=\"image\", operations=[rescale_op, resize_op, hwc2chw_op])\n",
    "    dataset = dataset.map(input_columns=\"label\", operations=type_cast_op)\n",
    "    dataset = dataset.batch(batch_size)\n",
    "    \n",
    "    return dataset"
   ]
  },
  {
   "cell_type": "code",
   "execution_count": null,
   "metadata": {},
   "outputs": [
    {
     "name": "stderr",
     "output_type": "stream",
     "text": [
      "[WARNING] ME(7080:130505123827840,MainProcess):2025-09-12-18:09:22.342.593 [mindspore/dataset/core/validator_helpers.py:744] 'Resize' from mindspore.dataset.vision.c_transforms is deprecated from version 1.8 and will be removed in a future version. Use 'Resize' from mindspore.dataset.vision instead.\n",
      "[WARNING] ME(7080:130505123827840,MainProcess):2025-09-12-18:09:22.343.576 [mindspore/dataset/core/validator_helpers.py:744] 'Rescale' from mindspore.dataset.vision.c_transforms is deprecated from version 1.8 and will be removed in a future version. Use 'Rescale' from mindspore.dataset.vision instead.\n",
      "[WARNING] ME(7080:130505123827840,MainProcess):2025-09-12-18:09:22.344.366 [mindspore/dataset/core/validator_helpers.py:744] 'HWC2CHW' from mindspore.dataset.vision.c_transforms is deprecated from version 1.8 and will be removed in a future version. Use 'HWC2CHW' from mindspore.dataset.vision instead.\n",
      "[WARNING] ME(7080:130505123827840,MainProcess):2025-09-12-18:09:22.345.234 [mindspore/dataset/core/validator_helpers.py:744] 'TypeCast' from mindspore.dataset.transforms.c_transforms is deprecated from version 1.8 and will be removed in a future version. Use 'TypeCast' from mindspore.dataset.transforms instead.\n"
     ]
    },
    {
     "name": "stdout",
     "output_type": "stream",
     "text": [
      "epoch: 1 step: 1000, loss is 2.283555746078491\n"
     ]
    }
   ],
   "source": [
    "# Train the model.\n",
    "from mindspore.train.callback import LossMonitor\n",
    "\n",
    "# Create training dataset using the utility function\n",
    "mnist_dataset = create_mnist_dataset('train', batch_size=32)\n",
    "\n",
    "# Configure training callback\n",
    "loss_cb = LossMonitor(per_print_times=1000)\n",
    "\n",
    "# Train the model - dataset is the training set, epoch indicates the number of training epochs\n",
    "model.train(epoch=1, train_dataset=mnist_dataset, callbacks=[loss_cb])"
   ]
  },
  {
   "cell_type": "code",
   "execution_count": null,
   "metadata": {},
   "outputs": [
    {
     "name": "stderr",
     "output_type": "stream",
     "text": [
      "[WARNING] ME(7080:130505123827840,MainProcess):2025-09-12-18:09:43.709.906 [mindspore/dataset/core/validator_helpers.py:744] 'Resize' from mindspore.dataset.vision.c_transforms is deprecated from version 1.8 and will be removed in a future version. Use 'Resize' from mindspore.dataset.vision instead.\n",
      "[WARNING] ME(7080:130505123827840,MainProcess):2025-09-12-18:09:43.711.012 [mindspore/dataset/core/validator_helpers.py:744] 'Rescale' from mindspore.dataset.vision.c_transforms is deprecated from version 1.8 and will be removed in a future version. Use 'Rescale' from mindspore.dataset.vision instead.\n",
      "[WARNING] ME(7080:130505123827840,MainProcess):2025-09-12-18:09:43.711.920 [mindspore/dataset/core/validator_helpers.py:744] 'HWC2CHW' from mindspore.dataset.vision.c_transforms is deprecated from version 1.8 and will be removed in a future version. Use 'HWC2CHW' from mindspore.dataset.vision instead.\n",
      "[WARNING] ME(7080:130505123827840,MainProcess):2025-09-12-18:09:43.713.044 [mindspore/dataset/core/validator_helpers.py:744] 'TypeCast' from mindspore.dataset.transforms.c_transforms is deprecated from version 1.8 and will be removed in a future version. Use 'TypeCast' from mindspore.dataset.transforms instead.\n"
     ]
    },
    {
     "data": {
      "text/plain": [
       "{'accuracy': 0.1135}"
      ]
     },
     "execution_count": 70,
     "metadata": {},
     "output_type": "execute_result"
    }
   ],
   "source": [
    "# Validate the model.\n",
    "# Create test dataset using the utility function\n",
    "test_dataset = create_mnist_dataset('test', batch_size=32)\n",
    "\n",
    "# Evaluate the model on test set\n",
    "model.eval(valid_dataset=test_dataset)"
   ]
  },
  {
   "cell_type": "markdown",
   "metadata": {},
   "source": [
    "## 💼 Saving and Loading a Model\n",
    "Persisting your trained model for future use."
   ]
  },
  {
   "cell_type": "code",
   "execution_count": 71,
   "metadata": {},
   "outputs": [],
   "source": [
    "import mindspore as ms\n",
    "\n",
    "# net indicates a defined network model, which is used before or after training.\n",
    "ms.save_checkpoint(net, \"./MyNet.ckpt\") # net indicates the training network, and ./MyNet.ckpt indicates the path for saving the network model."
   ]
  },
  {
   "cell_type": "code",
   "execution_count": 72,
   "metadata": {},
   "outputs": [],
   "source": [
    "# Set the model saving parameters and save the model during training.\n",
    "from mindspore.train.callback import ModelCheckpoint, CheckpointConfig\n",
    "\n",
    "# Set the value of epoch_num.\n",
    "epoch_num = 5\n",
    "\n",
    "# Set model saving parameters.\n",
    "config_ck = CheckpointConfig(save_checkpoint_steps=1875, keep_checkpoint_max=10)\n",
    "\n",
    "# Use model saving parameters.\n",
    "ckpoint = ModelCheckpoint(prefix=\"lenet\", directory=\"./lenet\", config=config_ck)\n",
    "model.train(epoch_num, mnist_dataset, callbacks=[ckpoint])"
   ]
  },
  {
   "cell_type": "markdown",
   "metadata": {},
   "source": [
    "## ⚙️ Automatic Differentiation\n",
    "Exploring how MindSpore computes gradients."
   ]
  },
  {
   "cell_type": "code",
   "execution_count": 73,
   "metadata": {},
   "outputs": [
    {
     "name": "stdout",
     "output_type": "stream",
     "text": [
      "(Tensor(shape=[3, 3], dtype=Float32, value=\n",
      "[[ 2.06666679e+01,  2.73333359e+01,  3.40000000e+01],\n",
      " [ 2.16666660e+01,  2.83333340e+01,  3.50000000e+01],\n",
      " [ 2.06666679e+01,  2.73333359e+01,  3.40000000e+01]]), Tensor(shape=[3], dtype=Float32, value= [ 6.66666698e+00,  6.66666698e+00,  6.66666698e+00]))\n"
     ]
    }
   ],
   "source": [
    "# Compute the first-order derivative of the input.\n",
    "import numpy as np\n",
    "import mindspore.nn as nn\n",
    "import mindspore.ops as ops\n",
    "from mindspore import Tensor\n",
    "from mindspore import ParameterTuple, Parameter\n",
    "from mindspore import dtype as mstype\n",
    "\n",
    "# Output [[4.5099998 2.7 3.6000001]\n",
    "#         [4.5099998 2.7 3.6000001]]\n",
    "class GradNetWrtX(nn.Cell):\n",
    "    def __init__(self, net):\n",
    "        super(GradNetWrtX, self).__init__()\n",
    "        self.net = net\n",
    "        self.grad_op = ops.GradOperation()\n",
    "\n",
    "    def construct(self, x, y):\n",
    "        gradient_function = self.grad_op(self.net)\n",
    "        return gradient_function(x, y)\n",
    "\n",
    "class GradNetWrtParams(nn.Cell):\n",
    "    def __init__(self, net):\n",
    "        super(GradNetWrtParams, self).__init__()\n",
    "        self.net = net\n",
    "        self.params = ParameterTuple(net.trainable_params())\n",
    "        self.grad_op = ops.GradOperation(get_by_list=True)\n",
    "\n",
    "    def construct(self, x, y):\n",
    "        return self.grad_op(self.net, self.params)(x, y)\n",
    "\n",
    "# Define network and loss function\n",
    "net = nn.Dense(3, 3, weight_init='ones', bias_init='zeros')\n",
    "loss = nn.MSELoss()\n",
    "\n",
    "# Create a combined network that includes loss\n",
    "class NetWithLoss(nn.Cell):\n",
    "    def __init__(self, network, loss_fn):\n",
    "        super(NetWithLoss, self).__init__()\n",
    "        self.network = network\n",
    "        self.loss_fn = loss_fn\n",
    "\n",
    "    def construct(self, x, y):\n",
    "        out = self.network(x)\n",
    "        return self.loss_fn(out, y)\n",
    "\n",
    "net_with_loss = NetWithLoss(net, loss)\n",
    "grad_net = GradNetWrtParams(net_with_loss)\n",
    "\n",
    "x = Tensor(np.array([[1, 2, 3], [4, 5, 6]]).astype(np.float32))\n",
    "y = Tensor(np.array([[0, 1, 0], [1, 0, 1]]).astype(np.float32))\n",
    "print(grad_net(x, y))"
   ]
  },
  {
   "cell_type": "code",
   "execution_count": 74,
   "metadata": {},
   "outputs": [
    {
     "name": "stdout",
     "output_type": "stream",
     "text": [
      "(Tensor(shape=[1], dtype=Float32, value= [ 1.60000000e+01]),)\n"
     ]
    }
   ],
   "source": [
    "# Compute the first-order derivative of the weight.\n",
    "import numpy as np\n",
    "import mindspore.nn as nn\n",
    "import mindspore.ops as ops\n",
    "from mindspore import Tensor\n",
    "from mindspore import ParameterTuple, Parameter\n",
    "from mindspore import dtype as mstype\n",
    "\n",
    "# Output (Tensor(shape=[1], dtype=Float32, value= [ 2.15359993e+01]),)\n",
    "class GradNetWrtParams(nn.Cell):\n",
    "    def __init__(self, net):\n",
    "        super(GradNetWrtParams, self).__init__()\n",
    "        self.net = net\n",
    "        self.params = ParameterTuple(net.trainable_params())\n",
    "        self.grad_op = ops.GradOperation(get_by_list=True)\n",
    "\n",
    "    def construct(self, x):\n",
    "        return self.grad_op(self.net, self.params)(x)\n",
    "\n",
    "# Define a simple function to differentiate\n",
    "def func(x):\n",
    "    return x**2 + 2*x + 1\n",
    "\n",
    "# Create a simple network that implements this function\n",
    "class SimpleNet(nn.Cell):\n",
    "    def __init__(self):\n",
    "        super(SimpleNet, self).__init__()\n",
    "        self.weight = Parameter(Tensor([2.0], mstype.float32), name=\"weight\")\n",
    "    \n",
    "    def construct(self, x):\n",
    "        return self.weight * x**2 + 2*self.weight * x + self.weight\n",
    "\n",
    "net = SimpleNet()\n",
    "grad_net = GradNetWrtParams(net)\n",
    "\n",
    "x = Tensor([3.0], mstype.float32)\n",
    "result = grad_net(x)\n",
    "print(result)"
   ]
  }
 ],
 "metadata": {
  "kernelspec": {
   "display_name": "MindSpore",
   "language": "python",
   "name": "python3"
  },
  "language_info": {
   "codemirror_mode": {
    "name": "ipython",
    "version": 3
   },
   "file_extension": ".py",
   "mimetype": "text/x-python",
   "name": "python",
   "nbconvert_exporter": "python",
   "pygments_lexer": "ipython3",
   "version": "3.7.17"
  }
 },
 "nbformat": 4,
 "nbformat_minor": 4
}
